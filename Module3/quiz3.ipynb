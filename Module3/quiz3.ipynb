{
 "cells": [
  {
   "cell_type": "markdown",
   "metadata": {},
   "source": [
    "# Quiz 3\n",
    "For Penn State student, access quiz [here](https://psu.instructure.com/courses/2177217)"
   ]
  },
  {
   "cell_type": "code",
   "execution_count": 1,
   "metadata": {},
   "outputs": [],
   "source": [
    "import ipywidgets as widgets"
   ]
  },
  {
   "cell_type": "markdown",
   "metadata": {},
   "source": [
    "## Question 1\n",
    "Is $f(x)=e^x$  a convex function? "
   ]
  },
  {
   "cell_type": "markdown",
   "metadata": {},
   "source": [
    "```{dropdown} Show answer\n",
    "Answer: Yes\n",
    "```"
   ]
  },
  {
   "cell_type": "markdown",
   "metadata": {},
   "source": [
    "## Question 2\n",
    "Consider the uniform distribution $\\mathcal X$ on $[-a,a]$ for some number $a>0$. What are the expectation and variance of $\\mathcal X$"
   ]
  },
  {
   "cell_type": "markdown",
   "metadata": {},
   "source": [
    "```{dropdown} Show answer\n",
    "Answer:$0,   \\frac{a^2}{3}.$\n",
    "```"
   ]
  },
  {
   "cell_type": "markdown",
   "metadata": {},
   "source": [
    "## Question 3\n",
    "Suppose you flip a fair icon 3 times. Let $\\chi$ be the number of heads. Calculate the expectation of $\\chi ^2 $"
   ]
  },
  {
   "cell_type": "markdown",
   "metadata": {},
   "source": [
    "```{dropdown} Show answer\n",
    "Answer: 3\n",
    "```"
   ]
  },
  {
   "cell_type": "markdown",
   "metadata": {},
   "source": [
    "## Question 4\n",
    "Consider the function $f(x,y,z)=yz+e^{xyz}$. At the point \n",
    "\n",
    "$\n",
    "    \\begin{pmatrix}\n",
    "    x\\\\\n",
    "    y\\\\\n",
    "    z\n",
    "    \\end{pmatrix}\n",
    "    =\n",
    "    \\begin{pmatrix}\n",
    "    0\\\\\n",
    "    1\\\\\n",
    "    2\n",
    "    \\end{pmatrix}\n",
    "$\n",
    "\n",
    "find the direction along which the function decreases most rapidly.\n"
   ]
  },
  {
   "cell_type": "markdown",
   "metadata": {},
   "source": [
    "```{dropdown} Show answer\n",
    "Answer: $\\begin{pmatrix} -2\\\\-2\\\\-1\\end{pmatrix}$\n",
    "```"
   ]
  },
  {
   "cell_type": "markdown",
   "metadata": {},
   "source": [
    "## Question 5\n",
    "Consider $f(x,y)=2x^2+2y^2.$ Given initial guess \n",
    "\n",
    "$\n",
    "    \\begin{pmatrix}\n",
    "    x^0\\\\\n",
    "    y^0\n",
    "    \\end{pmatrix}\n",
    "    =\n",
    "    \\begin{pmatrix}\n",
    "    2\\\\\n",
    "    3\n",
    "    \\end{pmatrix}\n",
    "$\n",
    "\n",
    "$\\eta =1/8$ \n",
    "\n",
    "compute two steps of the gradient  descent method for $f(x,y)$"
   ]
  },
  {
   "cell_type": "markdown",
   "metadata": {},
   "source": [
    "```{dropdown} Show answer\n",
    "Answer: \n",
    "\n",
    "$\n",
    "    \\begin{pmatrix}\n",
    "    x^2\\\\\n",
    "    y^2\n",
    "    \\end{pmatrix}\n",
    "    =\n",
    "    \\begin{pmatrix}\n",
    "    \\frac {1}{2}\\\\\n",
    "    \\frac {3}{4}\n",
    "    \\end{pmatrix}\n",
    "$\n",
    "```"
   ]
  },
  {
   "cell_type": "markdown",
   "metadata": {},
   "source": [
    "## Question 6\n",
    "What is output of the following code?"
   ]
  },
  {
   "cell_type": "code",
   "execution_count": null,
   "metadata": {
    "tags": [
     "hide-output"
    ]
   },
   "outputs": [],
   "source": [
    "class test:\n",
    "        def _ _init_ _(self, a):\n",
    "               self.a=a\n",
    "        def display(self):\n",
    "               print(self.a)\n",
    "obj = test()\n",
    "obj.display()"
   ]
  },
  {
   "cell_type": "markdown",
   "metadata": {},
   "source": [
    "```{dropdown} Show answer\n",
    "Answer: Error as one argument is required while creating the object\n",
    "```"
   ]
  },
  {
   "cell_type": "markdown",
   "metadata": {},
   "source": [
    "## Question 7\n",
    "If we use \"import Course'' in Python, what is \"Course\"?"
   ]
  },
  {
   "cell_type": "markdown",
   "metadata": {},
   "source": [
    "```{dropdown} Show answer\n",
    "    Answer: A module\n",
    "```"
   ]
  },
  {
   "cell_type": "markdown",
   "metadata": {},
   "source": [
    "## Question 8\n",
    "What is the output of the following code:"
   ]
  },
  {
   "cell_type": "code",
   "execution_count": null,
   "metadata": {
    "tags": [
     "hide-output"
    ]
   },
   "outputs": [],
   "source": [
    "print('{}\\n/{}'.format(1,2))"
   ]
  },
  {
   "cell_type": "markdown",
   "metadata": {},
   "source": [
    "```{dropdown} Show answer\n",
    "Answer: 1\n",
    "\n",
    "/2\n",
    "```"
   ]
  },
  {
   "cell_type": "markdown",
   "metadata": {},
   "source": [
    "## Question 9\n",
    "How to define stochastic gradient descent method with learing rate=1 after:"
   ]
  },
  {
   "cell_type": "code",
   "execution_count": null,
   "metadata": {
    "tags": [
     "hide-output"
    ]
   },
   "outputs": [],
   "source": [
    "import torch.optim\n",
    "import torch.nn as nn\n",
    "my_model=nn.Linear(784,10)"
   ]
  },
  {
   "cell_type": "markdown",
   "metadata": {},
   "source": [
    "```{dropdown} Show answer\n",
    "Answer: optimizer = torch.optim.SGD(my_model.parameters(), lr=1)\n",
    "```"
   ]
  },
  {
   "cell_type": "markdown",
   "metadata": {},
   "source": [
    "## Queation 10\n",
    "For MNIST dataset, if we would like to use full gradient descent method, how should we define the trainloader?"
   ]
  },
  {
   "cell_type": "markdown",
   "metadata": {},
   "source": [
    "```{dropdown} Show answer\n",
    "Answer:trainloader = torch.utils.data.DataLoader(trainset, batch_size=60000)\n",
    "```"
   ]
  },
  {
   "cell_type": "code",
   "execution_count": null,
   "metadata": {},
   "outputs": [],
   "source": []
  }
 ],
 "metadata": {
  "celltoolbar": "Tags",
  "kernelspec": {
   "display_name": "Python 3",
   "language": "python",
   "name": "python3"
  },
  "language_info": {
   "codemirror_mode": {
    "name": "ipython",
    "version": 3
   },
   "file_extension": ".py",
   "mimetype": "text/x-python",
   "name": "python",
   "nbconvert_exporter": "python",
   "pygments_lexer": "ipython3",
   "version": "3.8.8"
  }
 },
 "nbformat": 4,
 "nbformat_minor": 2
}
