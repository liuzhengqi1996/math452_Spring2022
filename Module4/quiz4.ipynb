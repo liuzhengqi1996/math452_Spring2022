{
 "cells": [
  {
   "cell_type": "markdown",
   "metadata": {},
   "source": [
    "# Quiz 4\n",
    "For Penn State student, access quiz [here](https://psu.instructure.com/courses/2177217)"
   ]
  },
  {
   "cell_type": "code",
   "execution_count": 1,
   "metadata": {},
   "outputs": [],
   "source": [
    "import ipywidgets as widgets"
   ]
  },
  {
   "cell_type": "markdown",
   "metadata": {},
   "source": [
    "## Question 1\n",
    "Consider \n",
    "\n",
    "$$\n",
    "    g=\\begin{pmatrix}\n",
    "    1 & 2 & 1 & 1\\\\\n",
    "    0 & 0 & 2 & 0\\\\\n",
    "    0 & 2 & 2 & 0\\\\\n",
    "    1 & 1 & 1 & 1\n",
    "    \\end{pmatrix},\n",
    "$$\n",
    "and kernel\n",
    "\n",
    "$$\n",
    "    K = \n",
    "    \\begin{pmatrix}\n",
    "    0 & 0 & 1\\\\\n",
    "    0 & 1 & 0\\\\\n",
    "    1 & 0 & 0\n",
    "    \\end{pmatrix}.\n",
    "$$\n",
    "\n",
    "Then what is the outcome of convolution for one channel \n",
    "\n",
    "with stride one and zero padding $ f = K\\ast g $\n"
   ]
  },
  {
   "cell_type": "markdown",
   "metadata": {},
   "source": [
    "```{dropdown} Show answer\n",
    "Answer:\n",
    "$\n",
    "    f = \\begin{pmatrix}\n",
    "    1 & 2 & 1 & 3\\\\\n",
    "    2 & 1 & 5 & 2\\\\\n",
    "    0 & 5 & 3 & 1\\\\\n",
    "    3 & 3 & 1 & 1\n",
    "    \\end{pmatrix}\n",
    "$\n",
    "```"
   ]
  },
  {
   "cell_type": "markdown",
   "metadata": {},
   "source": [
    "## Question 2\n",
    "How many parameters are needed when using a 3x3 convolutional operations with 2 input and 5 output channels?"
   ]
  },
  {
   "cell_type": "markdown",
   "metadata": {},
   "source": [
    "```{dropdown} Show answer\n",
    "Answer: 90\n",
    "```"
   ]
  },
  {
   "cell_type": "markdown",
   "metadata": {},
   "source": [
    "## Question 3\n",
    "Consider a two channel image (tensor) $g \\in \\mathbb{R}^{2\\times 5\\times 5}$. Let define $f = K\\ast g$ by convolution for multi-channel with stride-two and zero padding, where $K \\in \\mathbb{R}^{3\\times 2\\times 3\\times3}$ ($K_{i,j} \\in \\mathbb{R}^{3\\times 3}$ for $i=1,2,3$ and $j=1,2$). What is the right dimension (size) of $f$."
   ]
  },
  {
   "cell_type": "markdown",
   "metadata": {},
   "source": [
    "```{dropdown} Show answer\n",
    "Answer: $f \\in \\mathbb{R}^{3\\times 3\\times 3}$\n",
    "```"
   ]
  },
  {
   "cell_type": "markdown",
   "metadata": {},
   "source": [
    "## Question 4\n",
    "Given \n",
    "\n",
    "$$\n",
    "    \\tilde{M}=\n",
    "    \\left(\n",
    "    \\begin{array}{ccccc}\n",
    "    4& 1&&&\\\\\n",
    "    1&4&1&&\\\\\n",
    "    &\\ddots&\\ddots&\\ddots&\\\\\n",
    "    &&1&4&1\\\\\n",
    "    &&&1&4\\\\\n",
    "    \\end{array}\n",
    "    \\right)\\in \\mathbb R^{n\\times n}\n",
    "$$\n",
    "\n",
    "Write out the kernel $M$ such that for any $\\mu\\in \\mathbb R^n$ (with zero padding)\n",
    "$\\tilde{M}\\mu=M\\ast \\mu.$"
   ]
  },
  {
   "cell_type": "markdown",
   "metadata": {},
   "source": [
    "```{dropdown} Show answer\n",
    "Answer: $M=(1,4,1)$\n",
    "```"
   ]
  },
  {
   "cell_type": "markdown",
   "metadata": {},
   "source": [
    "## Question 5\n",
    "Consider a mesh $\\mathcal T_1$ of $[0, 1]$ with mesh size $h_1=\\frac14$, namely $[0,1]=[0,\\frac14]\\cup [\\frac14,\\frac12]\\cup [\\frac12, \\frac34]\\cup[\\frac34,1]$ and the corresponding basis function \n",
    " $\\phi^1_1(x), \\phi^1_2(x), \\phi^1_3(x)$. \n",
    " Next we consider another mesh $\\mathcal T_2$ of $[0, 1]$ with mesh size $h_2=\\frac12$, namely \n",
    " $[0, 1]=[0,\\frac12]\\cup [\\frac12,1]$ and the corresponding basis function $\\phi_1^2(x)$.\n",
    " Find $a_1,a_2,a_3$ such that \n",
    " $\n",
    " \\phi_1^2(x)=a_1\\phi_1^1(x)+a_2\\phi_2^1(x)+a_3\\phi_3^1(x).\n",
    " $"
   ]
  },
  {
   "cell_type": "markdown",
   "metadata": {},
   "source": [
    "```{dropdown} Show answer\n",
    "Answer: $(a_1,a_2,a_3)=(\\frac{1}{2},1,\\frac{1}{2})$\n",
    "```"
   ]
  },
  {
   "cell_type": "markdown",
   "metadata": {},
   "source": [
    "## Question 6\n",
    "What is output of the following code?"
   ]
  },
  {
   "cell_type": "code",
   "execution_count": null,
   "metadata": {
    "tags": [
     "hide-output"
    ]
   },
   "outputs": [],
   "source": [
    "conv1 = torch.nn.Conv2d(in_channels=1, out_channels=2, kernel_size=3)\n",
    "\n",
    "print(conv1.weight.size())"
   ]
  },
  {
   "cell_type": "markdown",
   "metadata": {},
   "source": [
    "```{dropdown} Show answer\n",
    "Answer: torch.Size([2, 1, 3, 3])\n",
    "```"
   ]
  },
  {
   "cell_type": "markdown",
   "metadata": {},
   "source": [
    "## Question 7\n",
    "What is the output of the following code:"
   ]
  },
  {
   "cell_type": "code",
   "execution_count": null,
   "metadata": {
    "tags": [
     "hide-output"
    ]
   },
   "outputs": [],
   "source": [
    "import torch.nn.functional as F\n",
    "\n",
    "x = torch.tensor([[[1,1,2,2],[0,0,0,0],[3,3,4,4],[0,0,0,0]]],dtype=float)\n",
    "\n",
    "max_x = F.max_pool2d(x,2)\n",
    "\n",
    "avg_x = F.avg_pool2d(x,2)\n",
    "\n",
    "\n",
    "print(max_x,'\\n',avg_x)"
   ]
  },
  {
   "cell_type": "markdown",
   "metadata": {},
   "source": [
    "```{dropdown} Show answer\n",
    "Answer:tensor([[[1.0, 2.0],[3.0, 4.0]]])\n",
    "tensor([[[0.5, 1.0],[1.5, 2.0]]])\n",
    "```"
   ]
  },
  {
   "cell_type": "markdown",
   "metadata": {},
   "source": [
    "## Question 8\n",
    "What is the output of the following code:"
   ]
  },
  {
   "cell_type": "code",
   "execution_count": null,
   "metadata": {
    "tags": [
     "hide-output"
    ]
   },
   "outputs": [],
   "source": [
    "x = torch.randn(1, 3, 4, 4)\n",
    "\n",
    "x = x.view(x.size(0), -1) \n",
    "\n",
    "print(x.size())"
   ]
  },
  {
   "cell_type": "markdown",
   "metadata": {},
   "source": [
    "```{dropdown} Show answer\n",
    "Answer: torch.Size([1, 48])\n",
    "```"
   ]
  },
  {
   "cell_type": "markdown",
   "metadata": {},
   "source": [
    "## Question 9\n",
    "If we ask that the learning rate is divided by 5 every 30 epochs, given the initial learning is 1, what code should we run?"
   ]
  },
  {
   "cell_type": "markdown",
   "metadata": {},
   "source": [
    "```{dropdown} Show answer\n",
    "Answer: lr = 1 * 0.2 ** (epoch // 30)\n",
    "```"
   ]
  }
 ],
 "metadata": {
  "celltoolbar": "Tags",
  "kernelspec": {
   "display_name": "Python 3",
   "language": "python",
   "name": "python3"
  },
  "language_info": {
   "codemirror_mode": {
    "name": "ipython",
    "version": 3
   },
   "file_extension": ".py",
   "mimetype": "text/x-python",
   "name": "python",
   "nbconvert_exporter": "python",
   "pygments_lexer": "ipython3",
   "version": "3.8.8"
  }
 },
 "nbformat": 4,
 "nbformat_minor": 2
}
