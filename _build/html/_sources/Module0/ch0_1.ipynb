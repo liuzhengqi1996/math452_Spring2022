{
 "cells": [
  {
   "cell_type": "markdown",
   "metadata": {},
   "source": [
    "# Course information, requirements and reference\n",
    "\n"
   ]
  },
  {
   "cell_type": "code",
   "execution_count": 3,
   "metadata": {
    "tags": [
     "hide-input"
    ]
   },
   "outputs": [
    {
     "data": {
      "text/html": [
       "\n",
       "        <iframe\n",
       "            width=\"800\"\n",
       "            height=\"500\"\n",
       "            src=\"https://cdnapisec.kaltura.com/p/2356971/sp/235697100/embedIframeJs/uiconf_id/41416911/partner_id/2356971?iframeembed=true&playerId=kaltura_player&entry_id=1_b5pq3bnx&flashvars[streamerType]=auto&amp;flashvars[localizationCode]=en&amp;flashvars[leadWithHTML5]=true&amp;flashvars[sideBarContainer.plugin]=true&amp;flashvars[sideBarContainer.position]=left&amp;flashvars[sideBarContainer.clickToClose]=true&amp;flashvars[chapters.plugin]=true&amp;flashvars[chapters.layout]=vertical&amp;flashvars[chapters.thumbnailRotator]=false&amp;flashvars[streamSelector.plugin]=true&amp;flashvars[EmbedPlayer.SpinnerTarget]=videoHolder&amp;flashvars[dualScreen.plugin]=true&amp;flashvars[hotspots.plugin]=1&amp;flashvars[Kaltura.addCrossoriginToIframe]=true&amp;&wid=1_131rzy9w\"\n",
       "            frameborder=\"0\"\n",
       "            allowfullscreen\n",
       "        ></iframe>\n",
       "        "
      ],
      "text/plain": [
       "<IPython.lib.display.IFrame at 0x10fed7970>"
      ]
     },
     "execution_count": 3,
     "metadata": {},
     "output_type": "execute_result"
    }
   ],
   "source": [
    "from IPython.display import IFrame\n",
    "\n",
    "IFrame(src=\"https://cdnapisec.kaltura.com/p/2356971/sp/235697100/embedIframeJs/uiconf_id/41416911/partner_id/2356971?iframeembed=true&playerId=kaltura_player&entry_id=1_b5pq3bnx&flashvars[streamerType]=auto&amp;flashvars[localizationCode]=en&amp;flashvars[leadWithHTML5]=true&amp;flashvars[sideBarContainer.plugin]=true&amp;flashvars[sideBarContainer.position]=left&amp;flashvars[sideBarContainer.clickToClose]=true&amp;flashvars[chapters.plugin]=true&amp;flashvars[chapters.layout]=vertical&amp;flashvars[chapters.thumbnailRotator]=false&amp;flashvars[streamSelector.plugin]=true&amp;flashvars[EmbedPlayer.SpinnerTarget]=videoHolder&amp;flashvars[dualScreen.plugin]=true&amp;flashvars[hotspots.plugin]=1&amp;flashvars[Kaltura.addCrossoriginToIframe]=true&amp;&wid=1_131rzy9w\",width='800', height='500')\n"
   ]
  },
  {
   "cell_type": "markdown",
   "metadata": {},
   "source": [
    "## Course Instructor and Assistants\n",
    "- Instructor: Qingguo Hong\n",
    "- Email: huq11@psu.edu\n",
    "- Grader: Haiyang Luo\n",
    "- Email: hml5369@psu.edu\n",
    "- Live section: T,Th: 11:30 -12:20 AM [https://psu.zoom.us/s/97938047724]\n",
    "- Questions and additional office hours: email to huq11@psu.edu\n",
    "- Consultant: Professor Stanley Smith"
   ]
  },
  {
   "cell_type": "markdown",
   "metadata": {},
   "source": [
    "## Course Description\n",
    "### Class time (recorded videos):\n",
    "- lectures providing motivations, description and mathematical analysis of deep learning algorithms\n",
    "- hands-on coding exercises for python programming for deep learning algorithms\n",
    "### Detailed course materials and forms:\n",
    "- pre-recorded video lectures\n",
    "- typed lecture notes\n",
    "- live discussions\n",
    "- programming subroutines\n",
    "- theoretical and practical exercises\n",
    "### Interactive programming environment:\n",
    "- Click the \"Binder\" icon under Rocket icon:\n",
    "![rocket](./rocket.png)\n",
    "- !!! Attention: the interactive programming environment won't save your code"
   ]
  },
  {
   "cell_type": "markdown",
   "metadata": {},
   "source": [
    "## Course Description and Syllabus\n",
    "Main topics include:\n",
    "- Basics of machine learning and probability\n",
    "- Logistic regression and support vector machine\n",
    "- Gradient descent method and training algorithms\n",
    "- Polynomial approximation and Weierstrass theorem\n",
    "- Linear finite element spaces\n",
    "- Deep neural networks and mathematical properties\n",
    "- Convolutional neural networks\n",
    "- Multigrid methods and MgNet\n",
    "- PyTorch and deep learning for image classification\n",
    "- Other applications"
   ]
  },
  {
   "cell_type": "markdown",
   "metadata": {},
   "source": [
    "## Grading Policies\n",
    "- Homework and programing assignments (collecting every week) (40%)\n",
    "- midterm exam (20%)\n",
    "- final projects and exam (40%)"
   ]
  },
  {
   "cell_type": "markdown",
   "metadata": {},
   "source": [
    "## Prerequisites, References and Resources\n",
    "### Prerequisites\n",
    "- Linear algebra (MATH 220);\n",
    "- Multi-variable calculus (MATH 230 or 231);\n",
    "- Some programming experiences are helpful.\n",
    "For those who are not familiar with Python, see tutorials in:\n",
    "http://www.personal.psu.edu/jxx1/teaching/onlinecourse2020/index.html\n",
    "### References and resources:\n",
    "Xu J. Deep Neural Networks and Multigrid Methods, (Lecture Notes at Penn State), 2019.\n",
    "Goodfellow I, Bengio Y, Courville A. Deep learning. MIT press, 2016.\n",
    "Friedman J, Hastie T, Tibshirani R. The elements of statistical learning. New York: Springer\n",
    "series in statistics, 2001.\n",
    "CS231n (Stanford): http://cs231n.stanford.edu"
   ]
  },
  {
   "cell_type": "code",
   "execution_count": null,
   "metadata": {},
   "outputs": [],
   "source": []
  }
 ],
 "metadata": {
  "celltoolbar": "Tags",
  "kernelspec": {
   "display_name": "Python 3",
   "language": "python",
   "name": "python3"
  },
  "language_info": {
   "codemirror_mode": {
    "name": "ipython",
    "version": 3
   },
   "file_extension": ".py",
   "mimetype": "text/x-python",
   "name": "python",
   "nbconvert_exporter": "python",
   "pygments_lexer": "ipython3",
   "version": "3.8.8"
  }
 },
 "nbformat": 4,
 "nbformat_minor": 5
}
