{
 "cells": [
  {
   "cell_type": "markdown",
   "id": "716eb016",
   "metadata": {},
   "source": [
    "# Homework 4"
   ]
  },
  {
   "cell_type": "markdown",
   "id": "534f6720",
   "metadata": {},
   "source": [
    "## Download the Module 4 homework here: [Homework4](https://sites.psu.edu/math452/files/2022/02/HWWeek4.pdf)"
   ]
  },
  {
   "cell_type": "code",
   "execution_count": null,
   "id": "ee59e840",
   "metadata": {},
   "outputs": [],
   "source": []
  }
 ],
 "metadata": {
  "kernelspec": {
   "display_name": "Python 3",
   "language": "python",
   "name": "python3"
  },
  "language_info": {
   "codemirror_mode": {
    "name": "ipython",
    "version": 3
   },
   "file_extension": ".py",
   "mimetype": "text/x-python",
   "name": "python",
   "nbconvert_exporter": "python",
   "pygments_lexer": "ipython3",
   "version": "3.9.6"
  }
 },
 "nbformat": 4,
 "nbformat_minor": 5
}