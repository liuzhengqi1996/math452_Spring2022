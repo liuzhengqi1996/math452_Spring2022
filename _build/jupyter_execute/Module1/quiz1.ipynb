{
 "cells": [
  {
   "cell_type": "markdown",
   "id": "74cfe843",
   "metadata": {},
   "source": [
    "# Quiz 1\n",
    "For Penn State student, access quiz [here](https://psu.instructure.com/courses/2177217/quizzes/4421196)"
   ]
  },
  {
   "cell_type": "code",
   "execution_count": 1,
   "id": "7253864e",
   "metadata": {
    "tags": [
     "hide-input"
    ]
   },
   "outputs": [],
   "source": [
    "import ipywidgets as widgets"
   ]
  },
  {
   "cell_type": "markdown",
   "id": "e82f8220",
   "metadata": {},
   "source": [
    "## Question 1\n",
    "Consider three sets \n",
    "\n",
    "$$\n",
    "    A_1=\\{(x,y)\\in R^2:x^2+y^2\\le \\frac{1}{4}\\}, \\quad A_2=\\{(x,y)\\in R^2:(x-\\frac{1}{2})^2+y^2\\le \\frac{1}{4}\\}\n",
    "$$\n",
    "\n",
    "and $A_3=\\{(x,y)\\in R^2:(x-\\frac{3}{2})^2+y^2\\le \\frac{1}{4}\\}$\n",
    "\n",
    "Which two sets are linearly separable ?\n",
    "\n"
   ]
  },
  {
   "cell_type": "markdown",
   "id": "ff4b5ac7",
   "metadata": {},
   "source": [
    "```{dropdown} Show answer\n",
    "Answer:  $A_1$,$A_3$ are linearly separable\n",
    "```"
   ]
  },
  {
   "cell_type": "markdown",
   "id": "690ecb91",
   "metadata": {},
   "source": [
    "## Question 2\n",
    "Consider three sets $A_1,A_2,A_3\\subset R^d$, and three sentences listed below\n",
    "\n",
    "-A: $A_1,A_2,A_3$ are all-vs-one linearly separable.\n",
    "\n",
    "-B: $A_1,A_2,A_3$ are  linearly separable.\n",
    "\n",
    "-C: $A_1,A_2,A_3$ are pairwise linearly separable.\n",
    "\n",
    "Which sentence implies other sentence ? "
   ]
  },
  {
   "cell_type": "markdown",
   "id": "7b6057a8",
   "metadata": {},
   "source": [
    "```{dropdown} Show answer\n",
    "Answer: A implies B; C implies B\n",
    "```"
   ]
  },
  {
   "cell_type": "markdown",
   "id": "0ea8d831",
   "metadata": {},
   "source": [
    "## Question 3 \n",
    "Let \n",
    "\n",
    "$$\n",
    "    \\boldsymbol a=\n",
    "\\begin{bmatrix}\n",
    "1\\\\\n",
    "1\\\\\n",
    "1\\\\\n",
    "\\vdots\\\\\n",
    "1\n",
    "\\end{bmatrix}\n",
    "\\in R^n, A=\\boldsymbol a\\boldsymbol a^T\n",
    "$$\n",
    "\n",
    "Compute the eigenvalues and corresponding eigenvectors of $A$.\n",
    "Write out solution"
   ]
  },
  {
   "cell_type": "markdown",
   "id": "e5d8b80f",
   "metadata": {},
   "source": [
    "```{dropdown} Show answer\n",
    "$$\n",
    "    \\lambda =n , x = \\begin{bmatrix}\n",
    "1\\\\\n",
    "1\\\\\n",
    "1\\\\\n",
    "\\vdots \\\\\n",
    "1\n",
    "\\end{bmatrix}\n",
    "$$ \n",
    "\n",
    "$$\n",
    "    \\lambda = 0,\n",
    "    x = \\begin{bmatrix}1\\\\-1\\\\0\\\\0\\\\ \\vdots\\\\0 \\end{bmatrix}\n",
    "    \\begin{bmatrix}1\\\\0\\\\-1\\\\0\\\\ \\vdots\\\\0 \\end{bmatrix}\n",
    "    \\cdots\n",
    "    \\begin{bmatrix}1\\\\0\\\\ \\vdots\\\\0\\\\0\\\\-1\\end{bmatrix}\n",
    "$$\n",
    "```"
   ]
  },
  {
   "cell_type": "markdown",
   "id": "10e65234",
   "metadata": {},
   "source": [
    "## Question 4\n",
    "Determine the global minimizer and the global minimum of the function\n",
    " $f(x,y)=e^{(x-2)^2+y^2+2x^2+2xy+2(y-4)^2+4y-16x} $"
   ]
  },
  {
   "cell_type": "markdown",
   "id": "34ce1094",
   "metadata": {},
   "source": [
    "```{dropdown} Show answer\n",
    "Minimizer (3,1), Minimum 1.\n",
    "\n",
    "```"
   ]
  },
  {
   "cell_type": "markdown",
   "id": "38b20257",
   "metadata": {},
   "source": [
    "## Question 5\n",
    "Let \n",
    "\n",
    "$$\n",
    "    \\boldsymbol x\\in R^3, A=\\left[\n",
    "\\begin{matrix}\n",
    "1&2&3\\\\\n",
    "0&4&1\\\\\n",
    "-1&-1&3\n",
    "\\end{matrix}\n",
    "\\right]\\in R^{3\\times 3}\n",
    "$$\n",
    "\n",
    "Compute the Hessian matrix of the multivariable function $f(\\boldsymbol x)=\\frac{1}{2} \\boldsymbol x^TA \\boldsymbol x.$\n",
    "\n"
   ]
  },
  {
   "cell_type": "markdown",
   "id": "7519bc95",
   "metadata": {},
   "source": [
    "```{dropdown} Show answer\n",
    "$\\frac{1}{2}(A+A^T)$\n",
    "```"
   ]
  },
  {
   "cell_type": "markdown",
   "id": "b17f76d2",
   "metadata": {},
   "source": [
    "## Question 6\n",
    "To define \n",
    "\n",
    "$$\n",
    "    A=\n",
    "\\begin{bmatrix}\n",
    "1&2&3\\\\\n",
    "4&5&6\\\\\n",
    "7&8&9\n",
    "\\end{bmatrix}\n",
    "$$\n",
    "\n",
    "what Python code should you use ? \n"
   ]
  },
  {
   "cell_type": "markdown",
   "id": "2ca149aa",
   "metadata": {},
   "source": [
    "```{dropdown} Show answer\n",
    " A = torch.tensor([[1,2,3],[4,5,6],[7,8,9]])\n",
    "```"
   ]
  },
  {
   "cell_type": "markdown",
   "id": "fdf3d0aa",
   "metadata": {},
   "source": [
    "## Question 7\n",
    "How to define a function $f(x,y)=x^2+y$"
   ]
  },
  {
   "cell_type": "markdown",
   "id": "48b8bbf1",
   "metadata": {},
   "source": [
    "```{dropdown} Show answer\n",
    "    def f(x,y):\n",
    "        return x**2+y\n",
    "```"
   ]
  },
  {
   "cell_type": "markdown",
   "id": "a1fbebfb",
   "metadata": {},
   "source": [
    "## Question 8\n",
    "What is the output of the following code:\n",
    "\n"
   ]
  },
  {
   "cell_type": "code",
   "execution_count": 2,
   "id": "4239c947",
   "metadata": {
    "tags": [
     "hide-output"
    ]
   },
   "outputs": [
    {
     "name": "stdout",
     "output_type": "stream",
     "text": [
      "Salary: 8000\n"
     ]
    }
   ],
   "source": [
    "salary = 8000\n",
    "\n",
    "def printSalary(salary):\n",
    "    if salary < 10000:\n",
    "        salary = 10000\n",
    "    else:\n",
    "        print(\"Salary:\", salary)\n",
    "  \n",
    "printSalary(salary)\n",
    "print(\"Salary:\", salary)"
   ]
  },
  {
   "cell_type": "markdown",
   "id": "f9b5f541",
   "metadata": {},
   "source": [
    "```{dropdown} Show answer\n",
    "  Salary: 8000\n",
    "```"
   ]
  },
  {
   "cell_type": "markdown",
   "id": "7a1ea604",
   "metadata": {},
   "source": [
    "## Question 9\n",
    "What are the outputs of the following code?"
   ]
  },
  {
   "cell_type": "code",
   "execution_count": 3,
   "id": "f9eb317e",
   "metadata": {
    "tags": [
     "hide-output"
    ]
   },
   "outputs": [
    {
     "name": "stdout",
     "output_type": "stream",
     "text": [
      "yn\n"
     ]
    }
   ],
   "source": [
    "str = \"pynative\"\n",
    "print (str[1:3])"
   ]
  },
  {
   "cell_type": "markdown",
   "id": "d989f882",
   "metadata": {},
   "source": [
    "```{dropdown} Show answer\n",
    "yn\n",
    "```"
   ]
  },
  {
   "cell_type": "markdown",
   "id": "8baa04b5",
   "metadata": {},
   "source": [
    "## Question 10\n",
    "What are the outputs of the following code?"
   ]
  },
  {
   "cell_type": "code",
   "execution_count": 4,
   "id": "ba89f169",
   "metadata": {
    "tags": [
     "hide-output"
    ]
   },
   "outputs": [
    {
     "name": "stdout",
     "output_type": "stream",
     "text": [
      "The number of swap operation is 6\n",
      "[8, 5, 4, 2, 1]\n"
     ]
    }
   ],
   "source": [
    "def my_sort(nums):\n",
    "    count=0\n",
    "    for i in range(len(nums)-1):\n",
    "        for j in range(i+1,len(nums)):\n",
    "            if nums[j] > nums[i]:\n",
    "                count = count+1\n",
    "                num_temp = nums[j]\n",
    "                nums[j] = nums[i]\n",
    "                nums[i] = num_temp\n",
    "    print('The number of swap operation is',count)\n",
    "    return nums\n",
    "list_of_nums = [5, 1, 2, 8, 4]\n",
    "print(my_sort(list_of_nums))"
   ]
  },
  {
   "cell_type": "markdown",
   "id": "a7ea3179",
   "metadata": {},
   "source": [
    "```{dropdown} Show answer\n",
    "The number of swap operations is 6 \n",
    "\n",
    "[8, 5, 4, 2, 1]\n",
    "```"
   ]
  },
  {
   "cell_type": "code",
   "execution_count": null,
   "id": "8de49823",
   "metadata": {},
   "outputs": [],
   "source": []
  }
 ],
 "metadata": {
  "celltoolbar": "Tags",
  "kernelspec": {
   "display_name": "Python 3",
   "language": "python",
   "name": "python3"
  },
  "language_info": {
   "codemirror_mode": {
    "name": "ipython",
    "version": 3
   },
   "file_extension": ".py",
   "mimetype": "text/x-python",
   "name": "python",
   "nbconvert_exporter": "python",
   "pygments_lexer": "ipython3",
   "version": "3.9.6"
  }
 },
 "nbformat": 4,
 "nbformat_minor": 5
}