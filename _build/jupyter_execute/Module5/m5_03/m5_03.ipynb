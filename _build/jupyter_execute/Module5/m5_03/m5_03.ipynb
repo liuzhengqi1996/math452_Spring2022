{
 "cells": [
  {
   "cell_type": "markdown",
   "metadata": {},
   "source": [
    "# Building and Training ResNet with Pytorch"
   ]
  },
  {
   "cell_type": "markdown",
   "metadata": {},
   "source": [
    "This lecture includes:\n",
    "\n",
    "1. Improve the test accuracy\n",
    "    * Normalize the data (D05_CNN.ipynb)\n",
    "    * Weight decay (D05_CNN.ipynb)\n",
    "    * learning rate schedule (D05_CNN.ipynb)\n",
    "    * Initialization\n",
    "    * Batch normalization \n",
    "2. Introduction to ResNet\n",
    "3. Training ResNet18 on Cifar10"
   ]
  },
  {
   "cell_type": "code",
   "execution_count": 1,
   "metadata": {
    "tags": [
     "hide-input"
    ]
   },
   "outputs": [
    {
     "data": {
      "text/html": [
       "\n",
       "<iframe\n",
       "    width=\"800\"\n",
       "    height=\"500\"\n",
       "    src=\"https://cdnapisec.kaltura.com/p/2356971/sp/235697100/embedIframeJs/uiconf_id/41416911/partner_id/2356971?iframeembed=true&playerId=kaltura_player&entry_id=1_698w9wpq&flashvars[streamerType]=auto&amp;flashvars[localizationCode]=en&amp;flashvars[leadWithHTML5]=true&amp;flashvars[sideBarContainer.plugin]=true&amp;flashvars[sideBarContainer.position]=left&amp;flashvars[sideBarContainer.clickToClose]=true&amp;flashvars[chapters.plugin]=true&amp;flashvars[chapters.layout]=vertical&amp;flashvars[chapters.thumbnailRotator]=false&amp;flashvars[streamSelector.plugin]=true&amp;flashvars[EmbedPlayer.SpinnerTarget]=videoHolder&amp;flashvars[dualScreen.plugin]=true&amp;flashvars[hotspots.plugin]=1&amp;flashvars[Kaltura.addCrossoriginToIframe]=true&amp;&wid=1_2ynx11a7\"\n",
       "    frameborder=\"0\"\n",
       "    allowfullscreen\n",
       "></iframe>\n"
      ],
      "text/plain": [
       "<IPython.lib.display.IFrame at 0x7f960535bfd0>"
      ]
     },
     "execution_count": 1,
     "metadata": {},
     "output_type": "execute_result"
    }
   ],
   "source": [
    "from IPython.display import IFrame\n",
    "\n",
    "IFrame(src=\"https://cdnapisec.kaltura.com/p/2356971/sp/235697100/embedIframeJs/uiconf_id/41416911/partner_id/2356971?iframeembed=true&playerId=kaltura_player&entry_id=1_698w9wpq&flashvars[streamerType]=auto&amp;flashvars[localizationCode]=en&amp;flashvars[leadWithHTML5]=true&amp;flashvars[sideBarContainer.plugin]=true&amp;flashvars[sideBarContainer.position]=left&amp;flashvars[sideBarContainer.clickToClose]=true&amp;flashvars[chapters.plugin]=true&amp;flashvars[chapters.layout]=vertical&amp;flashvars[chapters.thumbnailRotator]=false&amp;flashvars[streamSelector.plugin]=true&amp;flashvars[EmbedPlayer.SpinnerTarget]=videoHolder&amp;flashvars[dualScreen.plugin]=true&amp;flashvars[hotspots.plugin]=1&amp;flashvars[Kaltura.addCrossoriginToIframe]=true&amp;&wid=1_2ynx11a7\"  ,width='800', height='500')"
   ]
  },
  {
   "cell_type": "markdown",
   "metadata": {},
   "source": [
    "## 1. Improve the test accuracy\n"
   ]
  },
  {
   "cell_type": "markdown",
   "metadata": {},
   "source": [
    "### Default initialization"
   ]
  },
  {
   "cell_type": "markdown",
   "metadata": {},
   "source": [
    " The values of these weights are sampled from uniform distrubution $U(-\\sqrt{k},\\sqrt{k})$, where \n",
    " \n",
    " $$k=\\frac{1}{\\text{in_channels*kernel_size*kernel_size}}$$ \n",
    " "
   ]
  },
  {
   "cell_type": "code",
   "execution_count": 2,
   "metadata": {},
   "outputs": [
    {
     "ename": "ModuleNotFoundError",
     "evalue": "No module named 'torch'",
     "output_type": "error",
     "traceback": [
      "\u001b[0;31m---------------------------------------------------------------------------\u001b[0m",
      "\u001b[0;31mModuleNotFoundError\u001b[0m                       Traceback (most recent call last)",
      "\u001b[0;32m<ipython-input-2-3a565e6f5e63>\u001b[0m in \u001b[0;36m<module>\u001b[0;34m\u001b[0m\n\u001b[0;32m----> 1\u001b[0;31m \u001b[0;32mimport\u001b[0m \u001b[0mtorch\u001b[0m\u001b[0;34m\u001b[0m\u001b[0;34m\u001b[0m\u001b[0m\n\u001b[0m\u001b[1;32m      2\u001b[0m \u001b[0;32mimport\u001b[0m \u001b[0mtorch\u001b[0m\u001b[0;34m.\u001b[0m\u001b[0mnn\u001b[0m \u001b[0;32mas\u001b[0m \u001b[0mnn\u001b[0m\u001b[0;34m\u001b[0m\u001b[0;34m\u001b[0m\u001b[0m\n\u001b[1;32m      3\u001b[0m \u001b[0;32mimport\u001b[0m \u001b[0mtorch\u001b[0m\u001b[0;34m.\u001b[0m\u001b[0moptim\u001b[0m \u001b[0;32mas\u001b[0m \u001b[0moptim\u001b[0m\u001b[0;34m\u001b[0m\u001b[0;34m\u001b[0m\u001b[0m\n\u001b[1;32m      4\u001b[0m \u001b[0;32mimport\u001b[0m \u001b[0mtorchvision\u001b[0m\u001b[0;34m\u001b[0m\u001b[0;34m\u001b[0m\u001b[0m\n\u001b[1;32m      5\u001b[0m \u001b[0;32mimport\u001b[0m \u001b[0mtorch\u001b[0m\u001b[0;34m.\u001b[0m\u001b[0mnn\u001b[0m\u001b[0;34m.\u001b[0m\u001b[0mfunctional\u001b[0m \u001b[0;32mas\u001b[0m \u001b[0mF\u001b[0m\u001b[0;34m\u001b[0m\u001b[0;34m\u001b[0m\u001b[0m\n",
      "\u001b[0;31mModuleNotFoundError\u001b[0m: No module named 'torch'"
     ]
    }
   ],
   "source": [
    "import torch\n",
    "import torch.nn as nn \n",
    "import torch.optim as optim\n",
    "import torchvision\n",
    "import torch.nn.functional as F\n",
    "\n",
    "#stride default value: 1\n",
    "#padding default vaule: 0\n",
    "class model(nn.Module):\n",
    "    def __init__(self):\n",
    "        super().__init__()\n",
    "        self.conv1 = nn.Conv2d(1, 1, 3)\n",
    "    \n",
    "my_model=model()\n",
    "\n",
    "\n",
    "print(my_model.conv1.weight.size()) # (out_channels, in_channels, kernel_size, kernel_size)\n",
    "print(my_model.conv1.weight)\n"
   ]
  },
  {
   "cell_type": "markdown",
   "metadata": {},
   "source": [
    "### Kaiming He's initialization"
   ]
  },
  {
   "cell_type": "code",
   "execution_count": 3,
   "metadata": {},
   "outputs": [
    {
     "name": "stdout",
     "output_type": "stream",
     "text": [
      "Parameter containing:\n",
      "tensor([[[[-0.1105, -0.2039,  0.7307],\n",
      "          [ 0.7733,  0.3973, -0.1705],\n",
      "          [ 0.1304,  0.7300, -0.5812]]]], requires_grad=True)\n"
     ]
    }
   ],
   "source": [
    "\n",
    "nn.init.kaiming_uniform_(my_model.conv1.weight, nonlinearity='relu')\n",
    "\n",
    "print(my_model.conv1.weight)\n"
   ]
  },
  {
   "cell_type": "markdown",
   "metadata": {},
   "source": [
    "### Xavier's initialization"
   ]
  },
  {
   "cell_type": "code",
   "execution_count": 4,
   "metadata": {},
   "outputs": [
    {
     "name": "stdout",
     "output_type": "stream",
     "text": [
      "Parameter containing:\n",
      "tensor([[[[ 0.5708, -0.4479,  0.1274],\n",
      "          [-0.4728,  0.4622,  0.1476],\n",
      "          [-0.7316,  0.4825, -0.0253]]]], requires_grad=True)\n"
     ]
    }
   ],
   "source": [
    "\n",
    "nn.init.xavier_uniform_(my_model.conv1.weight,gain=nn.init.calculate_gain('relu'))\n",
    "print(my_model.conv1.weight)"
   ]
  },
  {
   "cell_type": "markdown",
   "metadata": {},
   "source": [
    "### Batch normalization"
   ]
  },
  {
   "cell_type": "code",
   "execution_count": 5,
   "metadata": {},
   "outputs": [
    {
     "name": "stdout",
     "output_type": "stream",
     "text": [
      "tensor([[[[ 1.1697,  0.1598,  0.5480,  0.3434],\n",
      "          [ 1.5390, -1.3696,  2.5911,  1.1314],\n",
      "          [ 0.7950, -0.0759,  0.2080,  0.1241],\n",
      "          [-0.2697, -1.3198,  1.7086,  1.3891]]]])\n",
      "tensor([[[[1.0418, 0.0000],\n",
      "          [0.6274, 0.0000]],\n",
      "\n",
      "         [[0.4937, 0.0000],\n",
      "          [0.0000, 1.3936]],\n",
      "\n",
      "         [[0.0079, 0.9730],\n",
      "          [0.0000, 0.6436]],\n",
      "\n",
      "         [[1.4279, 0.0000],\n",
      "          [0.2443, 0.0000]],\n",
      "\n",
      "         [[0.0712, 1.4468],\n",
      "          [0.0000, 0.0000]]]], grad_fn=<ReluBackward0>)\n"
     ]
    }
   ],
   "source": [
    "class model(nn.Module):\n",
    "    def __init__(self):\n",
    "        super().__init__()\n",
    "        self.conv1 = nn.Conv2d(1, 5, 3)\n",
    "        self.bn1 =  nn.BatchNorm2d(5) # Apply bn1 to conv1 5, we need take the arguement be the out_channels of conv1\n",
    "    def forward(self,x):\n",
    "        out = F.relu(self.bn1(self.conv1(x)))\n",
    "        return out\n",
    "\n",
    "input = torch.randn(1, 1, 4, 4)\n",
    "my_model=model()\n",
    "print(input)\n",
    "print(my_model(input))"
   ]
  },
  {
   "cell_type": "markdown",
   "metadata": {},
   "source": [
    "## 2. ResNet"
   ]
  },
  {
   "cell_type": "code",
   "execution_count": 6,
   "metadata": {},
   "outputs": [
    {
     "name": "stdout",
     "output_type": "stream",
     "text": [
      "Input: torch.Size([10, 3, 32, 32])\n",
      "Initial: torch.Size([10, 64, 32, 32])\n",
      "Apply layer1: torch.Size([10, 64, 32, 32])\n",
      "Apply layer2: torch.Size([10, 128, 16, 16])\n",
      "Apply layer3: torch.Size([10, 256, 8, 8])\n",
      "Apply layer4: torch.Size([10, 512, 4, 4])\n",
      "Apply average pooling: torch.Size([10, 512, 1, 1])\n",
      "Output: torch.Size([10, 10])\n"
     ]
    }
   ],
   "source": [
    "'''ResNet in PyTorch.\n",
    "\n",
    "Reference:\n",
    "[1] Kaiming He, Xiangyu Zhang, Shaoqing Ren, Jian Sun\n",
    "    Deep Residual Learning for Image Recognition. arXiv:1512.03385\n",
    "'''\n",
    "import torch\n",
    "import torch.nn as nn\n",
    "import torch.nn.functional as F\n",
    "\n",
    "class BasicBlock(nn.Module):\n",
    "    def __init__(self, in_planes, planes, stride):\n",
    "        super().__init__()\n",
    "        self.conv1 = nn.Conv2d(in_planes, planes, kernel_size=3, stride=stride, padding=1, bias=False)\n",
    "        self.bn1 = nn.BatchNorm2d(planes)\n",
    "        self.conv2 = nn.Conv2d(planes, planes, kernel_size=3, stride=1, padding=1, bias=False)\n",
    "        self.bn2 = nn.BatchNorm2d(planes)\n",
    "\n",
    "        self.shortcut = nn.Sequential()\n",
    "        if stride != 1:\n",
    "            self.shortcut = nn.Sequential(nn.Conv2d(in_planes, planes, kernel_size=1, stride=stride, bias=False),\n",
    "                                          nn.BatchNorm2d(planes))\n",
    "\n",
    "        # (1) If stride = 1, we are using the operations (6.32) in Algorithm 8 in 497Notes.pdf.\n",
    "        #         the self.shortcut = nn.Sequential() does nothing to input data x\n",
    "        # (2) If stride != 1, we are using the operations (6.33) in Algorithn 8 in 497Notes.pdf.\n",
    "     \n",
    "        #         in __init__() step: \n",
    "        #         the self.shortcut = nn.Sequential(nn.Conv2d(in_planes, planes, kernel_size=1, stride=stride, bias=False),nn.BatchNorm2d(planes)) \n",
    "        #         is equivalent to\n",
    "        #         self.conv3 = nn.Conv2d(in_planes, planes, kernel_size=1, stride=stride, bias=False)\n",
    "        #         self.bn3 = nn.BatchNorm2d(planes)\n",
    "        \n",
    "        #         in forward(self,x) step:\n",
    "        #             self.shortcut(x) is equivalent to  self.bn3(self.conv3(x))\n",
    "\n",
    "    def forward(self, x):\n",
    "        out = F.relu(self.bn1(self.conv1(x)))\n",
    "        out = self.bn2(self.conv2(out))\n",
    "        out += self.shortcut(x)\n",
    "        out = F.relu(out)\n",
    "        return out\n",
    "\n",
    "\n",
    "class ResNet(nn.Module):\n",
    "    def __init__(self, block, num_blocks, num_classes=10):\n",
    "        super().__init__()\n",
    "        self.in_planes = 64\n",
    "        self.conv1 = nn.Conv2d(3, 64, kernel_size=3, stride=1, padding=1, bias=False) # Initialization layer\n",
    "        self.bn1 = nn.BatchNorm2d(64)   # Initialization layer\n",
    "        self.layer1 = self._make_layer(block, 64, num_blocks[0], stride=1) # Layer 1\n",
    "        self.layer2 = self._make_layer(block, 128, num_blocks[1], stride=2)# Layer 2\n",
    "        self.layer3 = self._make_layer(block, 256, num_blocks[2], stride=2)# Layer 3\n",
    "        self.layer4 = self._make_layer(block, 512, num_blocks[3], stride=2)# Layer 4\n",
    "        self.linear = nn.Linear(512, num_classes) # Fully connected \n",
    "\n",
    "    # block helps to create an object of class BasicBlock\n",
    "    # plannes: out_channels of this layer\n",
    "    # num_blocks: how many basic blocks in this layer\n",
    "    # stride: what's the stride of the first block in this layer\n",
    "    # ResNet18:\n",
    "    # Layer 1: num_blocks[0] = 2, strides = [1,1], planes = 64\n",
    "    # Layer 2: num_blocks[1] = 2, strides = [2,1], planes = 128\n",
    "    # Layer 3: num_blocks[2] = 2, strides = [2,1], planes = 256\n",
    "    # Layer 4: num_blocks[3] = 2, strides = [2,1], planes = 512\n",
    "    \n",
    "    def _make_layer(self, block, planes, num_blocks, stride):\n",
    "        strides = [stride] + [1]*(num_blocks-1)\n",
    "        layers = []  # create a list to save the blocks in this layer: layers=[block1,block2]\n",
    "        for stride in strides:\n",
    "            layers.append(block(self.in_planes, planes, stride))\n",
    "            self.in_planes = planes # the out_channels of previous block is the in_channels of next block\n",
    "        return nn.Sequential(*layers)\n",
    "\n",
    "    def forward(self, x):\n",
    "        out = F.relu(self.bn1(self.conv1(x)))   # Initialization layer\n",
    "        print('Initial:',out.size()) \n",
    "        out = self.layer1(out)                  # layer 1\n",
    "        print('Apply layer1:',out.size())\n",
    "        out = self.layer2(out)                  # layer 2\n",
    "        print('Apply layer2:',out.size())       \n",
    "        out = self.layer3(out)                  # layer 3\n",
    "        print('Apply layer3:',out.size())       \n",
    "        out = self.layer4(out)                  # layer 4\n",
    "        print('Apply layer4:',out.size())\n",
    "        out = F.avg_pool2d(out, 4)              # average pooling\n",
    "        print('Apply average pooling:',out.size())\n",
    "        out = out.view(out.size(0), -1)\n",
    "        out = self.linear(out)                  # Fully connected \n",
    "        return out    \n",
    "    \n",
    "#ResNet18: 4 layers and each layer has 2 blocks\n",
    "my_model = ResNet(BasicBlock, [2,2,2,2], num_classes=10) \n",
    "\n",
    "x = torch.randn(10,3,32,32)\n",
    "print('Input:',x.size())\n",
    "y = my_model(x)\n",
    "print('Output:',y.size())"
   ]
  },
  {
   "cell_type": "markdown",
   "metadata": {},
   "source": [
    "## 3. ResNet18 on Cifar10"
   ]
  },
  {
   "cell_type": "markdown",
   "metadata": {},
   "source": [
    "In order to obtain the state-of-arts results of ResNet18 on Cifar10, we use the following strategies:\n",
    "\n",
    "\n",
    "* We apply a standard data augmentation method for Cifar10, see the code Line 88-Line 102. \n",
    "\n",
    "    If you are interested in the data augmentation, please check detail in https://pytorch.org/docs/stable/torchvision/transforms.html\n",
    "\n",
    "\n",
    "\n",
    "\n",
    "* We apply SGD with momentum=0.9 as follows:\n",
    "\n",
    "  optimizer = optim.SGD(my_model.parameters(), lr=lr, momentum=0.9, weight_decay = 0.0005)\n",
    "\n",
    "  If you are interested in the SGD with Momentum, please check detail in https://pytorch.org/docs/stable/optim.html\n",
    "  \n",
    "  \n",
    "\n",
    "* Since we would like to fix the parameters in batch normlization during the computation of accuracy, we need to change the status of my_model.\n",
    "    \n",
    "    When training the model, we use \"my_model.train()\", see Line 113.\n",
    "    \n",
    "    When compute the accuracy, we use \"my_model.eval()\", see Line 129.\n",
    "    \n",
    "    For more detail, please watch the video \"Batch normalization\" in Week5's page.\n",
    "    \n",
    "    \n",
    "    \n",
    "    \n",
    "* In the computation of accuracy, we do not compute any gradient. Thus, we can use \"with torch.no_grad():\" to set require_grad = False for all the computation, see Line 133 and Line 148, which will reduce the memory usage and speed up computations.\n",
    "\n",
    "    \n",
    "    \n"
   ]
  },
  {
   "cell_type": "code",
   "execution_count": null,
   "metadata": {},
   "outputs": [],
   "source": [
    "import torch\n",
    "import torch.nn as nn \n",
    "import torch.optim as optim\n",
    "import torchvision\n",
    "import torch.nn.functional as F\n",
    "from timeit import default_timer as timer\n",
    "\n",
    "\n",
    "use_cuda = torch.cuda.is_available()\n",
    "print('Use GPU?', use_cuda)\n",
    "\n",
    "class BasicBlock(nn.Module):\n",
    "    def __init__(self, in_planes, planes, stride):\n",
    "        super().__init__()\n",
    "        self.conv1 = nn.Conv2d(in_planes, planes, kernel_size=3, stride=stride, padding=1, bias=False)\n",
    "        self.bn1 = nn.BatchNorm2d(planes)\n",
    "        self.conv2 = nn.Conv2d(planes, planes, kernel_size=3, stride=1, padding=1, bias=False)\n",
    "        self.bn2 = nn.BatchNorm2d(planes)\n",
    "\n",
    "        self.shortcut = nn.Sequential()\n",
    "        if stride != 1:\n",
    "            self.shortcut = nn.Sequential(nn.Conv2d(in_planes, planes, kernel_size=1, stride=stride, bias=False),\n",
    "                                          nn.BatchNorm2d(planes))\n",
    "\n",
    "    def forward(self, x):\n",
    "        out = F.relu(self.bn1(self.conv1(x)))\n",
    "        out = self.bn2(self.conv2(out))\n",
    "        out += self.shortcut(x)\n",
    "        out = F.relu(out)\n",
    "        return out\n",
    "\n",
    "\n",
    "class ResNet(nn.Module):\n",
    "    def __init__(self, block, num_blocks, num_classes=10):\n",
    "        super().__init__()\n",
    "        self.in_planes = 64\n",
    "\n",
    "        self.conv1 = nn.Conv2d(3, 64, kernel_size=3, stride=1, padding=1, bias=False)\n",
    "        self.bn1 = nn.BatchNorm2d(64)\n",
    "        self.layer1 = self._make_layer(block, 64, num_blocks[0], stride=1)\n",
    "        self.layer2 = self._make_layer(block, 128, num_blocks[1], stride=2)\n",
    "        self.layer3 = self._make_layer(block, 256, num_blocks[2], stride=2)\n",
    "        self.layer4 = self._make_layer(block, 512, num_blocks[3], stride=2)\n",
    "        self.linear = nn.Linear(512, num_classes)\n",
    "\n",
    "    def _make_layer(self, block, planes, num_blocks, stride):\n",
    "        strides = [stride] + [1]*(num_blocks-1)\n",
    "        layers = []\n",
    "        for stride in strides:\n",
    "            layers.append(block(self.in_planes, planes, stride))\n",
    "            self.in_planes = planes\n",
    "        return nn.Sequential(*layers)\n",
    "\n",
    "    def forward(self, x):\n",
    "        out = F.relu(self.bn1(self.conv1(x)))\n",
    "        out = self.layer1(out)\n",
    "        out = self.layer2(out)\n",
    "        out = self.layer3(out)\n",
    "        out = self.layer4(out)\n",
    "        out = F.avg_pool2d(out, 4)\n",
    "        out = out.view(out.size(0), -1)\n",
    "        out = self.linear(out)\n",
    "        return out    \n",
    "    \n",
    "def adjust_learning_rate(optimizer, epoch, init_lr):\n",
    "    #lr = 1.0 / (epoch + 1)\n",
    "    lr = init_lr * 0.1 ** (epoch // 30)\n",
    "    for param_group in optimizer.param_groups:\n",
    "        param_group['lr'] = lr\n",
    "    return lr\n",
    "\n",
    "minibatch_size = 128\n",
    "num_epochs = 120\n",
    "lr = 0.1\n",
    "\n",
    "# Step 1: Define a model\n",
    "my_model = ResNet(BasicBlock, [2,2,2,2], num_classes=10) #ResNet18\n",
    "\n",
    "if use_cuda:\n",
    "    my_model = my_model.cuda()\n",
    "\n",
    "# Step 2: Define a loss function and training algorithm\n",
    "criterion = nn.CrossEntropyLoss()\n",
    "optimizer = optim.SGD(my_model.parameters(), lr=lr, momentum=0.9, weight_decay = 0.0005)\n",
    "\n",
    "\n",
    "# Step 3: load dataset\n",
    "normalize = torchvision.transforms.Normalize(mean=(0.4914, 0.4822, 0.4465), std=(0.2023, 0.1994, 0.2010))\n",
    "\n",
    "transform_train = torchvision.transforms.Compose([torchvision.transforms.RandomCrop(32, padding=4),\n",
    "                                                  torchvision.transforms.RandomHorizontalFlip(),\n",
    "                                                  torchvision.transforms.ToTensor(),\n",
    "                                                  normalize])\n",
    "\n",
    "transform_test  = torchvision.transforms.Compose([torchvision.transforms.ToTensor(),normalize])\n",
    "\n",
    "\n",
    "trainset = torchvision.datasets.CIFAR10(root='./data', train=True, download=True, transform=transform_train)\n",
    "trainloader = torch.utils.data.DataLoader(trainset, batch_size=minibatch_size, shuffle=True)\n",
    "\n",
    "testset = torchvision.datasets.CIFAR10(root='./data', train=False, download=True, transform=transform_test)\n",
    "testloader = torch.utils.data.DataLoader(testset, batch_size=minibatch_size, shuffle=False)\n",
    "\n",
    "# classes = ('plane', 'car', 'bird', 'cat', 'deer', 'dog', 'frog', 'horse', 'ship', 'truck')\n",
    "\n",
    "start = timer()\n",
    "\n",
    "#Step 4: Train the NNs\n",
    "# One epoch is when an entire dataset is passed through the neural network only once.\n",
    "for epoch in range(num_epochs):\n",
    "    current_lr = adjust_learning_rate(optimizer, epoch, lr)\n",
    "\n",
    "    my_model.train()\n",
    "    for i, (images, labels) in enumerate(trainloader):\n",
    "        if use_cuda:\n",
    "          images = images.cuda()\n",
    "          labels = labels.cuda()\n",
    "\n",
    "        # Forward pass to get the loss\n",
    "        outputs = my_model(images) \n",
    "        loss = criterion(outputs, labels)\n",
    "        \n",
    "        # Backward and compute the gradient\n",
    "        optimizer.zero_grad()\n",
    "        loss.backward()  #backpropragation\n",
    "        optimizer.step() #update the weights/parameters\n",
    "        \n",
    "  # Training accuracy\n",
    "    my_model.eval()\n",
    "    correct = 0\n",
    "    total = 0\n",
    "    for i, (images, labels) in enumerate(trainloader):\n",
    "        with torch.no_grad():\n",
    "          if use_cuda:\n",
    "              images = images.cuda()\n",
    "              labels = labels.cuda()  \n",
    "          outputs = my_model(images)\n",
    "          p_max, predicted = torch.max(outputs, 1) \n",
    "          total += labels.size(0)\n",
    "          correct += (predicted == labels).sum()\n",
    "    training_accuracy = float(correct)/total\n",
    "\n",
    "    \n",
    "    # Test accuracy\n",
    "    correct = 0\n",
    "    total = 0\n",
    "    for i, (images, labels) in enumerate(testloader):\n",
    "        with torch.no_grad():\n",
    "          if use_cuda:\n",
    "              images = images.cuda()\n",
    "              labels = labels.cuda()\n",
    "          outputs = my_model(images)\n",
    "          p_max, predicted = torch.max(outputs, 1) \n",
    "          total += labels.size(0)\n",
    "          correct += (predicted == labels).sum()\n",
    "    test_accuracy = float(correct)/total\n",
    "        \n",
    "    print('Epoch: {}, learning rate: {}, the training accuracy: {}, the test accuracy: {}' .format(epoch+1,current_lr,training_accuracy,test_accuracy)) \n",
    "\n",
    "end = timer()\n",
    "print('Total Computation Time:',end - start)"
   ]
  },
  {
   "cell_type": "markdown",
   "metadata": {},
   "source": [
    "# Reading material\n",
    "\n",
    "1. ResNet: https://arxiv.org/pdf/1512.03385.pdf\n",
    "2. torch.nn.init: https://pytorch.org/docs/stable/nn.init.html?highlight=init\n",
    "3. Details of torch.nn https://pytorch.org/docs/stable/nn.html"
   ]
  },
  {
   "cell_type": "code",
   "execution_count": null,
   "metadata": {},
   "outputs": [],
   "source": []
  }
 ],
 "metadata": {
  "celltoolbar": "Tags",
  "kernelspec": {
   "display_name": "Python 3",
   "language": "python",
   "name": "python3"
  },
  "language_info": {
   "codemirror_mode": {
    "name": "ipython",
    "version": 3
   },
   "file_extension": ".py",
   "mimetype": "text/x-python",
   "name": "python",
   "nbconvert_exporter": "python",
   "pygments_lexer": "ipython3",
   "version": "3.8.8"
  }
 },
 "nbformat": 4,
 "nbformat_minor": 2
}