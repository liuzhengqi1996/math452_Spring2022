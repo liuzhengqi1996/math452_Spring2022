{
 "cells": [
  {
   "cell_type": "markdown",
   "metadata": {},
   "source": [
    "# Quiz 5\n",
    "For Penn State student, access quiz [here](https://psu.instructure.com/courses/2177217)"
   ]
  },
  {
   "cell_type": "code",
   "execution_count": 1,
   "metadata": {},
   "outputs": [],
   "source": [
    "import ipywidgets as widgets"
   ]
  },
  {
   "cell_type": "markdown",
   "metadata": {},
   "source": [
    "## Question 1\n",
    "Consider a DNN layer $f^\\ell = W^\\ell \\sigma (f^{\\ell-1}) + b^\\ell$ , where $W^\\ell \\in \\mathbb{R}^{n_\\ell \\times n_{\\ell-1}}$ with $n_\\ell = n_{\\ell-1} = m$. If we apply the Xavier's initialization for this layer, what is the suggested variance to sample $W_{st}^\\ell$ ?\n"
   ]
  },
  {
   "cell_type": "markdown",
   "metadata": {},
   "source": [
    "```{dropdown} Show answer\n",
    "Answer:\n",
    "$\\frac{1}{m}$\n",
    "```"
   ]
  },
  {
   "cell_type": "markdown",
   "metadata": {},
   "source": [
    "## Question 2\n",
    "When training a CNN model with batch normalization (BN) structure, let us consider the time step $t$ with mini-batch $\\mathcal B_t$ for the $j$-th channel of $\\ell$-th layer (spatial dimension (resolution) for this layer is $n_\\ell \\times m_\\ell $).\n",
    "Then, what is the size for the commonly used mean $[\\mu^\\ell_{\\mathcal B_t}]_j$ and variance \n",
    "\t$[\\sigma^\\ell_{\\mathcal B_t}]_j$  in BN for CNN models on this layer?"
   ]
  },
  {
   "cell_type": "markdown",
   "metadata": {},
   "source": [
    "```{dropdown} Show answer\n",
    "Answer: $[\\mu^\\ell_{\\mathcal B_t}]_j \\in \\mathbb{R}, [\\sigma^\\ell_{\\mathcal B_t}]_j \\in \\mathbb{R}$\n",
    "```"
   ]
  },
  {
   "cell_type": "markdown",
   "metadata": {},
   "source": [
    "## Question 3\n",
    "If we define a convolutional layer with batch normalization as follows"
   ]
  },
  {
   "cell_type": "code",
   "execution_count": 2,
   "metadata": {
    "tags": [
     "hide-output"
    ]
   },
   "outputs": [
    {
     "ename": "NameError",
     "evalue": "name 'nn' is not defined",
     "output_type": "error",
     "traceback": [
      "\u001b[0;31m---------------------------------------------------------------------------\u001b[0m",
      "\u001b[0;31mNameError\u001b[0m                                 Traceback (most recent call last)",
      "\u001b[0;32m<ipython-input-2-17b224f18c5e>\u001b[0m in \u001b[0;36m<module>\u001b[0;34m\u001b[0m\n\u001b[0;32m----> 1\u001b[0;31m \u001b[0;32mclass\u001b[0m \u001b[0mmodel\u001b[0m\u001b[0;34m(\u001b[0m\u001b[0mnn\u001b[0m\u001b[0;34m.\u001b[0m\u001b[0mModule\u001b[0m\u001b[0;34m)\u001b[0m\u001b[0;34m:\u001b[0m\u001b[0;34m\u001b[0m\u001b[0;34m\u001b[0m\u001b[0m\n\u001b[0m\u001b[1;32m      2\u001b[0m     \u001b[0;32mdef\u001b[0m \u001b[0m__init__\u001b[0m\u001b[0;34m(\u001b[0m\u001b[0mself\u001b[0m\u001b[0;34m)\u001b[0m\u001b[0;34m:\u001b[0m\u001b[0;34m\u001b[0m\u001b[0;34m\u001b[0m\u001b[0m\n\u001b[1;32m      3\u001b[0m         \u001b[0msuper\u001b[0m\u001b[0;34m(\u001b[0m\u001b[0;34m)\u001b[0m\u001b[0;34m.\u001b[0m\u001b[0m__init__\u001b[0m\u001b[0;34m(\u001b[0m\u001b[0;34m)\u001b[0m\u001b[0;34m\u001b[0m\u001b[0;34m\u001b[0m\u001b[0m\n\u001b[1;32m      4\u001b[0m         \u001b[0mself\u001b[0m\u001b[0;34m.\u001b[0m\u001b[0mconv1\u001b[0m \u001b[0;34m=\u001b[0m \u001b[0mnn\u001b[0m\u001b[0;34m.\u001b[0m\u001b[0mConv2d\u001b[0m\u001b[0;34m(\u001b[0m\u001b[0;36m3\u001b[0m\u001b[0;34m,\u001b[0m \u001b[0;36m10\u001b[0m\u001b[0;34m,\u001b[0m \u001b[0;36m5\u001b[0m\u001b[0;34m)\u001b[0m\u001b[0;34m\u001b[0m\u001b[0;34m\u001b[0m\u001b[0m\n\u001b[1;32m      5\u001b[0m         \u001b[0mself\u001b[0m\u001b[0;34m.\u001b[0m\u001b[0mbn1\u001b[0m \u001b[0;34m=\u001b[0m  \u001b[0mnn\u001b[0m\u001b[0;34m.\u001b[0m\u001b[0mBatchNorm2d\u001b[0m\u001b[0;34m(\u001b[0m\u001b[0mN\u001b[0m\u001b[0;34m)\u001b[0m\u001b[0;34m\u001b[0m\u001b[0;34m\u001b[0m\u001b[0m\n",
      "\u001b[0;31mNameError\u001b[0m: name 'nn' is not defined"
     ]
    }
   ],
   "source": [
    "class model(nn.Module):\n",
    "    def __init__(self):\n",
    "        super().__init__()\n",
    "        self.conv1 = nn.Conv2d(3, 10, 5)\n",
    "        self.bn1 =  nn.BatchNorm2d(N)\n",
    "    def forward(self,x):\n",
    "        out = F.relu(self.bn1(self.conv1(x)))"
   ]
  },
  {
   "cell_type": "markdown",
   "metadata": {},
   "source": [
    "What is the value of N in nn.BatchNorm2d(N)?"
   ]
  },
  {
   "cell_type": "markdown",
   "metadata": {},
   "source": [
    "```{dropdown} Show answer\n",
    "Answer: 10\n",
    "```"
   ]
  },
  {
   "cell_type": "markdown",
   "metadata": {},
   "source": [
    "## Question 4\n",
    "How many kernels/filters are there in the initialization layer self.conv1 of ResNet18?"
   ]
  },
  {
   "cell_type": "code",
   "execution_count": null,
   "metadata": {
    "tags": [
     "hide-output"
    ]
   },
   "outputs": [],
   "source": [
    "self.conv1 = nn.Conv2d(3, 64, kernel_size=3, st\n",
    "ride=1, padding=1, bias=False)"
   ]
  },
  {
   "cell_type": "markdown",
   "metadata": {},
   "source": [
    "```{dropdown} Show answer\n",
    "Answer: 64\n",
    "```"
   ]
  },
  {
   "cell_type": "markdown",
   "metadata": {},
   "source": [
    "## Question 5\n",
    "What is the equivalent code of the following code?"
   ]
  },
  {
   "cell_type": "code",
   "execution_count": null,
   "metadata": {
    "tags": [
     "hide-output"
    ]
   },
   "outputs": [],
   "source": [
    "Conv_BN = nn.Sequential(nn.Conv2d(1,3,3),nn.BatchNorm2d(3))\n",
    " \n",
    "x = torch.randn(1, 1, 28, 28)\n",
    "\n",
    "out = Conv_BN(x)"
   ]
  },
  {
   "cell_type": "markdown",
   "metadata": {},
   "source": [
    "```{dropdown} Show answer\n",
    "Answer: Conv1 = nn.Conv2d(1,3,3)\n",
    "bn1 = nn.BatchNorm2d(3)\n",
    "x = torch.randn(1, 1, 28, 28)\n",
    "out = bn1(Conv1(x))\n",
    "```"
   ]
  },
  {
   "cell_type": "markdown",
   "metadata": {},
   "source": [
    "## Question 6\n",
    "In the following code, what is the size of out if the size of x is torch.Size([3, 3, 3, 3]) "
   ]
  },
  {
   "cell_type": "code",
   "execution_count": null,
   "metadata": {
    "tags": [
     "hide-output"
    ]
   },
   "outputs": [],
   "source": [
    "out = x.view(x.size(0), -1)"
   ]
  },
  {
   "cell_type": "markdown",
   "metadata": {},
   "source": [
    "```{dropdown} Show answer\n",
    "Answer: torch.Size([3, 27])\n",
    "```"
   ]
  },
  {
   "cell_type": "markdown",
   "metadata": {},
   "source": [
    "## Question 7\n",
    "When we define ResNet18 as follows"
   ]
  },
  {
   "cell_type": "code",
   "execution_count": null,
   "metadata": {
    "tags": [
     "hide-output"
    ]
   },
   "outputs": [],
   "source": [
    "my_model = ResNet(BasicBlock, [2,2,2,2], num_classes=10)"
   ]
  },
  {
   "cell_type": "markdown",
   "metadata": {},
   "source": [
    "what does [2,2,2,2] mean?"
   ]
  },
  {
   "cell_type": "markdown",
   "metadata": {},
   "source": [
    "```{dropdown} Show answer\n",
    "Answer: There are 4 layers and each layer has 2 blocks\n",
    "```"
   ]
  },
  {
   "cell_type": "markdown",
   "metadata": {},
   "source": [
    "## Question 8\n",
    "Here, let $\\sigma(x) = e^x, \\quad x \\in \\mathbb{R}.$\n",
    "Consider the following 1-hidden layer DNN function with \\sigma$ activation function for any $x\\in \\mathbb{R}^2$\n",
    "\n",
    "$\n",
    "f(x;\\theta) =  W^2 \\sigma (W^1 x+ b^1)  \\in \\mathbb{R},\n",
    "$ \n",
    "\n",
    "where \n",
    "\n",
    "$\\theta = \\{ W^1, b^1, W^2\\}$ and $W^1 \\in \\mathbb{R}^{2\\times 2}, \\quad W^2 \\in \\mathbb{R}^{1\\times 2}, \\quad b^1 \\in \\mathbb{R}^2.$ \n",
    "\n",
    "Calculate $\\left. \\frac{\\partial f(x; \\theta)}{\\partial W^1_{st}} \\right|_{\\theta = \\theta^*, x = x^*}\n",
    "\t\\quad \\text{and} \\quad \n",
    "\t\\left. \\frac{\\partial f(x; \\theta)}{\\partial x_i} \\right|_{\\theta = \\theta^*, x = x^*},$\n",
    "    \n",
    "for $i = 1,2$ and $s,t = 1,2$, where $\\theta = \\theta^*, x = x^*$ means \n",
    "\n",
    "$$\n",
    "    W^1 = \t\n",
    "\t\\begin{pmatrix}\n",
    "\t0 & 1 \\\\\n",
    "\t1 & 0 \n",
    "\t\\end{pmatrix},  \n",
    "\tW^2 = \t\\begin{pmatrix}\n",
    "\t1 & 1\n",
    "\t\\end{pmatrix}, b^1 = \n",
    "\t\\begin{pmatrix}\n",
    "\t0 \\\\ 0\n",
    "\t\\end{pmatrix}\n",
    "$$\n",
    "\n",
    "and\n",
    "\n",
    "$$\n",
    "    x = \\begin{pmatrix}\n",
    "\t1 \\\\0\n",
    "\t\\end{pmatrix}\n",
    "$$"
   ]
  },
  {
   "cell_type": "markdown",
   "metadata": {},
   "source": [
    "```{dropdown} Show answer\n",
    "Answer: Unavailable\n",
    "```"
   ]
  },
  {
   "cell_type": "markdown",
   "metadata": {},
   "source": [
    "## Question 9\n",
    "Consider the convolution for one channel with stride one and zero padding $A\\ast: R^{n}\\mapsto  R^{n}$.\n",
    "$\n",
    "A\\ast u=f,\n",
    "$\n",
    "where \n",
    "$\n",
    "A=\\frac{1}{h}\\begin{pmatrix}\n",
    "\t-1, &2,&-1\n",
    "\t\\end{pmatrix}.\n",
    "$\n",
    "\n",
    "Consider following two iterative methods for the above equation. \n",
    "Given $u^{0}$, for $\\ell=1,2,\\cdots,2m$\n",
    "\n",
    "$u^{\\ell}=u^{\\ell-1}+\\frac{h}{4}(f-A\\ast u^{\\ell-1})$\n",
    "\n",
    "And\n",
    "Given $\\tilde{u}^{0}=u^{0}$, for $\\ell=1,2,\\cdots,m$\n",
    "\n",
    "$\\tilde{u}^{\\ell}=\\tilde{u}^{\\ell-1}+S_1\\ast(f-A\\ast\\tilde{u}^{\\ell-1})$\n",
    "\n",
    "Determine $S_1$ in the second iterative method such that $u^{2m}=\\tilde{u}^{m} \\quad\\hbox{when}\\quad m=1,$, namely $u^{2}=\\tilde{u}^{1}$\n"
   ]
  },
  {
   "cell_type": "markdown",
   "metadata": {},
   "source": [
    "```{dropdown} Show answer\n",
    "Answer: Unavailable\n",
    "```"
   ]
  },
  {
   "cell_type": "markdown",
   "metadata": {},
   "source": [
    "## Question 10\n",
    "Consider the convolution for one channel with stride one and zero padding.\n",
    "Given $f\\in \\mathbb R^n$, let $u$ be the solution of the following linear system $A\\ast u=f$,where $A=(-1,2,-1)$ \n",
    "\n",
    "(a) Show that the solution $u$ satisfies the minimization problem\n",
    "\n",
    "(b) Write out the gradient descent method to solve the above minimization problem\n"
   ]
  },
  {
   "cell_type": "markdown",
   "metadata": {},
   "source": [
    "```{dropdown} Show answer\n",
    "Answer: Unavailable\n",
    "```"
   ]
  },
  {
   "cell_type": "code",
   "execution_count": null,
   "metadata": {},
   "outputs": [],
   "source": []
  }
 ],
 "metadata": {
  "celltoolbar": "Tags",
  "kernelspec": {
   "display_name": "Python 3",
   "language": "python",
   "name": "python3"
  },
  "language_info": {
   "codemirror_mode": {
    "name": "ipython",
    "version": 3
   },
   "file_extension": ".py",
   "mimetype": "text/x-python",
   "name": "python",
   "nbconvert_exporter": "python",
   "pygments_lexer": "ipython3",
   "version": "3.8.8"
  }
 },
 "nbformat": 4,
 "nbformat_minor": 2
}