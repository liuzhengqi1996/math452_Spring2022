{
 "cells": [
  {
   "cell_type": "markdown",
   "metadata": {},
   "source": [
    "# Week 5 Programming Assignment \n",
    "\n",
    "Remark: \n",
    "\n",
    "Please upload your solutions of this assignment to Canvas with a file named \"Programming_Assignment_5 _yourname.ipynb\" before deadline."
   ]
  },
  {
   "cell_type": "markdown",
   "metadata": {
    "colab_type": "text",
    "id": "l2ENBj8Nz3kg"
   },
   "source": [
    "================================================================================================================="
   ]
  },
  {
   "cell_type": "markdown",
   "metadata": {},
   "source": [
    "## Problem 1 : Use stochastic gradient descent method to train CIFAR10 with ResNet18.\n",
    "\n",
    "Apply the following two different learning rate schedules respectively\n",
    "\n",
    "(1) run 120 epochs with a fixed learning rate 0.1,\n",
    "\n",
    "(2) run 120 epochs, and divide the learning rate by 10 every 30 epochs, which can achieve 94% test accuracy.\n",
    "\n",
    "and print the results with the following format:\n",
    "\n",
    "   \"Epoch: i, Learning rate: lr$_i$, Training accuracy: $a_i$, Test accuracy: $b_i$\"\n",
    "\n",
    "where $i=1,2,3,...$ means the $i$-th epoch,  $a_i$ and $b_i$ are the training accuracy and test accuracy computed at the end of $i$-th epoch, and lr$_i$ is the learning rate of $i$-th epoch.\n",
    "\n",
    "Optional Problem: Try to find some other learning rate schedules to achieve $94$% or higher test accuracy with less epochs."
   ]
  },
  {
   "cell_type": "code",
   "execution_count": 1,
   "metadata": {},
   "outputs": [],
   "source": [
    "# Write your code to solve Problem 1.\n",
    "\n"
   ]
  },
  {
   "cell_type": "markdown",
   "metadata": {
    "colab_type": "text",
    "id": "l2ENBj8Nz3kg"
   },
   "source": [
    "================================================================================================================="
   ]
  },
  {
   "cell_type": "markdown",
   "metadata": {},
   "source": [
    "## Problem 2 :  Consider the possion equation \n",
    "\\begin{equation}\\label{1Dposi}\n",
    "\\left\\{\n",
    "\\begin{aligned}\n",
    "-u''&= f, \\,\\, 0<x<1, \\\\\n",
    " u(0)&=u(1)=0.\n",
    "\\end{aligned}\n",
    "\\right.\n",
    "\\end{equation}\n",
    "\n",
    "Assume $f(x)=1$, then the exact solution is $u(x)=\\frac{1}{2}x(1-x)$. Given the partition with the grid points \n",
    "$x_i=\\frac{i}{n+1}, i=0,1,\\cdots,n+1$, then by finite element discretization, \n",
    "we obtain \n",
    "\n",
    "\\begin{equation}\\label{matrix}\n",
    "A\\ast \\mu =b,~~ A=\\frac{1}{h}[-1,2,-1].\n",
    "\\end{equation}\n",
    "\n",
    "Use gradient descent method to solve the above problem with random initial guess $\\mu^0$:\n",
    "\n",
    "$$\n",
    "\\mu^{m} = \\mu^{m-1} - \\eta ( A* \\mu^{m-1}- b),~~ m=1,2,3,...,M\n",
    "$$\n",
    "\n",
    "Set $n=15$ and $M=10$.\n",
    "    \n",
    "(1) Plot the curves of $u$ and $\\mu^{M}$.\n",
    "\n",
    "(2) Compute the error of the residual by $e^m = \\sqrt{\\sum_{i=0}^{n+1}|(A* \\mu^{m}- b)_i |^2},~~ m=1,2,3,...,M$ and the index $i$ means the $i$-th entry of the vector. Plot a curve, where x-axis is $m=1,2,3,...,M$ and y-axis is $e^m$.\n",
    "\n",
    "(3) Find the minumum $M$ when  $e^M = \\sqrt{\\sum_{i=0}^{n+1}|(A* \\mu^{M}- b)_i |^2}<10^{-4}$ and record the computational time cost. "
   ]
  },
  {
   "cell_type": "code",
   "execution_count": 2,
   "metadata": {},
   "outputs": [
    {
     "ename": "IndentationError",
     "evalue": "expected an indented block (<ipython-input-2-53d339565e31>, line 11)",
     "output_type": "error",
     "traceback": [
      "\u001b[0;36m  File \u001b[0;32m\"<ipython-input-2-53d339565e31>\"\u001b[0;36m, line \u001b[0;32m11\u001b[0m\n\u001b[0;31m    J = 4                                # grid level\u001b[0m\n\u001b[0m    ^\u001b[0m\n\u001b[0;31mIndentationError\u001b[0m\u001b[0;31m:\u001b[0m expected an indented block\n"
     ]
    }
   ],
   "source": [
    "import numpy as np\n",
    "import time\n",
    "import matplotlib.pyplot as plt\n",
    "\n",
    "######## FEM_GD  ########\n",
    "# Write your code in FEM_GD function to compute one gradient descent iteration\n",
    "def FEM_GD():\n",
    "\n",
    "\n",
    "######## parameter definition ########\n",
    "J = 4                                # grid level\n",
    "n = 2**J - 1                         # number of inner grid points\n",
    "h = 1/ 2**J                          # length of grid interval\n",
    "x = np.arange(1, n + 1) *h           # grid points\n",
    "u = 1/2*x*(1-x)                      # true solution at grid points\n",
    "b = np.ones(n)*h                     # right-hand-size term\n",
    "u1 = (np.random.rand(n)*2-1+np.sin(4*np.pi*x))/2  # initial value for u\n",
    "M = 10\n",
    "t0 = time.time()                     # initial time\n",
    "\n",
    "######## compute numerical solution ########\n",
    "err = []                             # create a list to save the error of each iteration\n",
    "for m in range(M):\n",
    "  u1 = FEM_GD({Define a FEM_GD function to compute one gradient descent iteration})\n",
    "  temp=np.array([u1[0]*A[1]+u1[1]*A[2]])\n",
    "  for j in np.arange(1,len(u1)-1):\n",
    "      temp=np.append(temp,np.dot(u1[j-1:j+2],A))\n",
    "  Au=np.append(temp,u1[-2]*A[0]+u1[-1]*A[1])\n",
    "  err.append(np.linalg.norm(Au-b))   # compute the error of m-th iteration and save it to the list\n",
    "print('time cost', time.time() - t0)\n",
    "######## plot the exact solution and numerical solution ########\n",
    "plt.figure()\n",
    "plt.title('Exact solution and numerical solution')\n",
    "plot = plt.plot(x,u,label='Exact solution')\n",
    "plot = plt.plot(x,u1,'*',label='Numerical solution')\n",
    "plt.legend()\n",
    "plt.show()\n",
    "\n",
    "######## plot the l2 norm of the error vs iterations ########\n",
    "plt.figure()\n",
    "plt.title('Error vs number of iterations using FEM and gradient descent')\n",
    "plot = plt.plot(err)\n",
    "plt.xlabel('Number of iterations')\n",
    "plt.yscale('log')\n",
    "plt.ylabel('Error')\n",
    "plt.show()"
   ]
  },
  {
   "cell_type": "markdown",
   "metadata": {},
   "source": [
    "================================================================================================================="
   ]
  },
  {
   "cell_type": "markdown",
   "metadata": {},
   "source": [
    "## Problem 3 : Consider the Poisson equation described in Problem 1, call the Multigrid code given in the following cell to obtain a solution $u^{\\nu}$.\n",
    "Use multigrid method to solve the above problem with random initial guess $\\mu^0$:\n",
    "\n",
    "$$\n",
    "\\mu^{m} =  MG1(\\mu^{m-1}),~~ m=1,2,3,...,M\n",
    "$$\n",
    "\n",
    "Set $n=15$ and $M=10$.\n",
    "    \n",
    "(1) Plot the curves of $u$ and $\\mu^{M}$ and record the computational time cost.\n",
    "\n",
    "(2) Compute the error of the residual by $e^m = \\sqrt{\\sum_{i=0}^{n+1}|(A* \\mu^{m}- b)_i |^2},~~ m=1,2,3,...,M$ and the index $i$ means the $i$-th entry of the vector. Plot a curve, where x-axis is $m=1,2,3,...,M$ and y-axis is $e^m$."
   ]
  },
  {
   "cell_type": "code",
   "execution_count": 3,
   "metadata": {},
   "outputs": [
    {
     "ename": "SyntaxError",
     "evalue": "invalid syntax (<ipython-input-3-aa9ad0354799>, line 63)",
     "output_type": "error",
     "traceback": [
      "\u001b[0;36m  File \u001b[0;32m\"<ipython-input-3-aa9ad0354799>\"\u001b[0;36m, line \u001b[0;32m63\u001b[0m\n\u001b[0;31m    {Write your code here to call MG1 function}\u001b[0m\n\u001b[0m           ^\u001b[0m\n\u001b[0;31mSyntaxError\u001b[0m\u001b[0;31m:\u001b[0m invalid syntax\n"
     ]
    }
   ],
   "source": [
    "import numpy as np\n",
    "import time\n",
    "import matplotlib.pyplot as plt\n",
    "\n",
    "######## MG1 definition ########\n",
    "def MG1(b, u0, J, v):  # \\mu=[\\mu_1,\\mu_2,\\mu_3,...,\\mu_J]\n",
    "  if len(b)!=len(u0):\n",
    "    print('input size not equal')\n",
    "  if len(v)!=J:\n",
    "    print('length of v not equal to J')\n",
    "  B=[0,b]\n",
    "  U=[0,u0]\n",
    "  R=np.array([1/2,1,1/2])\n",
    "  for l in np.arange(1,J+1):\n",
    "    h_l=1/2**(J+1-l)\n",
    "    A=np.array([-1,2,-1]/h_l)\n",
    "    if l<J:\n",
    "      for i in np.arange(0,v[l-1]):\n",
    "        temp=np.array([U[l][0]*A[1]+U[l][1]*A[2]])\n",
    "        for j in np.arange(1,len(U[l])-1):\n",
    "            temp=np.append(temp,np.dot(U[l][j-1:j+2],A))\n",
    "        temp=np.append(temp,U[l][-2]*A[0]+U[l][-1]*A[1])\n",
    "        U[l]+=1/4*h_l*(B[l]-temp)\n",
    "      U.append(np.zeros((len(U[l])-1)//2))\n",
    "      newb=[]\n",
    "      temp=np.array([U[l][0]*A[1]+U[l][1]*A[2]])\n",
    "      for j in np.arange(1,len(U[l])-1):\n",
    "          temp=np.append(temp,np.dot(U[l][j-1:j+2],A))\n",
    "      temp=np.append(temp,U[l][-2]*A[0]+U[l][-1]*A[1])\n",
    "      for k in range((len(U[l])-1)//2):\n",
    "        newb.append(np.dot((B[l]-temp)[2*k:2*k+3],R))\n",
    "      B.append(newb)\n",
    "    else:\n",
    "      for i in np.arange(0,v[l-1]):\n",
    "        temp=np.array(U[l][0]*A[1])\n",
    "        U[l]+=1/4*h_l*(B[l]-temp)\n",
    "\n",
    "  for l in np.arange(J-1,0,-1):\n",
    "    temp=[1/2*U[l+1][0]]\n",
    "    for i in np.arange(1,len(U[l+1])*2):\n",
    "      if i%2==1:\n",
    "        temp.append(U[l+1][(i-1)//2])\n",
    "      else:\n",
    "        temp.append(1/2*(U[l+1][(i-2)//2]+U[l+1][i//2]))\n",
    "    temp.append(1/2*U[l+1][-1])\n",
    "    U[l]+=temp\n",
    "  return U[1]\n",
    "\n",
    "\n",
    "######## parameter definition ########\n",
    "J = 4                                # grid level\n",
    "n = 2**J - 1                         # number of inner grid points\n",
    "h = 1/ 2**J                          # length of grid interval\n",
    "x = np.arange(1, n + 1) *h           # grid points\n",
    "u = 1/2*x*(1-x)                      # true solution at grid points\n",
    "b = np.ones(n)*h                     # right-hand-size term\n",
    "u1 = np.random.rand(n)*2-1           # initial value for u\n",
    "M = 10\n",
    "t0 = time.time()\n",
    "\n",
    "######## compute numerical solution ########\n",
    "err = []                             # create a list to save the error of each iteration\n",
    "{Write your code here to call MG1 function}\n",
    "print('time cost', time.time() - t0)\n",
    "######## plot the exact solution and numerical solution ########\n",
    "plt.figure()\n",
    "plt.title('Exact solution and numerical solution')\n",
    "plot = plt.plot(x,u,label='Exact solution')\n",
    "plot = plt.plot(x,u1,'*',label='Numerical solution')\n",
    "plt.legend()\n",
    "plt.show()\n",
    "\n",
    "######## plot the l2 norm of the error vs iterations ########\n",
    "plt.figure()\n",
    "plt.title('Error vs number of iterations using multigrid')\n",
    "plot = plt.plot(err)\n",
    "plt.xlabel('Number of iterations')\n",
    "plt.yscale('log')\n",
    "plt.ylabel('Error')\n",
    "plt.show()"
   ]
  },
  {
   "cell_type": "markdown",
   "metadata": {},
   "source": [
    "================================================================================================================="
   ]
  }
 ],
 "metadata": {
  "colab": {
   "collapsed_sections": [
    "A8btbBuFz3j_",
    "8tnDF8N5z3j_",
    "6NGxntKLz3kO",
    "t8Op_NP5z3kf",
    "eY74kXCSz3kg",
    "PsX9sU1Nz3kh",
    "tt6oay6Rz3kk",
    "kTHHlHSbz3kn",
    "O-OyyHliz3ko",
    "cL_XkTgmz3k1",
    "QFdILTiHz3k1",
    "XmhEkm0nz3k2",
    "bn4Pbjwgz3k4",
    "MJn6VYpQz3k8",
    "JOcri38sz3k8"
   ],
   "name": "Lecture1.ipynb",
   "provenance": []
  },
  "kernelspec": {
   "display_name": "Python 3",
   "language": "python",
   "name": "python3"
  },
  "language_info": {
   "codemirror_mode": {
    "name": "ipython",
    "version": 3
   },
   "file_extension": ".py",
   "mimetype": "text/x-python",
   "name": "python",
   "nbconvert_exporter": "python",
   "pygments_lexer": "ipython3",
   "version": "3.8.8"
  }
 },
 "nbformat": 4,
 "nbformat_minor": 1
}