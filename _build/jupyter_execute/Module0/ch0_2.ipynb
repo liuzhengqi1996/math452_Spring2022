{
 "cells": [
  {
   "cell_type": "markdown",
   "id": "b19b7162",
   "metadata": {},
   "source": [
    "# Course background and introduction "
   ]
  },
  {
   "cell_type": "code",
   "execution_count": 1,
   "id": "9801b379",
   "metadata": {
    "tags": [
     "hide-input"
    ]
   },
   "outputs": [
    {
     "data": {
      "text/html": [
       "\n",
       "<iframe\n",
       "    width=\"800\"\n",
       "    height=\"500\"\n",
       "    src=\"https://cdnapisec.kaltura.com/p/2356971/sp/235697100/embedIframeJs/uiconf_id/41416911/partner_id/2356971?iframeembed=true&playerId=kaltura_player&entry_id=1_qa61sa8g&flashvars[streamerType]=auto&amp;flashvars[localizationCode]=en&amp;flashvars[leadWithHTML5]=true&amp;flashvars[sideBarContainer.plugin]=true&amp;flashvars[sideBarContainer.position]=left&amp;flashvars[sideBarContainer.clickToClose]=true&amp;flashvars[chapters.plugin]=true&amp;flashvars[chapters.layout]=vertical&amp;flashvars[chapters.thumbnailRotator]=false&amp;flashvars[streamSelector.plugin]=true&amp;flashvars[EmbedPlayer.SpinnerTarget]=videoHolder&amp;flashvars[dualScreen.plugin]=true&amp;flashvars[hotspots.plugin]=1&amp;flashvars[Kaltura.addCrossoriginToIframe]=true&amp;&wid=1_xeoqsxwa\"\n",
       "    frameborder=\"0\"\n",
       "    allowfullscreen\n",
       "></iframe>\n"
      ],
      "text/plain": [
       "<IPython.lib.display.IFrame at 0x7fb9b525ce80>"
      ]
     },
     "execution_count": 1,
     "metadata": {},
     "output_type": "execute_result"
    }
   ],
   "source": [
    "from IPython.display import IFrame\n",
    "\n",
    "IFrame(src=\"https://cdnapisec.kaltura.com/p/2356971/sp/235697100/embedIframeJs/uiconf_id/41416911/partner_id/2356971?iframeembed=true&playerId=kaltura_player&entry_id=1_qa61sa8g&flashvars[streamerType]=auto&amp;flashvars[localizationCode]=en&amp;flashvars[leadWithHTML5]=true&amp;flashvars[sideBarContainer.plugin]=true&amp;flashvars[sideBarContainer.position]=left&amp;flashvars[sideBarContainer.clickToClose]=true&amp;flashvars[chapters.plugin]=true&amp;flashvars[chapters.layout]=vertical&amp;flashvars[chapters.thumbnailRotator]=false&amp;flashvars[streamSelector.plugin]=true&amp;flashvars[EmbedPlayer.SpinnerTarget]=videoHolder&amp;flashvars[dualScreen.plugin]=true&amp;flashvars[hotspots.plugin]=1&amp;flashvars[Kaltura.addCrossoriginToIframe]=true&amp;&wid=1_xeoqsxwa\" ,width='800', height='500')\n"
   ]
  },
  {
   "cell_type": "markdown",
   "id": "99fec36d",
   "metadata": {},
   "source": [
    "## Contents\n",
    "- Introduction to Machine Learning and Its Successes\n",
    "- Deep Learning, Deep Concern\n",
    "- A First Glance to Mathematics of Deep Learning\n",
    "- What Will We Study in This Course"
   ]
  },
  {
   "cell_type": "markdown",
   "id": "518911d3",
   "metadata": {},
   "source": [
    "## Four major methods of scientific research\n",
    "- Experimental Science\n",
    "- Theoretical Science\n",
    "- Computational Science\n",
    "- Data Science"
   ]
  },
  {
   "cell_type": "markdown",
   "id": "7f99d826",
   "metadata": {},
   "source": [
    "## The era of the artificial intelligence\n"
   ]
  },
  {
   "cell_type": "markdown",
   "id": "26a24caa",
   "metadata": {},
   "source": [
    "## Success Stories - I: Image Classification\n",
    "- In 1998, LeCun etc. proposed the neural network\n",
    "LeNet-5 based on the convolution and applied to\n",
    "the hand-written digits recognition successfully.\n",
    "Hence LeNet-5 is also called the first convolutional\n",
    "neural network(CNN) successfully applied.\n",
    "- In 2012, Hinton and his student Alex joined the\n",
    "graph recognition competition by ImageNet and\n",
    "improved the accuracy significantly with the CNN\n",
    "AlexNet.\n",
    "- In 2013 Google purchased a Canadian startup\n",
    "company on neural network, DNNResearch. It’s\n",
    "set up by Geoffrey Hinton and his graduate students\n",
    "Alex Krizhevsky and Ilya Sutskever in 2012.\n",
    "- In 2015, Kaiming He etc. proposed the ResNet\n",
    "CNN structure, which has become a state-of-art\n",
    "CNN structure and widely used in industry and\n",
    "discussed in academia.\n",
    "- Afterwards CNN is widely used in the field of\n",
    "computer vision and breaks the records\n",
    "ceaselessly."
   ]
  },
  {
   "cell_type": "markdown",
   "id": "1b4ce656",
   "metadata": {},
   "source": [
    "## Success Stories - II: AlphaGo & AlphaZero\n",
    "- From 2016 to 2017, the AI program AlphaGo developed by Google DeepMind beat down\n",
    "all the Go champions worldwide.\n",
    "- 2018 AlphaZero gave a unified principle for many other board games\n",
    "- The CEO of Google DeepMind Demis Hassabis announced to integrate AlphaGo with\n",
    "medical, robots and so on. They can learn by themselves since they are artificial\n",
    "intelligence, and transfer learning can be done with enough data."
   ]
  },
  {
   "cell_type": "markdown",
   "id": "d5565828",
   "metadata": {},
   "source": [
    "## Success Stories - III: Auto-driving\n",
    "- In 2009, Google proposed the plan to replace\n",
    "human driving with softwares. Afterwards,\n",
    "many large technology companies such as\n",
    "Tesla, Google, Uber and Benz devoted a lot\n",
    "on investigating the technology of automated\n",
    "driving.\n",
    "- There are about dozens of companies focus\n",
    "on automatic drive techniques from L2 to L4.\n",
    "- In many countries, road examination\n",
    "autonomous vehicles are allowed with\n",
    "applications.\n",
    "- Tesla – Autopilot; Google – Waymo; Baidu –\n",
    "Apollo; GM – Cruise; Volkswagen – DAS\n",
    "Autonomy..."
   ]
  },
  {
   "cell_type": "code",
   "execution_count": null,
   "id": "1709b6b0",
   "metadata": {},
   "outputs": [],
   "source": []
  }
 ],
 "metadata": {
  "celltoolbar": "Tags",
  "kernelspec": {
   "display_name": "Python 3",
   "language": "python",
   "name": "python3"
  },
  "language_info": {
   "codemirror_mode": {
    "name": "ipython",
    "version": 3
   },
   "file_extension": ".py",
   "mimetype": "text/x-python",
   "name": "python",
   "nbconvert_exporter": "python",
   "pygments_lexer": "ipython3",
   "version": "3.8.8"
  }
 },
 "nbformat": 4,
 "nbformat_minor": 5
}