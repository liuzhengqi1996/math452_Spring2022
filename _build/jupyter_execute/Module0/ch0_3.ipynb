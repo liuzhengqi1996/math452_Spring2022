{
 "cells": [
  {
   "cell_type": "code",
   "execution_count": 1,
   "metadata": {
    "tags": [
     "hide-input"
    ]
   },
   "outputs": [
    {
     "data": {
      "text/html": [
       "\n",
       "<iframe\n",
       "    width=\"800\"\n",
       "    height=\"500\"\n",
       "    src=\"https://cdnapisec.kaltura.com/p/2356971/sp/235697100/embedIframeJs/uiconf_id/41416911/partner_id/2356971?iframeembed=true&playerId=kaltura_player&entry_id=1_6e90qr52&flashvars[streamerType]=auto&amp;flashvars[localizationCode]=en&amp;flashvars[leadWithHTML5]=true&amp;flashvars[sideBarContainer.plugin]=true&amp;flashvars[sideBarContainer.position]=left&amp;flashvars[sideBarContainer.clickToClose]=true&amp;flashvars[chapters.plugin]=true&amp;flashvars[chapters.layout]=vertical&amp;flashvars[chapters.thumbnailRotator]=false&amp;flashvars[streamSelector.plugin]=true&amp;flashvars[EmbedPlayer.SpinnerTarget]=videoHolder&amp;flashvars[dualScreen.plugin]=true&amp;flashvars[hotspots.plugin]=1&amp;flashvars[Kaltura.addCrossoriginToIframe]=true&amp;&wid=1_joaa51cu\"\n",
       "    frameborder=\"0\"\n",
       "    allowfullscreen\n",
       "></iframe>\n"
      ],
      "text/plain": [
       "<IPython.lib.display.IFrame at 0x7f8f6607d040>"
      ]
     },
     "execution_count": 1,
     "metadata": {},
     "output_type": "execute_result"
    }
   ],
   "source": [
    "from IPython.display import IFrame\n",
    "\n",
    "IFrame(src=\"https://cdnapisec.kaltura.com/p/2356971/sp/235697100/embedIframeJs/uiconf_id/41416911/partner_id/2356971?iframeembed=true&playerId=kaltura_player&entry_id=1_6e90qr52&flashvars[streamerType]=auto&amp;flashvars[localizationCode]=en&amp;flashvars[leadWithHTML5]=true&amp;flashvars[sideBarContainer.plugin]=true&amp;flashvars[sideBarContainer.position]=left&amp;flashvars[sideBarContainer.clickToClose]=true&amp;flashvars[chapters.plugin]=true&amp;flashvars[chapters.layout]=vertical&amp;flashvars[chapters.thumbnailRotator]=false&amp;flashvars[streamSelector.plugin]=true&amp;flashvars[EmbedPlayer.SpinnerTarget]=videoHolder&amp;flashvars[dualScreen.plugin]=true&amp;flashvars[hotspots.plugin]=1&amp;flashvars[Kaltura.addCrossoriginToIframe]=true&amp;&wid=1_joaa51cu\" ,width='800', height='500')"
   ]
  },
  {
   "cell_type": "markdown",
   "metadata": {
    "colab_type": "text",
    "id": "MspEZtR3z3j2"
   },
   "source": [
    "# Introduction to Python and Pytorch\n",
    "\n",
    "Grader: Haiyang Luo\n",
    "\n",
    "Email:  hml5369@psu.edu\n",
    "\n",
    "1. Anaconda\n",
    "2. Python\n",
    "3. Pytorch\n",
    "4. Jupyter Notebook\n",
    "5. Use Jupyter Notebook to do programing with Python and Pytorch (reading material):\n",
    "\n",
    "    Example 1: Plot the curve of a function\n",
    "\n",
    "    Example 2: Root finding\n",
    "\n",
    "    Example 3: Solve Ax=b\n",
    "\n",
    "    Example 4: Calculate the derivative of a function\n",
    "     \n",
    "    Example 5: Find the maximum and minimum of a list of numbers\n",
    "\n"
   ]
  },
  {
   "cell_type": "markdown",
   "metadata": {
    "colab_type": "text",
    "id": "cJHc_2Clz3j3"
   },
   "source": [
    "## 1. Anaconda\n",
    "Anaconda is a free and open-source distribution of the Python and R programming languages for scientific computing (data science, machine learning applications, large-scale data processing, predictive analytics, etc.), that aims to simplify package management and deployment. Package versions are managed by the package management system conda. The Anaconda distribution includes data-science packages suitable for Windows, Linux, and MacOS."
   ]
  },
  {
   "cell_type": "markdown",
   "metadata": {
    "colab_type": "text",
    "id": "wL6WtKDuz3j3"
   },
   "source": [
    "    Install Anaconda (Recommend: Python 3.7 version, Command Line version) from \n",
    "    https://www.anaconda.com/distribution/\n"
   ]
  },
  {
   "cell_type": "markdown",
   "metadata": {
    "colab_type": "text",
    "id": "cm6Rw_1oz3j4"
   },
   "source": [
    "## 2. Python\n",
    "\n",
    "Python is a high-level, general-purpose programming language. For examples:\n",
    "\n",
    "(1) Create a calculator (calculate tips, annual tax, monthly expense...)\n",
    "\n",
    "(2) Solve mathematical problems (root finding, plot some functions, solve Ax=b...)\n",
    "\n",
    "(3) Say \"hello\" to Machine Learning\n",
    "\n",
    "(4) Data mining (find all the online information which includes your name...)\n",
    "\n",
    "(5) Create personal webpage\n",
    "\n",
    "(6) Design games\n",
    "\n",
    "...\n",
    "\n",
    "Python is very powerful! If you want to do something with Python, just Google it!\n",
    "\n",
    "Note that if you have already downloaded Anaconda, Python will be automaticly installed.\n",
    "\n",
    " "
   ]
  },
  {
   "cell_type": "markdown",
   "metadata": {
    "colab_type": "text",
    "id": "J9FtD_ylz3j4"
   },
   "source": [
    "## 3. PyTorch \n",
    "Pytorch is an open source machine learning library, used for applications such as computer vision and natural language processing. It is developed by Facebook's AI Research lab. It is free and open-source software.\n"
   ]
  },
  {
   "cell_type": "markdown",
   "metadata": {
    "colab_type": "text",
    "id": "WEYEEbx6z3j5"
   },
   "source": [
    "    Install Pytorch from https://pytorch.org/ , or use \n",
    "\n",
    "    conda install pytorch torchvision -c pytorch  (Mac User)\n",
    "    \n",
    "    conda install pytorch torchvision cpuonly -c pytorch  (Windows and Linux Users)    "
   ]
  },
  {
   "cell_type": "markdown",
   "metadata": {
    "colab_type": "text",
    "id": "MDm_KNgZz3j5"
   },
   "source": [
    "## 4. Jupyter Notebook \n",
    "Jupyter Notebook is a web-based interactive computational environment for creating Jupyter notebook documents. A Jupyter Notebook document contains an ordered list of input/output \"cells\" which can contain code, text (using Markdown), mathematics, plots and rich media, usually ending with the \".ipynb\" extension. "
   ]
  },
  {
   "cell_type": "markdown",
   "metadata": {
    "colab_type": "text",
    "id": "qGUSEgu3z3j9"
   },
   "source": [
    "    A Jupyter Notebook can be converted to a number of open standard output formats (HTML, presentation slides, LaTeX, PDF, ReStructuredText, Markdown, Python) through \"Download As\" in the web interface, via the nbconvert library or \"jupyter nbconvert\" command line interface in a shell. (Student can do their hw with Jupyter notebook, then submit a .ipynb file. Then the grader can run the code)\n",
    "\n"
   ]
  },
  {
   "cell_type": "markdown",
   "metadata": {
    "colab_type": "text",
    "id": "rgAZzq34_CnA"
   },
   "source": [
    "e.g. This is an exapmle of Markdown cell with \"Tex\" equation.\n",
    "\n",
    "\n",
    "$$f(x)=x^2$$"
   ]
  },
  {
   "cell_type": "code",
   "execution_count": 2,
   "metadata": {
    "colab": {
     "base_uri": "https://localhost:8080/",
     "height": 35
    },
    "colab_type": "code",
    "id": "7Af20k9-_edi",
    "outputId": "cca32ab2-560c-439d-ec1d-9bd91126f953",
    "tags": [
     "hide-output"
    ]
   },
   "outputs": [
    {
     "data": {
      "text/plain": [
       "0.25"
      ]
     },
     "execution_count": 2,
     "metadata": {},
     "output_type": "execute_result"
    }
   ],
   "source": [
    "\n",
    "# e.g. This is an example of Python code cell.\n",
    "2/8\n",
    "\n",
    "# A line started with a pound sign means it is a comment line"
   ]
  },
  {
   "cell_type": "code",
   "execution_count": 3,
   "metadata": {
    "tags": [
     "hide-output"
    ]
   },
   "outputs": [
    {
     "ename": "ModuleNotFoundError",
     "evalue": "No module named 'torch'",
     "output_type": "error",
     "traceback": [
      "\u001b[0;31m---------------------------------------------------------------------------\u001b[0m",
      "\u001b[0;31mModuleNotFoundError\u001b[0m                       Traceback (most recent call last)",
      "\u001b[0;32m<ipython-input-3-9279f38d9c4d>\u001b[0m in \u001b[0;36m<module>\u001b[0;34m\u001b[0m\n\u001b[1;32m      1\u001b[0m \u001b[0;31m# How to use Pytorch\u001b[0m\u001b[0;34m\u001b[0m\u001b[0;34m\u001b[0m\u001b[0;34m\u001b[0m\u001b[0m\n\u001b[0;32m----> 2\u001b[0;31m \u001b[0;32mimport\u001b[0m \u001b[0mtorch\u001b[0m\u001b[0;34m\u001b[0m\u001b[0;34m\u001b[0m\u001b[0m\n\u001b[0m\u001b[1;32m      3\u001b[0m \u001b[0;34m\u001b[0m\u001b[0m\n\u001b[1;32m      4\u001b[0m \u001b[0;31m# We can initialize a matrix as a pytorch tensor:\u001b[0m\u001b[0;34m\u001b[0m\u001b[0;34m\u001b[0m\u001b[0;34m\u001b[0m\u001b[0m\n\u001b[1;32m      5\u001b[0m \u001b[0mA\u001b[0m \u001b[0;34m=\u001b[0m \u001b[0mtorch\u001b[0m\u001b[0;34m.\u001b[0m\u001b[0mtensor\u001b[0m\u001b[0;34m(\u001b[0m\u001b[0;34m[\u001b[0m\u001b[0;34m[\u001b[0m\u001b[0;36m1\u001b[0m\u001b[0;34m,\u001b[0m\u001b[0;36m2\u001b[0m\u001b[0;34m,\u001b[0m\u001b[0;36m3\u001b[0m\u001b[0;34m]\u001b[0m\u001b[0;34m,\u001b[0m\u001b[0;34m[\u001b[0m\u001b[0;36m4\u001b[0m\u001b[0;34m,\u001b[0m\u001b[0;36m5\u001b[0m\u001b[0;34m,\u001b[0m\u001b[0;36m6\u001b[0m\u001b[0;34m]\u001b[0m\u001b[0;34m,\u001b[0m\u001b[0;34m[\u001b[0m\u001b[0;36m7\u001b[0m\u001b[0;34m,\u001b[0m\u001b[0;36m8\u001b[0m\u001b[0;34m,\u001b[0m\u001b[0;36m9\u001b[0m\u001b[0;34m]\u001b[0m\u001b[0;34m]\u001b[0m\u001b[0;34m)\u001b[0m\u001b[0;34m\u001b[0m\u001b[0;34m\u001b[0m\u001b[0m\n",
      "\u001b[0;31mModuleNotFoundError\u001b[0m: No module named 'torch'"
     ]
    }
   ],
   "source": [
    "# How to use Pytorch\n",
    "import torch\n",
    "\n",
    "# We can initialize a matrix as a pytorch tensor:\n",
    "A = torch.tensor([[1,2,3],[4,5,6],[7,8,9]]) \n",
    "print('A is', A)"
   ]
  },
  {
   "cell_type": "markdown",
   "metadata": {
    "colab_type": "text",
    "id": "JrmXhKHUz3j9",
    "tags": [
     "hide-output"
    ]
   },
   "source": [
    "    Install Jupyter Notebook from https://jupyter.org/install, or use\n",
    "    conda install -c conda-forge notebook\n",
    "    \n",
    "    Run Jupyter Notebook:\n",
    "    Step 1: type \"jupyter notebook\" in command line\n",
    "    Step 2: Find the link shows in the command line\n",
    "    Step 3: Open the link with your browser"
   ]
  },
  {
   "cell_type": "markdown",
   "metadata": {
    "colab_type": "text",
    "id": "nfhRpgQZz3j-"
   },
   "source": [
    "## 5. Use Jupyter Notebook to do programing with Python and Pytorch"
   ]
  },
  {
   "cell_type": "markdown",
   "metadata": {
    "colab_type": "text",
    "id": "A8btbBuFz3j_"
   },
   "source": [
    "## Part A: Basic Python Language"
   ]
  },
  {
   "cell_type": "markdown",
   "metadata": {
    "colab_type": "text",
    "id": "8tnDF8N5z3j_"
   },
   "source": [
    "### Arithmetic\n",
    "\n",
    "Like every programming language, Python is a good calculator. Run the block of code below to make sure the answer is right!"
   ]
  },
  {
   "cell_type": "code",
   "execution_count": 8,
   "metadata": {
    "colab": {
     "base_uri": "https://localhost:8080/",
     "height": 0
    },
    "colab_type": "code",
    "id": "GYMfPHEdD_en",
    "outputId": "bd192321-dfdb-43d2-90ac-a6516fb8421f",
    "tags": [
     "hide-output"
    ]
   },
   "outputs": [
    {
     "data": {
      "text/plain": [
       "43.666666666666664"
      ]
     },
     "execution_count": 8,
     "metadata": {},
     "output_type": "execute_result"
    }
   ],
   "source": [
    "8 + 6*2*3 -1 + 2/3"
   ]
  },
  {
   "cell_type": "markdown",
   "metadata": {
    "colab_type": "text",
    "id": "50eVvpznz3kJ"
   },
   "source": [
    "Question: How to calculate the power of a number?   \n",
    "\n",
    "In python, m ** n means $m^n$ "
   ]
  },
  {
   "cell_type": "code",
   "execution_count": 9,
   "metadata": {
    "colab": {
     "base_uri": "https://localhost:8080/",
     "height": 0
    },
    "colab_type": "code",
    "id": "NxwP5XDYESl3",
    "outputId": "43fd6633-ada9-46ad-eece-a8d7e2489489",
    "tags": [
     "hide-output"
    ]
   },
   "outputs": [
    {
     "name": "stdout",
     "output_type": "stream",
     "text": [
      "4\n"
     ]
    }
   ],
   "source": [
    "3 ** 2\n",
    "2 ** 3\n",
    "4 ** 2\n",
    "\n",
    "if 4>2:\n",
    "    print(4)"
   ]
  },
  {
   "cell_type": "markdown",
   "metadata": {
    "colab_type": "text",
    "id": "S_OC-ra734Ae"
   },
   "source": [
    "Pay attention: the rule of indent!"
   ]
  },
  {
   "cell_type": "code",
   "execution_count": 10,
   "metadata": {
    "tags": [
     "hide-output"
    ]
   },
   "outputs": [
    {
     "ename": "IndentationError",
     "evalue": "unexpected indent (<ipython-input-10-ea97276566de>, line 2)",
     "output_type": "error",
     "traceback": [
      "\u001b[0;36m  File \u001b[0;32m\"<ipython-input-10-ea97276566de>\"\u001b[0;36m, line \u001b[0;32m2\u001b[0m\n\u001b[0;31m    y=3\u001b[0m\n\u001b[0m    ^\u001b[0m\n\u001b[0;31mIndentationError\u001b[0m\u001b[0;31m:\u001b[0m unexpected indent\n"
     ]
    }
   ],
   "source": [
    "x=3\n",
    "    y=3\n",
    "# The two \"spaces\" at the front of \"y=3\" are unexpected indent\n",
    "# Check the indent rule of python: https://docs.python.org/2.0/ref/indentation.html"
   ]
  },
  {
   "cell_type": "code",
   "execution_count": null,
   "metadata": {},
   "outputs": [],
   "source": []
  },
  {
   "cell_type": "markdown",
   "metadata": {
    "colab_type": "text",
    "id": "6NGxntKLz3kO"
   },
   "source": [
    "### Variables\n",
    "\n",
    "So you just had a big meal, and now you need to calculate the tip."
   ]
  },
  {
   "cell_type": "code",
   "execution_count": 11,
   "metadata": {
    "colab": {
     "base_uri": "https://localhost:8080/",
     "height": 0
    },
    "colab_type": "code",
    "id": "-2VYSLvEz3kO",
    "outputId": "92aba0da-5c78-4e80-f9e9-0e41686fe154"
   },
   "outputs": [
    {
     "data": {
      "text/plain": [
       "33.0"
      ]
     },
     "execution_count": 11,
     "metadata": {},
     "output_type": "execute_result"
    }
   ],
   "source": [
    "meal = 220.00\n",
    "tip_percent = 0.15\n",
    "meal * tip_percent"
   ]
  },
  {
   "cell_type": "markdown",
   "metadata": {
    "colab_type": "text",
    "id": "FUP2y2jtz3kR"
   },
   "source": [
    "\"meal\" and \"tip_percent\" are not numbers, they are called variables.\n",
    "\n",
    "In Python variables are like buckets (dump trucks?). You can put anything you want in them. Just give them a name and then you can use them.\n"
   ]
  },
  {
   "cell_type": "code",
   "execution_count": 12,
   "metadata": {
    "colab": {},
    "colab_type": "code",
    "id": "owtp1Hi7z3kR"
   },
   "outputs": [],
   "source": [
    "meal = 220\n",
    "tip_percent = 0.15\n",
    "tip = meal * tip_percent\n"
   ]
  },
  {
   "cell_type": "markdown",
   "metadata": {
    "colab_type": "text",
    "id": "53dzE7cMz3kT"
   },
   "source": [
    "However, a variable will not be printed automatically."
   ]
  },
  {
   "cell_type": "code",
   "execution_count": 13,
   "metadata": {
    "colab": {
     "base_uri": "https://localhost:8080/",
     "height": 0
    },
    "colab_type": "code",
    "id": "b_GqI1COz3kU",
    "outputId": "dc9c0579-a3a0-4c01-cce8-6c13ffe328b0",
    "tags": [
     "hide-output"
    ]
   },
   "outputs": [
    {
     "name": "stdout",
     "output_type": "stream",
     "text": [
      "33.0\n"
     ]
    }
   ],
   "source": [
    "print(tip)"
   ]
  },
  {
   "cell_type": "code",
   "execution_count": 14,
   "metadata": {
    "colab": {
     "base_uri": "https://localhost:8080/",
     "height": 0
    },
    "colab_type": "code",
    "id": "mSmGIMg0z3kW",
    "outputId": "35940774-719f-4d75-bbad-9e1eeb80990a",
    "tags": [
     "hide-output"
    ]
   },
   "outputs": [
    {
     "name": "stdout",
     "output_type": "stream",
     "text": [
      "<class 'str'>\n",
      "Hello World!\n"
     ]
    }
   ],
   "source": [
    "# a string is defined with 'your string' or \"your string\"\n",
    "x = 'Hello World!'\n",
    "print(type(x))  # will print the variable type\n",
    "print(x)  #will print the actual variable value\n"
   ]
  },
  {
   "cell_type": "code",
   "execution_count": 15,
   "metadata": {
    "colab": {
     "base_uri": "https://localhost:8080/",
     "height": 0
    },
    "colab_type": "code",
    "id": "eaOph8yrz3kZ",
    "outputId": "f19b9059-b7b2-4e18-9262-01dfb3c55746",
    "tags": [
     "hide-output"
    ]
   },
   "outputs": [
    {
     "name": "stdout",
     "output_type": "stream",
     "text": [
      "<class 'int'>\n"
     ]
    }
   ],
   "source": [
    "x = 1\n",
    "print(type(x))\n"
   ]
  },
  {
   "cell_type": "code",
   "execution_count": 16,
   "metadata": {
    "colab": {
     "base_uri": "https://localhost:8080/",
     "height": 0
    },
    "colab_type": "code",
    "id": "7OwtrMa2z3ka",
    "outputId": "89ee3a14-63eb-48a6-e7f5-0cf6d3ae05bc",
    "tags": [
     "hide-output"
    ]
   },
   "outputs": [
    {
     "name": "stdout",
     "output_type": "stream",
     "text": [
      "The tips should be:33.0\n"
     ]
    }
   ],
   "source": [
    "tip_words = 'The tips should be:'\n",
    "tip = 220 * 0.15\n",
    "\n",
    "# One can connect two string by using the sigh +\n",
    "tip_words_total = tip_words + str(tip) #str(tip) converts a number to a string \n",
    "\n",
    "print(tip_words_total)\n"
   ]
  },
  {
   "cell_type": "markdown",
   "metadata": {
    "colab_type": "text",
    "id": "TYuv7_5wHwPC"
   },
   "source": [
    "### if-elif-else \n"
   ]
  },
  {
   "cell_type": "code",
   "execution_count": 17,
   "metadata": {
    "tags": [
     "hide-output"
    ]
   },
   "outputs": [
    {
     "name": "stdout",
     "output_type": "stream",
     "text": [
      "x is zero\n"
     ]
    }
   ],
   "source": [
    "# if-elif-else\n",
    "x = 0 \n",
    "if x > 0:\n",
    "    print('x is strictly positive')\n",
    "elif x < 0:\n",
    "    print('x is strictly negative')\n",
    "else:\n",
    "    print('x is zero')"
   ]
  },
  {
   "cell_type": "markdown",
   "metadata": {},
   "source": [
    "### for loop and list"
   ]
  },
  {
   "cell_type": "code",
   "execution_count": 18,
   "metadata": {
    "tags": [
     "hide-output"
    ]
   },
   "outputs": [
    {
     "name": "stdout",
     "output_type": "stream",
     "text": [
      "0\n",
      "1\n",
      "2\n",
      "3\n",
      "4\n",
      "5\n",
      "6\n",
      "New\n",
      "The  0 th element in list x is: 1\n",
      "The  1 th element in list x is: 0\n",
      "The  2 th element in list x is: 2\n",
      "The  3 th element in list x is: 8\n",
      "The  4 th element in list x is: 3\n",
      "The  5 th element in list x is: 5\n",
      "The  6 th element in list x is: 2\n",
      "1\n",
      "0\n",
      "2\n",
      "8\n",
      "3\n",
      "5\n",
      "2\n"
     ]
    }
   ],
   "source": [
    "for i in range(7):\n",
    "    print(i)\n",
    "\n",
    "print('New')\n",
    "\n",
    "x = [1,0,2,8,3,5,2]\n",
    "# Given a list x\n",
    "for i in range(len(x)):\n",
    "    print('The ',i,'th element in list x is:', x[i])\n",
    "\n",
    "\n",
    "for i in x:\n",
    "    print(i)"
   ]
  },
  {
   "cell_type": "markdown",
   "metadata": {},
   "source": [
    "### Logical operators"
   ]
  },
  {
   "cell_type": "code",
   "execution_count": 19,
   "metadata": {
    "tags": [
     "hide-output"
    ]
   },
   "outputs": [
    {
     "name": "stdout",
     "output_type": "stream",
     "text": [
      "type of x is: <class 'bool'>\n",
      "x and y is: False\n",
      "x or y is: True\n",
      "not x is: False\n"
     ]
    }
   ],
   "source": [
    "# Logical operators\n",
    "# bool type:  \"True\" (=1), \"False\" (=0)\n",
    "x = True\n",
    "y = False\n",
    "\n",
    "print('type of x is:',type(x)) #will print out variable type\n",
    "\n",
    "print('x and y is:',x and y) # boolean operator and\n",
    "\n",
    "print('x or y is:',x or y)  # boolean operator or\n",
    "\n",
    "print('not x is:',not x) # boolean operator not"
   ]
  },
  {
   "cell_type": "markdown",
   "metadata": {},
   "source": [
    "### Comparsion operators"
   ]
  },
  {
   "cell_type": "code",
   "execution_count": 20,
   "metadata": {
    "tags": [
     "hide-output"
    ]
   },
   "outputs": [
    {
     "name": "stdout",
     "output_type": "stream",
     "text": [
      "x > y is False\n",
      "x < y is True\n",
      "x == y is False\n",
      "x != y is True\n",
      "x >= y is False\n",
      "x <= y is True\n"
     ]
    }
   ],
   "source": [
    "# Comparsion operator: the output is bool type\n",
    "x = 10\n",
    "y = 12\n",
    "\n",
    "# Output: x > y (is x greater than y?)\n",
    "print('x > y is',x>y)\n",
    "\n",
    "# Output: x < y (is x less than y?)\n",
    "print('x < y is',x<y)\n",
    "\n",
    "#Output: x == y (is x equal to y?)\n",
    "print('x == y is',x==y)\n",
    "\n",
    "#Output: x!=y (is x not equal to y?)\n",
    "print('x != y is',x!=y)\n",
    "\n",
    "#There is also 'greater than or equal' >=  less than or equal' <=\n",
    "# Output: x >= y is False\n",
    "print('x >= y is',x>=y)\n",
    "\n",
    "# Output: x <= y is True\n",
    "print('x <= y is',x<=y)\n"
   ]
  },
  {
   "cell_type": "markdown",
   "metadata": {},
   "source": [
    "Question: what is the difference between \"x =10\" and \"x == 10\"\n",
    "\n",
    "* x=10 is an assignment setting the variable x equal to 10\n",
    "* x==10 is a comparison (output true false) answering the question, Is x equal to 10?"
   ]
  },
  {
   "cell_type": "code",
   "execution_count": 22,
   "metadata": {
    "tags": [
     "hide-output"
    ]
   },
   "outputs": [
    {
     "name": "stdout",
     "output_type": "stream",
     "text": [
      "7\n",
      "4\n",
      "0\n",
      "1\n",
      "2\n",
      "5\n",
      "4\n",
      "8\n",
      "1\n",
      "6\n",
      "The length of the list is:  10\n",
      "number bigger than 5:  3\n",
      "number less than 5:  6\n",
      "number equal to 5:  1\n",
      "True\n"
     ]
    }
   ],
   "source": [
    "import numpy as np\n",
    "# Am example combines the commands introduced above together\n",
    "# Pay more attention the indent rule\n",
    "x = np.random.randint(0,11,size=10)  #defines a vector of integers of length 10, it calls numpy package\n",
    "\n",
    "for i in x:\n",
    "    print(i)\n",
    "    \n",
    "print('The length of the list is: ',len(x))\n",
    "\n",
    "# Count how many numbers are bigger than 5 and how many numbers are less than 5 and how many numbers are equal to 5\n",
    "# We define and initialize the variables\n",
    "count_bigger = 0\n",
    "count_smaller = 0\n",
    "count_equal = 0\n",
    "\n",
    "for i in range(len(x)):\n",
    "    if x[i]>5:\n",
    "        count_bigger = count_bigger + 1\n",
    "    elif x[i]<5:\n",
    "        count_smaller = count_smaller + 1\n",
    "    else:   # all other\n",
    "        count_equal = count_equal + 1\n",
    "        \n",
    "print('number bigger than 5: ',count_bigger)\n",
    "print('number less than 5: ', count_smaller)\n",
    "print('number equal to 5: ', count_equal)\n",
    "\n",
    "#Check by seeing if count_equal == len(x)-(count_bigger + count_smaller)\n",
    "print(count_equal == len(x)- (count_bigger+count_smaller))  # boolen True/False\n"
   ]
  },
  {
   "cell_type": "markdown",
   "metadata": {
    "colab_type": "text",
    "id": "W8rFNAZVz3kd"
   },
   "source": [
    "## Part B: Some examples\n"
   ]
  },
  {
   "cell_type": "code",
   "execution_count": 23,
   "metadata": {
    "tags": [
     "hide-output"
    ]
   },
   "outputs": [],
   "source": [
    "# you can use many Python packages by importing them. Check the reference: \n",
    "#https://docs.python.org/3/reference/import.html\n",
    "\n",
    "# NEED TO IMPORT numpy as np as notes use \"np\" to call numpy package, \n",
    "# numpy is a fundamental package for scientific computing with Python.\n",
    "import numpy as np  \n",
    "\n",
    "import matplotlib.pyplot as plt \n",
    "# matplotlib is a plotting library for the Python programming language \n",
    "\n",
    "import torch \n",
    "# import Pytorch\n"
   ]
  },
  {
   "cell_type": "markdown",
   "metadata": {
    "colab_type": "text",
    "id": "46BzinVyz3kd"
   },
   "source": [
    "### **Example 1**\n",
    "Plot the curve of a funtion"
   ]
  },
  {
   "cell_type": "code",
   "execution_count": 24,
   "metadata": {},
   "outputs": [],
   "source": [
    "#The above \"header\" was done using a \"markdown\" cell and markdown header designator"
   ]
  },
  {
   "cell_type": "code",
   "execution_count": 25,
   "metadata": {
    "colab": {
     "base_uri": "https://localhost:8080/",
     "height": 283
    },
    "colab_type": "code",
    "id": "TYX-1Dk8z3ke",
    "outputId": "70dccdc2-01e7-4720-ee81-eb742978c6ae",
    "scrolled": true,
    "tags": [
     "hide-output"
    ]
   },
   "outputs": [
    {
     "data": {
      "text/plain": [
       "<matplotlib.legend.Legend at 0x122090668>"
      ]
     },
     "execution_count": 25,
     "metadata": {},
     "output_type": "execute_result"
    },
    {
     "data": {
      "image/png": "[encoded data removed]",
      "text/plain": [
       "<Figure size 432x288 with 1 Axes>"
      ]
     },
     "metadata": {
      "filenames": {
       "image/png": "/Users/david/Desktop/math452_Spring2022/_build/jupyter_execute/Module0/ch0_3_45_1.png"
      },
      "needs_background": "light"
     },
     "output_type": "display_data"
    }
   ],
   "source": [
    "import torch\n",
    "import numpy as np\n",
    "import matplotlib.pyplot as plt\n",
    "# Define a function f(x) = x^2\n",
    "def f(x):\n",
    "    return x ** 2 \n",
    "def g(x):\n",
    "    return x ** 2 + 1000\n",
    "#generate a linear space with torch.linspace(start, end, steps)\n",
    "x=torch.linspace(-100, 100, 10)\n",
    "\n",
    "plt.plot(x, f(x), '*--r', label='Function $f(x)=x^2$') #point is * and color is red and label embedded LaTeX\n",
    "plt.plot(x, g(x), '*--g', label='Function $g(x)=x^2 + 1000$')\n",
    "\n",
    "plt.legend()\n",
    "\n",
    "# plt.figure()\n",
    "# plt.plot(x, g(x), '*--r', label='Function g(x)=x')\n",
    "# plt.legend()\n"
   ]
  },
  {
   "cell_type": "markdown",
   "metadata": {
    "colab_type": "text",
    "id": "t8Op_NP5z3kf"
   },
   "source": [
    "### **Exercise 1**\n",
    "Plot the curve of function \n",
    "$\n",
    "f(x) = x^3 - x, x \\in [-1,1].\n",
    "$"
   ]
  },
  {
   "cell_type": "markdown",
   "metadata": {
    "colab_type": "text",
    "id": "l2ENBj8Nz3kg"
   },
   "source": [
    "================================================================================================================="
   ]
  },
  {
   "cell_type": "markdown",
   "metadata": {
    "colab_type": "text",
    "id": "eY74kXCSz3kg"
   },
   "source": [
    "### **Example 2**\n",
    "Find the roots of a function"
   ]
  },
  {
   "cell_type": "markdown",
   "metadata": {
    "colab_type": "text",
    "id": "PsX9sU1Nz3kh"
   },
   "source": [
    "### $f(x) = x-2$"
   ]
  },
  {
   "cell_type": "code",
   "execution_count": 26,
   "metadata": {},
   "outputs": [],
   "source": [
    "#Above cell is a 'markdown' cell written  $f(x) = x-2$ which is embedded LaTeX"
   ]
  },
  {
   "cell_type": "code",
   "execution_count": 27,
   "metadata": {
    "colab": {
     "base_uri": "https://localhost:8080/",
     "height": 35
    },
    "colab_type": "code",
    "id": "DuosvJZNz3kh",
    "outputId": "3aa0c593-366c-482a-9d07-26f71c427d1f"
   },
   "outputs": [
    {
     "name": "stdout",
     "output_type": "stream",
     "text": [
      "The root is: [2.]\n"
     ]
    }
   ],
   "source": [
    "from scipy.optimize import fsolve\n",
    "def f(x):\n",
    "    return x - 2\n",
    "\n",
    "# We us root = fsolve(function, initial guess) to find ONE root of a function\n",
    "# If a function has multiple roots, the output 'root' will be the one closest to 'initial guess'\n",
    "x0 = fsolve(f, 0)\n",
    "print('The root is:', x0)\n"
   ]
  },
  {
   "cell_type": "markdown",
   "metadata": {
    "colab_type": "text",
    "id": "tt6oay6Rz3kk"
   },
   "source": [
    "### $h(x) = x + 2  cos(x),~~ x \\in[-4,4].$"
   ]
  },
  {
   "cell_type": "code",
   "execution_count": 28,
   "metadata": {},
   "outputs": [],
   "source": [
    "#Again, above cell is a 'markdown' cell written $h(x)=x+2\\cos(x),~~x\\in[-4,4]$ which is embedded LaTeX"
   ]
  },
  {
   "cell_type": "code",
   "execution_count": 29,
   "metadata": {
    "colab": {
     "base_uri": "https://localhost:8080/",
     "height": 302
    },
    "colab_type": "code",
    "id": "vFWiE_TDz3kl",
    "outputId": "cb9072b3-694f-47ff-9b60-302ddda0e9d1"
   },
   "outputs": [
    {
     "name": "stdout",
     "output_type": "stream",
     "text": [
      "The root is: [-1.02986653]\n"
     ]
    },
    {
     "data": {
      "text/plain": [
       "<matplotlib.legend.Legend at 0x10237fef28>"
      ]
     },
     "execution_count": 29,
     "metadata": {},
     "output_type": "execute_result"
    },
    {
     "data": {
      "image/png": "[encoded data removed]",
      "text/plain": [
       "<Figure size 432x288 with 1 Axes>"
      ]
     },
     "metadata": {
      "filenames": {
       "image/png": "/Users/david/Desktop/math452_Spring2022/_build/jupyter_execute/Module0/ch0_3_54_2.png"
      },
      "needs_background": "light"
     },
     "output_type": "display_data"
    }
   ],
   "source": [
    "import numpy as np\n",
    "def h(x):\n",
    "    return x + 2 * np.cos(x)\n",
    "x0 = fsolve(h, 1)\n",
    "print('The root is:', x0)\n",
    "x = np.linspace(-4, 4, 1000)\n",
    "\n",
    "plt.plot(x, h(x),'-', label='function $h(x)=x + 2 cos(x)$')\n",
    "plt.plot(x0, h(x0), '*',label='root') # draw the solution point on the curve\n",
    "plt.legend()"
   ]
  },
  {
   "cell_type": "markdown",
   "metadata": {
    "colab_type": "text",
    "id": "kTHHlHSbz3kn"
   },
   "source": [
    "### **Exercise 2**\n",
    "### (1) Find the two roots of the function\n",
    "\n",
    "$\n",
    "f(x) = 2x^2 - x - 1 , x \\in [-1,2].\n",
    "$\n",
    "\n",
    "### (2) Plot the curve of the function $f(x)$ defined in (1) and mark all the roots on the curve."
   ]
  },
  {
   "cell_type": "markdown",
   "metadata": {
    "colab_type": "text",
    "id": "l_Bz9vz7z3kn"
   },
   "source": [
    "================================================================================================================="
   ]
  },
  {
   "cell_type": "markdown",
   "metadata": {
    "colab_type": "text",
    "id": "O-OyyHliz3ko"
   },
   "source": [
    "### **Example 3**\n",
    "create A vector and a matrix (generally use tensors in Pytorch) and solve $Ax=b$\n",
    "\n",
    "$\n",
    "A=\\begin{bmatrix} 1 & 2 & 3 \\\\ 4 & 5 & 6 \\\\ 7 & 8 & 9 \\end{bmatrix}, \\quad\\quad \n",
    "b=\\begin{bmatrix} 1  \\\\ 2 \\\\ 3 \\end{bmatrix}\n",
    "$\n",
    "### where $x=\\begin{bmatrix} x_1  \\\\ x_2 \\\\ x_3 \\end{bmatrix}$ are unknown variables.\n",
    "\n",
    "\n",
    "### Remark: it is equivalent to solve\n",
    "\n",
    "$\n",
    "1 * x_1 + 2 * x_2 + 3 * x_3 = 1\\\\\n",
    "4 * x_1 + 5 * x_2 + 6 * x_3 = 2\\\\\n",
    "7 * x_1 + 8 * x_2 + 9 * x_3 = 3\\\\\n",
    "$"
   ]
  },
  {
   "cell_type": "code",
   "execution_count": 30,
   "metadata": {
    "colab": {
     "base_uri": "https://localhost:8080/",
     "height": 156
    },
    "colab_type": "code",
    "id": "TcK3PhE8z3ko",
    "outputId": "9c5bb28d-df58-4f4a-80e3-6b9b6a58b388",
    "tags": [
     "hide-output"
    ]
   },
   "outputs": [
    {
     "name": "stdout",
     "output_type": "stream",
     "text": [
      "A is tensor([[1., 2., 3.],\n",
      "        [4., 5., 6.],\n",
      "        [7., 8., 9.]])\n",
      "\n",
      "\n",
      "b is tensor([[1.],\n",
      "        [2.],\n",
      "        [3.]])\n"
     ]
    }
   ],
   "source": [
    "import torch\n",
    "import numpy as np\n",
    "\n",
    "# We can initialize a matrix as a Pytorch tensor: [[row 1],[row 2],[row 3]]\n",
    "A = torch.tensor([[1,2,3],[4,5,6],[7,8,9]],dtype=torch.float32) # the type of data is torch.float32\n",
    "print('A is', A)\n",
    "\n",
    "\n",
    "# Print an empty line.\n",
    "print('\\n') \n",
    "\n",
    "# We can initialize a column vector as a pytorch tensor:\n",
    "b = torch.tensor([[1],[2],[3]],dtype=torch.float32) \n",
    "print('b is', b)\n"
   ]
  },
  {
   "cell_type": "code",
   "execution_count": 31,
   "metadata": {
    "colab": {
     "base_uri": "https://localhost:8080/",
     "height": 69
    },
    "colab_type": "code",
    "id": "18uqn5srz3kq",
    "outputId": "95772500-32ef-4aba-a8e7-70b1dbb11ad3",
    "tags": [
     "hide-output"
    ]
   },
   "outputs": [
    {
     "name": "stdout",
     "output_type": "stream",
     "text": [
      "x is tensor([[ 9.9341e-09],\n",
      "        [-1.9868e-08],\n",
      "        [ 3.3333e-01]])\n"
     ]
    }
   ],
   "source": [
    "# We use LU factorization to solve Ax=b by calling torch.solve(b,A)\n",
    "x, LU =torch.solve(b,A) \n",
    "# the ouput gives you the solution x and LU, which contains L and U factors for LU factorization of A\n",
    "print('x is', x)\n"
   ]
  },
  {
   "cell_type": "code",
   "execution_count": 32,
   "metadata": {
    "colab": {
     "base_uri": "https://localhost:8080/",
     "height": 156
    },
    "colab_type": "code",
    "id": "kX9BSzOrz3kr",
    "outputId": "956758c4-e566-4d5c-9d88-5cfb5aacf8a0",
    "tags": [
     "hide-output"
    ]
   },
   "outputs": [
    {
     "name": "stdout",
     "output_type": "stream",
     "text": [
      "c1 is: tensor([[0., 0.],\n",
      "        [0., 0.]])\n",
      "Type of c1: torch.float32\n",
      "\n",
      "\n",
      "c2 is tensor([[0, 0],\n",
      "        [0, 0]], dtype=torch.int32)\n",
      "Type of c2: torch.int32\n"
     ]
    }
   ],
   "source": [
    "# We can also initialize a zeroed tensor and check the data type of the tensor\n",
    "c1 = torch.zeros([2,2])\n",
    "print('c1 is:', c1) \n",
    "print('Type of c1:', c1.dtype) \n",
    "\n",
    "# Print an empty line.\n",
    "print('\\n') \n",
    "\n",
    "# Note that the default type of such a tensor is a 32-bit float.\n",
    "c2 = torch.zeros([2,2], dtype=torch.int32)\n",
    "print('c2 is', c2)\n",
    "print('Type of c2:', c2.dtype)"
   ]
  },
  {
   "cell_type": "code",
   "execution_count": 33,
   "metadata": {
    "colab": {
     "base_uri": "https://localhost:8080/",
     "height": 87
    },
    "colab_type": "code",
    "id": "II2njSPOz3kx",
    "outputId": "4a84ecc6-bf7e-46ba-f07d-6ce5ea096764",
    "tags": [
     "hide-output"
    ]
   },
   "outputs": [
    {
     "name": "stdout",
     "output_type": "stream",
     "text": [
      "tensor([[1., 1.],\n",
      "        [1., 1.]])\n",
      "tensor([[2., 1.],\n",
      "        [1., 1.]])\n"
     ]
    }
   ],
   "source": [
    "# some basic operations\n",
    "\n",
    "# plus\n",
    "c = c1 + 1\n",
    "print(c)\n",
    "\n",
    "c[0,0] = c[0,0]+1\n",
    "print(c)"
   ]
  },
  {
   "cell_type": "code",
   "execution_count": 34,
   "metadata": {
    "colab": {
     "base_uri": "https://localhost:8080/",
     "height": 156
    },
    "colab_type": "code",
    "id": "mKqwZiRxz3kz",
    "outputId": "5469861c-d2d4-4e5c-dee0-e2bf054e9387",
    "tags": [
     "hide-output"
    ]
   },
   "outputs": [
    {
     "name": "stdout",
     "output_type": "stream",
     "text": [
      "tensor([[4., 2.],\n",
      "        [2., 2.]])\n",
      "\n",
      "\n",
      "tensor([[1.],\n",
      "        [2.]])\n",
      "tensor([[8.],\n",
      "        [6.]])\n"
     ]
    }
   ],
   "source": [
    "# multiply\n",
    "c = c * 2\n",
    "print(c)\n",
    "\n",
    "print('\\n')\n",
    "\n",
    "# multiplication of a matrix and a vector (generally two size-matched tensors)\n",
    "\n",
    "d = torch.tensor([[1],[2]],dtype=torch.float32) \n",
    "print(d)\n",
    "c = torch.mm(c,d)\n",
    "print(c)\n"
   ]
  },
  {
   "cell_type": "markdown",
   "metadata": {
    "colab_type": "text",
    "id": "cL_XkTgmz3k1"
   },
   "source": [
    "### **Exercise 3.1**\n",
    "Given $P=\\begin{bmatrix} 1 & 2 \\\\ 3 & 4\\end{bmatrix}$, investigate the two different multiplications $P*P$ and $torch.mm(P,P)$."
   ]
  },
  {
   "cell_type": "markdown",
   "metadata": {
    "colab_type": "text",
    "id": "QFdILTiHz3k1"
   },
   "source": [
    "### Exercise **3.2**\n",
    "Given \n",
    "$\n",
    "A=\\begin{bmatrix} 1 & 2 & 3 \\\\ 4 & 5 & 6 \\\\ 7 & 8 & 9 \\end{bmatrix}, \\quad\\quad \n",
    "b=\\begin{bmatrix} 1  \\\\ 2 \\\\ 3 \\end{bmatrix}.\n",
    "$\n",
    "### Solve $A^2 x = b$"
   ]
  },
  {
   "cell_type": "markdown",
   "metadata": {
    "colab_type": "text",
    "id": "qcBjCGE9z3k2"
   },
   "source": [
    "================================================================================================================="
   ]
  },
  {
   "cell_type": "markdown",
   "metadata": {
    "colab_type": "text",
    "id": "XmhEkm0nz3k2"
   },
   "source": [
    "### **Example 4**\n",
    "Calculate the derivate of $(xy)^2$ at  $x=1, y=2$ w.r.t  $x$. "
   ]
  },
  {
   "cell_type": "markdown",
   "metadata": {},
   "source": [
    "We wish to calculate $ \\dfrac{\\partial f}{\\partial y}|_{x=1,y=2}$ where $f(x,y)=(xy)^2$"
   ]
  },
  {
   "cell_type": "markdown",
   "metadata": {},
   "source": [
    "$\\dfrac{\\partial f}{\\partial y} = 2xy^2$, thus $\\dfrac{\\partial f(1,2)}{\\partial y} = 2 \\cdot 1 \\cdot (2^2)=8$"
   ]
  },
  {
   "cell_type": "code",
   "execution_count": 35,
   "metadata": {
    "colab": {
     "base_uri": "https://localhost:8080/",
     "height": 87
    },
    "colab_type": "code",
    "id": "mVFZkfwbz3k2",
    "outputId": "83cb1445-0a7b-42a7-b7b4-9ed3815d5c1a",
    "tags": [
     "hide-output"
    ]
   },
   "outputs": [
    {
     "name": "stdout",
     "output_type": "stream",
     "text": [
      "x requires_grad? True\n",
      "y requires_grad? False\n",
      "z.requires_grad? True\n",
      "(tensor([8.]),)\n"
     ]
    }
   ],
   "source": [
    "# In order to calculate the gradient with respect to a tensor, we should set the requires_grad flag to True.\n",
    "x = torch.tensor([1.0], requires_grad=True)\n",
    "y = torch.tensor([2.0])\n",
    "\n",
    "# By default, requires_grad is set to False if possible.\n",
    "print('x requires_grad?', x.requires_grad)\n",
    "print('y requires_grad?', y.requires_grad)\n",
    "\n",
    "z = (x*y)**2\n",
    "print('z.requires_grad?', z.requires_grad)\n",
    "\n",
    "\n",
    "# Calculate the derivative of out w.r.t. x. Automatically applies the chain rule as needed.\n",
    "grad = torch.autograd.grad(outputs=z, inputs=x) \n",
    "print(grad)"
   ]
  },
  {
   "cell_type": "markdown",
   "metadata": {
    "colab_type": "text",
    "id": "RCGBDvQNz3k4"
   },
   "source": [
    "### **Exercise 4**\n",
    "Calculate the derivative of $x^2+y^2+(xy)^3$ at $x=1,y=2$ w.r.t $y$."
   ]
  },
  {
   "cell_type": "markdown",
   "metadata": {
    "colab_type": "text",
    "id": "qcBjCGE9z3k2"
   },
   "source": [
    "================================================================================================================="
   ]
  },
  {
   "cell_type": "markdown",
   "metadata": {
    "colab_type": "text",
    "id": "_ZhAQB6T3uvb"
   },
   "source": [
    "### **Example 5**\n",
    "Define a function to find the maximum of three numbers $a,~b,~c$. Test your code and print the maximum of the three numbers, where $a=\\sqrt{2},~ b=\\frac{4}{3},~ c=0.5e$"
   ]
  },
  {
   "cell_type": "code",
   "execution_count": 36,
   "metadata": {
    "tags": [
     "hide-output"
    ]
   },
   "outputs": [
    {
     "name": "stdout",
     "output_type": "stream",
     "text": [
      "a= 1.4142135623730951\n",
      "b= 1.3333333333333333\n",
      "c= 1.3591409142295225\n",
      "The maximum of a,b,c is: 1.4142135623730951\n"
     ]
    }
   ],
   "source": [
    "# Define a function\n",
    "# def is a keyword, which means you are defining a function\n",
    "# f_max is the name of the function\n",
    "# (a,b,c) are the input of the function\n",
    "# return some_value gives you the output of the function\n",
    "# Pay attention on the indent rules\n",
    "def f_max(a,b,c): \n",
    "    max_value = a\n",
    "    if b> max_value:\n",
    "        max_value = b\n",
    "    if c > max_value:\n",
    "        max_value=c\n",
    "    return max_value\n",
    "\n",
    "a = 2 ** 0.5\n",
    "b = 4/3\n",
    "c = 0.5 * np.exp(1)\n",
    "print('a=',a)\n",
    "print('b=',b)\n",
    "print('c=',c)\n",
    "\n",
    "# call function f_max with input a=2 ** 0.5, b = 4/3, c = 0.5 * np.exp(1)\n",
    "# The function will return the maximum value of a,b,c\n",
    "print('The maximum of a,b,c is:',f_max(a,b,c))"
   ]
  },
  {
   "cell_type": "markdown",
   "metadata": {
    "colab_type": "text",
    "id": "zDT7DRnn697I"
   },
   "source": [
    "### **Exercise 5.1**\n",
    "Define a function to find the minimum of three numbers $a,~b,~c$. Test your code and print the minimum of the three numbers, where $a=\\sqrt{2},~ b=\\frac{4}{3},~ c=0.5e$"
   ]
  },
  {
   "cell_type": "markdown",
   "metadata": {},
   "source": [
    "\n",
    "### **Exercise 5.2**\n",
    "Define a function to find the maximum and minimum of a sequence with n numbers.\n",
    "\n",
    "Hint: x = np.random.randint(a,b,size=n) can randomly generate n numbers (saved in a row vector x ) and each number is between a and b.\n"
   ]
  },
  {
   "cell_type": "markdown",
   "metadata": {},
   "source": [
    "### **Exercise 5.3**\n",
    "Define a function to sort a sequence with n numbers in ascending order.\n"
   ]
  },
  {
   "cell_type": "markdown",
   "metadata": {
    "colab_type": "text",
    "id": "qcBjCGE9z3k2"
   },
   "source": [
    "================================================================================================================="
   ]
  }
 ],
 "metadata": {
  "celltoolbar": "Tags",
  "colab": {
   "collapsed_sections": [
    "A8btbBuFz3j_",
    "8tnDF8N5z3j_",
    "6NGxntKLz3kO",
    "t8Op_NP5z3kf",
    "eY74kXCSz3kg",
    "PsX9sU1Nz3kh",
    "tt6oay6Rz3kk",
    "kTHHlHSbz3kn",
    "O-OyyHliz3ko",
    "cL_XkTgmz3k1",
    "QFdILTiHz3k1",
    "XmhEkm0nz3k2",
    "bn4Pbjwgz3k4",
    "MJn6VYpQz3k8",
    "JOcri38sz3k8"
   ],
   "name": "Lecture1.ipynb",
   "provenance": []
  },
  "kernelspec": {
   "display_name": "Python 3",
   "language": "python",
   "name": "python3"
  },
  "language_info": {
   "codemirror_mode": {
    "name": "ipython",
    "version": 3
   },
   "file_extension": ".py",
   "mimetype": "text/x-python",
   "name": "python",
   "nbconvert_exporter": "python",
   "pygments_lexer": "ipython3",
   "version": "3.8.8"
  }
 },
 "nbformat": 4,
 "nbformat_minor": 1
}