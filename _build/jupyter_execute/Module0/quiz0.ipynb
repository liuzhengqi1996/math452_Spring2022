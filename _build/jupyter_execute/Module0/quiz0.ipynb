{
 "cells": [
  {
   "cell_type": "markdown",
   "id": "ea2dae54",
   "metadata": {},
   "source": [
    "# Preliminary Quiz\n",
    "For Penn State student, access quiz [here](https://psu.instructure.com/courses/2177217/quizzes/4421199)"
   ]
  },
  {
   "cell_type": "code",
   "execution_count": 1,
   "id": "09ab655a",
   "metadata": {
    "tags": [
     "hide-input"
    ]
   },
   "outputs": [],
   "source": [
    "import ipywidgets as widgets"
   ]
  },
  {
   "cell_type": "markdown",
   "id": "66a7f645",
   "metadata": {},
   "source": [
    "## Queation 1\n",
    "![image](./Quiz1_Question1.jpg)\n",
    "\n",
    "Consider the feasible region given by the following inequalities. whose boundary lines are graphed above.\n",
    "\n",
    "$$\n",
    "    x+2y \\geq 6 \\\\\n",
    "    x+y \\geq 4 \\\\\n",
    "    x \\geq 0 \\\\\n",
    "    y \\geq 0 \\\\\n",
    "$$\n",
    "\n",
    "Which ONE of the following labels best indicate the feasible region described above?\n"
   ]
  },
  {
   "cell_type": "markdown",
   "id": "6b63af03",
   "metadata": {},
   "source": [
    "```{dropdown} Show answer\n",
    "Answer: III\n",
    "```"
   ]
  },
  {
   "cell_type": "markdown",
   "id": "ac6ca6e0",
   "metadata": {},
   "source": [
    "## Question 2\n",
    "Let \n",
    "\n",
    "$$\n",
    "    f(x) = x_1^2+x_3^2+x_3^4, p =(\\frac{1}{\\sqrt{3}},\\frac{1}{\\sqrt{3}},\\frac{1}{\\sqrt{3}}) , g(t)=f(x+tp)\n",
    "$$\n",
    "\n",
    "where $t$ is a scalar variable. Find $g^{'}(0)$ at $x=(1,1,1)$"
   ]
  },
  {
   "cell_type": "markdown",
   "id": "7b482957",
   "metadata": {},
   "source": [
    "```{dropdown} Show answer\n",
    "Answer: \n",
    "\n",
    "$$\n",
    "    3\\sqrt{3}\n",
    "$$\n",
    "\n",
    "```"
   ]
  },
  {
   "cell_type": "markdown",
   "id": "d7020c7e",
   "metadata": {},
   "source": [
    "## Question 3\n",
    "Determine the global maximum and global minimum of the function\n",
    "\n",
    "$$\n",
    "    f(x) = x^3-3x^2+5\n",
    "$$\n",
    " on the interval $[-2,3]$"
   ]
  },
  {
   "cell_type": "markdown",
   "id": "a8a9f903",
   "metadata": {},
   "source": [
    "```{dropdown} Show answer\n",
    "Answer: \n",
    "\n",
    "\n",
    "    Global maximum is 5; global minimum is -15.\n",
    "\n",
    "```"
   ]
  },
  {
   "cell_type": "markdown",
   "id": "ca9d96bf",
   "metadata": {},
   "source": [
    "## Question 4\n",
    "Find the global minimizer and the global minimum value of the function \n",
    "\n",
    "$$\n",
    "    f(x,y)=(x-2)^2+y^2+2(y-4)^2+2x^2+2xy+4y-16x+1.\n",
    "$$\n",
    "\n",
    "That is, determine the point $(x_0,y_0)$  which yields the global minimum value,  "
   ]
  },
  {
   "cell_type": "markdown",
   "id": "cf084461",
   "metadata": {},
   "source": [
    "```{dropdown} Show answer\n",
    "Answer: \n",
    "$x_0 = 3$,  $y_0 = 1$\n",
    "\n",
    "$f_{min} = 1$\n",
    "\n",
    "```"
   ]
  },
  {
   "cell_type": "markdown",
   "id": "8dbfbb74",
   "metadata": {},
   "source": [
    "## Problem 5\n",
    "Which of the following matrices has an inverse?\n",
    "\n",
    "\n",
    "\n",
    "$$\n",
    "    \\begin{bmatrix}\n",
    "3&4 \\\\\n",
    "6&8 \\\\\n",
    "\\end{bmatrix}\n",
    "$$\n",
    "\n",
    " \n",
    "\n",
    "$$\n",
    "    \\begin{bmatrix}\n",
    "0&-4 \\\\\n",
    "0&10 \\\\\n",
    "\\end{bmatrix}\n",
    "$$\n",
    "\n",
    " \n",
    "\n",
    "$$\n",
    "    \\begin{bmatrix}\n",
    "4&-10 \\\\\n",
    "2&5 \\\\\n",
    "\\end{bmatrix}\n",
    "$$\n",
    "\n",
    " \n",
    "\n",
    "$$\n",
    "    \\begin{bmatrix}\n",
    "1&4 \\\\\n",
    "0&3 \\\\\n",
    "\\end{bmatrix}\n",
    "$$\n",
    "\n",
    " \n",
    "\n",
    "$$\n",
    "    \\begin{bmatrix}\n",
    "0&0 \\\\\n",
    "5&7 \\\\\n",
    "\\end{bmatrix}\n",
    "$$\n"
   ]
  },
  {
   "cell_type": "markdown",
   "id": "c1b18af8",
   "metadata": {},
   "source": [
    "```{dropdown} Show answer\n",
    "Answer: \n",
    "\n",
    "$$\n",
    "    \\begin{bmatrix}\n",
    "1&4 \\\\\n",
    "0&3 \\\\\n",
    "\\end{bmatrix}\n",
    "$$\n",
    "\n",
    "```"
   ]
  },
  {
   "cell_type": "markdown",
   "id": "4161a0b2",
   "metadata": {},
   "source": [
    "## Question 6\n",
    "Let \n",
    "\n",
    "$$\n",
    "    A=\\left(\n",
    "\\begin{matrix}\n",
    "1&-1&0\\\\\n",
    "-1&2&-1\\\\\n",
    "0&-1&1\n",
    "\\end{matrix}\n",
    "\\right)\n",
    "$$\n",
    "\n",
    "Compute the eigenvalues of $A$\n",
    "\n"
   ]
  },
  {
   "cell_type": "markdown",
   "id": "ff1c2902",
   "metadata": {},
   "source": [
    "```{dropdown} Show answer\n",
    "Answer: \n",
    "\n",
    "1,0,3\n",
    "```"
   ]
  },
  {
   "cell_type": "markdown",
   "id": "25774072",
   "metadata": {},
   "source": [
    "## Question 7\n",
    "Let \n",
    "\n",
    "$$\n",
    "    a=\n",
    "\\begin{bmatrix}\n",
    "1\\\\\n",
    "1\\\\\n",
    "1\\\\\n",
    "1\n",
    "\\end{bmatrix}\n",
    "\\in R^4\n",
    "$$\n",
    "\n",
    "and $A=aa^T$\n",
    "\n",
    "Find the eigenvalues and corresponding eigenvectors of $A$\n",
    "\n",
    "Write out solution."
   ]
  },
  {
   "cell_type": "markdown",
   "id": "658c9e84",
   "metadata": {},
   "source": [
    "```{dropdown} Show answer\n",
    "$$\n",
    "    \\lambda =4 , x = \\begin{bmatrix}\n",
    "1\\\\\n",
    "1\\\\\n",
    "1\\\\\n",
    "1\n",
    "\\end{bmatrix}\n",
    "$$ \n",
    "\n",
    "$$\n",
    "    \\lambda = 0,\n",
    "    x = \\begin{bmatrix}1\\\\-1\\\\0\\\\0 \\end{bmatrix}\n",
    "    \\begin{bmatrix}1\\\\0\\\\-1\\\\0\\end{bmatrix}\n",
    "    \\begin{bmatrix}1\\\\0\\\\0\\\\-1\\end{bmatrix}\n",
    "$$\n",
    "\n",
    "\n",
    "\n",
    "\n",
    "```"
   ]
  },
  {
   "cell_type": "markdown",
   "id": "e412d05f",
   "metadata": {},
   "source": [
    "## Question 8\n",
    "How would you code $ax^2$ in python?\n"
   ]
  },
  {
   "cell_type": "markdown",
   "id": "424742e0",
   "metadata": {},
   "source": [
    "```{dropdown} Show answer\n",
    "$3*x**2$\n",
    "```\n"
   ]
  },
  {
   "cell_type": "markdown",
   "id": "4e66f8ab",
   "metadata": {},
   "source": [
    "## Question 9\n",
    "When writing in python, what will be the output after the following statements?\n"
   ]
  },
  {
   "cell_type": "code",
   "execution_count": 2,
   "id": "f54ba3d0",
   "metadata": {
    "tags": [
     "hide-output"
    ]
   },
   "outputs": [
    {
     "name": "stdout",
     "output_type": "stream",
     "text": [
      "True\n"
     ]
    }
   ],
   "source": [
    "\n",
    "m = 92\n",
    "n = 35\n",
    "print(m > n)"
   ]
  },
  {
   "cell_type": "markdown",
   "id": "9ec90c17",
   "metadata": {},
   "source": [
    "```{dropdown} Show answer\n",
    "True\n",
    "```"
   ]
  },
  {
   "cell_type": "markdown",
   "id": "8d143938",
   "metadata": {},
   "source": [
    "## Question 10\n",
    "NumPy is a library for the Python programming language which provides support for large, multi-dimensional arrays\n",
    "and matrices, along with a large collection of high-level mathematical functions to operate on these arrays.\n",
    "For example, \n",
    "\n",
    "> x = np.array([1, 2, 3])  \n",
    "\n",
    "will set x to a vector array with components (1, 2, 3).\n",
    "To utilize the above array function as listed, what do you need to do prior to using it?"
   ]
  },
  {
   "cell_type": "markdown",
   "id": "54dc6a37",
   "metadata": {},
   "source": [
    "```{dropdown} Show answer\n",
    "> import numpy as np\n",
    "```"
   ]
  },
  {
   "cell_type": "code",
   "execution_count": null,
   "id": "3b81e5a6",
   "metadata": {},
   "outputs": [],
   "source": []
  }
 ],
 "metadata": {
  "celltoolbar": "Tags",
  "kernelspec": {
   "display_name": "Python 3 (ipykernel)",
   "language": "python",
   "name": "python3"
  },
  "language_info": {
   "codemirror_mode": {
    "name": "ipython",
    "version": 3
   },
   "file_extension": ".py",
   "mimetype": "text/x-python",
   "name": "python",
   "nbconvert_exporter": "python",
   "pygments_lexer": "ipython3",
   "version": "3.9.6"
  }
 },
 "nbformat": 4,
 "nbformat_minor": 5
}