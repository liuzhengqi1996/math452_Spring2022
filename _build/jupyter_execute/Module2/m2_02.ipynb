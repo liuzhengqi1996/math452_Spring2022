{
 "cells": [
  {
   "cell_type": "markdown",
   "id": "b2ebbd62",
   "metadata": {},
   "source": [
    "# Probabilistic derivation of logistic regression models"
   ]
  },
  {
   "cell_type": "code",
   "execution_count": 1,
   "id": "0133bd55",
   "metadata": {
    "tags": [
     "hide-input"
    ]
   },
   "outputs": [],
   "source": [
    "from IPython.display import IFrame\n",
    "\n",
    "\n"
   ]
  },
  {
   "cell_type": "code",
   "execution_count": 2,
   "id": "91137c1e",
   "metadata": {
    "tags": [
     "hide-input"
    ]
   },
   "outputs": [
    {
     "data": {
      "text/html": [
       "\n",
       "<iframe\n",
       "    width=\"800\"\n",
       "    height=\"500\"\n",
       "    src=\"https://cdnapisec.kaltura.com/p/2356971/sp/235697100/embedIframeJs/uiconf_id/41416911/partner_id/2356971?iframeembed=true&playerId=kaltura_player&entry_id=1_dkf5g9x2&flashvars[streamerType]=auto&amp;flashvars[localizationCode]=en&amp;flashvars[leadWithHTML5]=true&amp;flashvars[sideBarContainer.plugin]=true&amp;flashvars[sideBarContainer.position]=left&amp;flashvars[sideBarContainer.clickToClose]=true&amp;flashvars[chapters.plugin]=true&amp;flashvars[chapters.layout]=vertical&amp;flashvars[chapters.thumbnailRotator]=false&amp;flashvars[streamSelector.plugin]=true&amp;flashvars[EmbedPlayer.SpinnerTarget]=videoHolder&amp;flashvars[dualScreen.plugin]=true&amp;flashvars[hotspots.plugin]=1&amp;flashvars[Kaltura.addCrossoriginToIframe]=true&amp;&wid=1_k0mdty1b\"\n",
       "    frameborder=\"0\"\n",
       "    allowfullscreen\n",
       "></iframe>\n"
      ],
      "text/plain": [
       "<IPython.lib.display.IFrame at 0x7feef1385160>"
      ]
     },
     "execution_count": 2,
     "metadata": {},
     "output_type": "execute_result"
    }
   ],
   "source": [
    "IFrame(src=\"https://cdnapisec.kaltura.com/p/2356971/sp/235697100/embedIframeJs/uiconf_id/41416911/partner_id/2356971?iframeembed=true&playerId=kaltura_player&entry_id=1_dkf5g9x2&flashvars[streamerType]=auto&amp;flashvars[localizationCode]=en&amp;flashvars[leadWithHTML5]=true&amp;flashvars[sideBarContainer.plugin]=true&amp;flashvars[sideBarContainer.position]=left&amp;flashvars[sideBarContainer.clickToClose]=true&amp;flashvars[chapters.plugin]=true&amp;flashvars[chapters.layout]=vertical&amp;flashvars[chapters.thumbnailRotator]=false&amp;flashvars[streamSelector.plugin]=true&amp;flashvars[EmbedPlayer.SpinnerTarget]=videoHolder&amp;flashvars[dualScreen.plugin]=true&amp;flashvars[hotspots.plugin]=1&amp;flashvars[Kaltura.addCrossoriginToIframe]=true&amp;&wid=1_k0mdty1b\",width='800', height='500')"
   ]
  },
  {
   "cell_type": "code",
   "execution_count": 3,
   "id": "207da1c4",
   "metadata": {
    "tags": [
     "hide-input"
    ]
   },
   "outputs": [
    {
     "data": {
      "text/html": [
       "\n",
       "<iframe\n",
       "    width=\"800\"\n",
       "    height=\"500\"\n",
       "    src=\"https://cdnapisec.kaltura.com/p/2356971/sp/235697100/embedIframeJs/uiconf_id/41416911/partner_id/2356971?iframeembed=true&playerId=kaltura_player&entry_id=1_4iie3va1&flashvars[streamerType]=auto&amp;flashvars[localizationCode]=en&amp;flashvars[leadWithHTML5]=true&amp;flashvars[sideBarContainer.plugin]=true&amp;flashvars[sideBarContainer.position]=left&amp;flashvars[sideBarContainer.clickToClose]=true&amp;flashvars[chapters.plugin]=true&amp;flashvars[chapters.layout]=vertical&amp;flashvars[chapters.thumbnailRotator]=false&amp;flashvars[streamSelector.plugin]=true&amp;flashvars[EmbedPlayer.SpinnerTarget]=videoHolder&amp;flashvars[dualScreen.plugin]=true&amp;flashvars[hotspots.plugin]=1&amp;flashvars[Kaltura.addCrossoriginToIframe]=true&amp;&wid=1_26lz0f8t\"\n",
       "    frameborder=\"0\"\n",
       "    allowfullscreen\n",
       "></iframe>\n"
      ],
      "text/plain": [
       "<IPython.lib.display.IFrame at 0x7feef13858b0>"
      ]
     },
     "execution_count": 3,
     "metadata": {},
     "output_type": "execute_result"
    }
   ],
   "source": [
    "IFrame(src=\"https://cdnapisec.kaltura.com/p/2356971/sp/235697100/embedIframeJs/uiconf_id/41416911/partner_id/2356971?iframeembed=true&playerId=kaltura_player&entry_id=1_4iie3va1&flashvars[streamerType]=auto&amp;flashvars[localizationCode]=en&amp;flashvars[leadWithHTML5]=true&amp;flashvars[sideBarContainer.plugin]=true&amp;flashvars[sideBarContainer.position]=left&amp;flashvars[sideBarContainer.clickToClose]=true&amp;flashvars[chapters.plugin]=true&amp;flashvars[chapters.layout]=vertical&amp;flashvars[chapters.thumbnailRotator]=false&amp;flashvars[streamSelector.plugin]=true&amp;flashvars[EmbedPlayer.SpinnerTarget]=videoHolder&amp;flashvars[dualScreen.plugin]=true&amp;flashvars[hotspots.plugin]=1&amp;flashvars[Kaltura.addCrossoriginToIframe]=true&amp;&wid=1_26lz0f8t\",width='800', height='500')"
   ]
  },
  {
   "cell_type": "code",
   "execution_count": 4,
   "id": "8b5c64b4",
   "metadata": {
    "tags": [
     "hide-input"
    ]
   },
   "outputs": [
    {
     "data": {
      "text/html": [
       "\n",
       "<iframe\n",
       "    width=\"800\"\n",
       "    height=\"500\"\n",
       "    src=\"https://cdnapisec.kaltura.com/p/2356971/sp/235697100/embedIframeJs/uiconf_id/41416911/partner_id/2356971?iframeembed=true&playerId=kaltura_player&entry_id=1_jqhzv8d2&flashvars[streamerType]=auto&amp;flashvars[localizationCode]=en&amp;flashvars[leadWithHTML5]=true&amp;flashvars[sideBarContainer.plugin]=true&amp;flashvars[sideBarContainer.position]=left&amp;flashvars[sideBarContainer.clickToClose]=true&amp;flashvars[chapters.plugin]=true&amp;flashvars[chapters.layout]=vertical&amp;flashvars[chapters.thumbnailRotator]=false&amp;flashvars[streamSelector.plugin]=true&amp;flashvars[EmbedPlayer.SpinnerTarget]=videoHolder&amp;flashvars[dualScreen.plugin]=true&amp;flashvars[hotspots.plugin]=1&amp;flashvars[Kaltura.addCrossoriginToIframe]=true&amp;&wid=1_wdm6rulh\"\n",
       "    frameborder=\"0\"\n",
       "    allowfullscreen\n",
       "></iframe>\n"
      ],
      "text/plain": [
       "<IPython.lib.display.IFrame at 0x7feef135ceb0>"
      ]
     },
     "execution_count": 4,
     "metadata": {},
     "output_type": "execute_result"
    }
   ],
   "source": [
    "IFrame(src=\"https://cdnapisec.kaltura.com/p/2356971/sp/235697100/embedIframeJs/uiconf_id/41416911/partner_id/2356971?iframeembed=true&playerId=kaltura_player&entry_id=1_jqhzv8d2&flashvars[streamerType]=auto&amp;flashvars[localizationCode]=en&amp;flashvars[leadWithHTML5]=true&amp;flashvars[sideBarContainer.plugin]=true&amp;flashvars[sideBarContainer.position]=left&amp;flashvars[sideBarContainer.clickToClose]=true&amp;flashvars[chapters.plugin]=true&amp;flashvars[chapters.layout]=vertical&amp;flashvars[chapters.thumbnailRotator]=false&amp;flashvars[streamSelector.plugin]=true&amp;flashvars[EmbedPlayer.SpinnerTarget]=videoHolder&amp;flashvars[dualScreen.plugin]=true&amp;flashvars[hotspots.plugin]=1&amp;flashvars[Kaltura.addCrossoriginToIframe]=true&amp;&wid=1_wdm6rulh\",width='800', height='500')"
   ]
  },
  {
   "cell_type": "markdown",
   "id": "441ec0fc",
   "metadata": {},
   "source": [
    "## Download the lecture notes here: [Notes](https://sites.psu.edu/math452/files/2022/01/B02ProbabilityLR_Video_MarkedNotes.pdf)"
   ]
  },
  {
   "cell_type": "markdown",
   "id": "eae6b38d",
   "metadata": {},
   "source": [
    "## Probability interpretation of logistic regression\n",
    "\n",
    "Logistic regression models the probabilities for classification problems\n",
    "with two possible outcomes. It's an extension of the linear regression\n",
    "model for classification problems.\n",
    "\n",
    "-   Input: d-dimension feature vector $x\\in R^{d}$\n",
    "\n",
    "-   Output: a class or label $l \\in\\{1, \\ldots, k\\}$ (how to classify)\n",
    "\n",
    "-   Example 1: Image classfication: Given input image\n",
    "    $x \\in R^{n \\times n}$, predict a label for the image. e.g. cat/\n",
    "    dog; MNIST: $\\{0, \\ldots, 9\\}$; CIFAR-10, $\\{0, \\ldots, 9\\}$\n",
    "\n",
    "-   Example 2: Binary Classfication: Given some medical data\n",
    "    $x\\in R^{d}$(features, like heart pressure, resting heart rate,\n",
    "    family history, etc), we try to predict incidence of heart disease.\n",
    "    The label will be binary $\\{0, 1\\}$, called binary classification.\n",
    "\n",
    "### Logistic Regression Model\n",
    "\n",
    "Given input feature vector $x\\in R^{n}$, the model predicts a\n",
    "probability distribution over the labels $\\{0, \\ldots, k\\}$.\n",
    "\n",
    "$$\n",
    "    \\mbox{affine linear map: }Ax+b:\\quad R^{n} \\rightarrow R^{k}\n",
    "$$\n",
    "\n",
    "with\n",
    "$A\\in R^{k \\times n}$, $x\\in R^{n}$, $b\\in R^{k}$.\n",
    "\n",
    "$$\n",
    "    \\mbox{softmax} \\left( Ax+b\\right) : \\quad R^{n} \\rightarrow R^{k} \\xrightarrow{softmax}P\\left( \\{1, \\ldots, k\\}\\right)\n",
    "$$\n",
    "\n",
    "Softmax:\n",
    "\n",
    "1.  Input:\n",
    "    $y \\in \\mathbb{R}^{k}=\\left(\\begin{array}{l}y_{1} \\\\ \\vdots \\\\ y_{k}\\end{array}\\right)$\n",
    "\n",
    "2.  Output: Distribution\n",
    "    $p(j)=\\frac{e^{y_{j}}}{\\sum_{i=1}^{n} e^{y_{i}}}$\n",
    "\n",
    "3.  Take exponential and normalize\n",
    "\n",
    "**Logistic Regression Model**: Given input (feature/data) $x \\in R^{n}$,\n",
    "we return the distribution softmax $\\left( Ax+b\\right)$ where A, b are\n",
    "parameters.\n",
    "\n",
    "-   Example 1: Divide data into two classes: parameters are\n",
    "    $\\vec{a}\\in \\mathbb{R}^{n}, b \\in \\mathbb{R}$\n",
    "    \n",
    "    $$\n",
    "        A\\in \\mathbb{R}^{1\\times n},\\quad Ax+b\\in \\mathbb{R}.\n",
    "    $$\n",
    "    \n",
    "    The\n",
    "    probability that the data $x$ belongs to class 1 is\n",
    "    \n",
    "    $$\n",
    "        P(1)=\\frac{e^{\\vec{a}\\cdot x+b}}{e^{\\vec{a} \\cdot x+b}+1},\n",
    "    $$ \n",
    "    \n",
    "    and\n",
    "    the probability that the data $x$ belongs to class 2 is\n",
    "    \n",
    "    $$\n",
    "        P(2)=\\frac{1}{e^{\\vec{a} \\cdot x+ b}+1}.\n",
    "    $$ \n",
    "    \n",
    "    If\n",
    "    $\\vec{a} \\cdot x+ b=0$, $P(1)=   P(2)={1\\over 2}$. We don't know how\n",
    "    to classify the data lying on the line $\\vec{a} \\cdot x+ b=0$ as\n",
    "    shown in the figure below.\n",
    "\n",
    "![image](../figures/probabilityLR1.png){width=\".55\\\\textwidth\"}\n",
    "\n",
    "Note that\n",
    "\n",
    "$$\n",
    "    \\frac{p(1)}{p(2)}=e^{\\vec{a} \\cdot x+b},\\quad \\log \\left(\\frac{p(1)}{p(2)}\\right)=\\vec{a} \\cdot x+b.\n",
    "$$\n",
    "\n",
    "By the above equation, $\\vec{a}$ means which feature is important.\n",
    "Logarithm of the odds: $\\log \\left(\\frac{p(1)}{p(2)}\\right)$.\n",
    "Assumption: $\\log \\left(\\frac{p(1)}{p(2)}\\right)$ is linear in the\n",
    "feature vector\n",
    "    \n",
    "### Learning the parameters $\\vec{a}, b$ from data \n",
    "\n",
    "Data: feature vectors $x$ and corresponding labels $l$. Given data\n",
    "\n",
    "$$\n",
    "    \\left\\{\\left(x_{1}, l_{1}\\right), \\ldots,\\left(x_{n}, l_{1}\\right)\\right\\}=D\n",
    "$$\n",
    "\n",
    "How can we estimate A, b?"
   ]
  },
  {
   "cell_type": "code",
   "execution_count": null,
   "id": "7e0d46a7",
   "metadata": {},
   "outputs": [],
   "source": []
  }
 ],
 "metadata": {
  "celltoolbar": "Tags",
  "kernelspec": {
   "display_name": "Python 3",
   "language": "python",
   "name": "python3"
  },
  "language_info": {
   "codemirror_mode": {
    "name": "ipython",
    "version": 3
   },
   "file_extension": ".py",
   "mimetype": "text/x-python",
   "name": "python",
   "nbconvert_exporter": "python",
   "pygments_lexer": "ipython3",
   "version": "3.8.8"
  }
 },
 "nbformat": 4,
 "nbformat_minor": 5
}