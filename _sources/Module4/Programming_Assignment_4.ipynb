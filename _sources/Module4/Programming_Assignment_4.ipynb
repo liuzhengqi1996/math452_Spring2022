{
 "cells": [
  {
   "cell_type": "markdown",
   "metadata": {},
   "source": [
    "# Week 4 Programming Assignment \n",
    "\n",
    "Remark: \n",
    "\n",
    "Please upload your solutions of this assignment to Canvas with a file named \"Programming_Assignment_4 _yourname.ipynb\" "
   ]
  },
  {
   "cell_type": "markdown",
   "metadata": {
    "colab_type": "text",
    "id": "l2ENBj8Nz3kg"
   },
   "source": [
    "================================================================================================================="
   ]
  },
  {
   "cell_type": "markdown",
   "metadata": {},
   "source": [
    "## Problem 1 : Given a image $x$, use Pytorch to apply the following three operations to the image sequentially:\n",
    "\n",
    "### (1) Do a convolution  $x_{conv1}= self.conv1(x)$ with $stride=1$,  zero $padding=2$ and  the $kernel_1$:\n",
    "### $$\n",
    "Kernel_1=\\begin{bmatrix} \n",
    "0 & 0 & -1 & 0 & 0 \\\\                 \n",
    "0&-1&-2&-1& 0\\\\\n",
    "-1&-2&16&-2&-1\\\\\n",
    "0&-1&-2&-1& 0\\\\\n",
    "0& 0&-1& 0& 0 \n",
    "\\end{bmatrix}\n",
    "$$\n",
    "\n",
    "### (2) Do a ReLu $x_{relu} = F.relu(x_{conv1})$\n",
    "\n",
    "### (3) Do another convolution  $x_{conv2}= self.conv2(x_{relu})$  with $stride=1$,  zero $padding=1$ and the average $kernel_2$:\n",
    "### $$\n",
    "Kernel_2=\\begin{bmatrix} \n",
    "\\frac{1}{9} & \\frac{1}{9} &\\frac{1}{9}  \\\\                 \n",
    "\\frac{1}{9} & \\frac{1}{9} &\\frac{1}{9}  \\\\                 \n",
    "\\frac{1}{9} & \\frac{1}{9} &\\frac{1}{9}  \n",
    "\\end{bmatrix}\n",
    "$$\n",
    "### Define a model which includes:  a convolutional layer self.conv1(), ReLu and another convolutional layer self.conv2(). Plot four images which are $x,~x_{conv1},~x_{relu},~x_{conv2}.$\n"
   ]
  },
  {
   "cell_type": "code",
   "execution_count": null,
   "metadata": {},
   "outputs": [],
   "source": [
    "# You can finish the following code to solve Problem 1.\n",
    "from PIL import Image\n",
    "import numpy as np\n",
    "import torch\n",
    "import torchvision\n",
    "import torch.nn as nn\n",
    "import torch.nn.functional as F\n",
    "from torch.autograd import Variable\n",
    "import matplotlib.pyplot as plt\n",
    "#Step I: Deal with the data\n",
    "def read_image():    \n",
    "    im = Image.open('./lena.png')\n",
    "    im_array = np.array(im)\n",
    "    # transfer im_array to 4th order torch.tensor \n",
    "    im_array=torch.from_numpy(im_array)\n",
    "    im_array=im_array.reshape(1,1,im_array.size(0),im_array.size(1))\n",
    "    im_array=im_array.type(torch.FloatTensor)\n",
    "    return im_array\n",
    "\n",
    "#Step II: Define a function to plot the image: give 4th order torch.tensor \n",
    "\n",
    "def plot_images(images):\n",
    "    plt.rcParams[\"figure.figsize\"]=10,10 # change the figure size for plotting\n",
    "    images_for_plot = images[0,0,:,:] \n",
    "    plt.imshow(images_for_plot.detach().numpy(), cmap='gray') \n",
    "    plt.show()\n",
    "    \n",
    "\n",
    "#Step III: Define the operators\n",
    "    \n",
    "class model(nn.Module):\n",
    "    def __init__(self):\n",
    "        super(model, self).__init__()\n",
    "\n",
    "        # Define the first convolutional layer\n",
    "        kernel_1 = torch.tensor({Define your kernel here},dtype=torch.float32)\n",
    "        # reshape your 2nd order tensor to 4th order tensor. Think about why?\n",
    "        kernel_1 = kernel_1.reshape(1,1,kernel_1.size(0),kernel_1.size(1)) \n",
    "        self.conv1 = nn.Conv2d(1, 1, kernel_1.size(2), padding=2)\n",
    "        # assign kerner_1 to conv1 layer.\n",
    "        self.conv1.weight = torch.nn.Parameter(kernel_1)\n",
    "        \n",
    "        \n",
    "        # Define the second convolutional layer\n",
    "            \n",
    "    def forward(self, x):\n",
    "        x_conv1 = {Write your code}\n",
    "        x_relu = {Write your code}\n",
    "        x_conv2 = {Write your code}\n",
    "        return x_conv1,x_relu,x_conv2\n",
    "    \n",
    "#Step IV: Show results:\n",
    "x=read_image()\n",
    "my_model=model()\n",
    "x_conv1,x_relu,x_conv2 = my_model(x)\n",
    "\n",
    "print('Original image')\n",
    "{Write your code to plot the original image}\n",
    "print('Apply the first convolution')\n",
    "{Write your code to plot the image after applying the first convolution}\n",
    "print('Apply the first convolution and ReLU')\n",
    "{Write your code to plot the image after applying the first convolution and ReLU}\n",
    "print('Apply the first convolution, ReLU and the second convolution')\n",
    "{Write your code to plot the image after applying the first convolution, ReLU and the second convolution}"
   ]
  },
  {
   "cell_type": "markdown",
   "metadata": {
    "colab_type": "text",
    "id": "l2ENBj8Nz3kg"
   },
   "source": [
    "================================================================================================================="
   ]
  },
  {
   "cell_type": "markdown",
   "metadata": {},
   "source": [
    "## **Problem 2 (5 pts).** Try to use stochastic gradient descent method to train CIFAR10 with LeNet-5 to achieve 60% test accuracy. Apply the following two strategies:\n",
    "\n",
    "* ### Run 30 epochs, and divide the learning rate by 10 every 10 epochs\n",
    "* ### Weight decay \n",
    "* ### Data normalization\n",
    "\n",
    "\n",
    "\n",
    "### Print the results with the following format:\n",
    "\n",
    "   \"Epoch: i, Training accuracy: $a_i$, Test accuracy: $b_i$\"\n",
    "\n",
    "where $i=1,2,3,...$ means the $i$-th epoch,  $a_i$ and $b_i$ are the training accuracy and test accuracy computed at the end of $i$-th epoch."
   ]
  },
  {
   "cell_type": "code",
   "execution_count": null,
   "metadata": {},
   "outputs": [],
   "source": []
  },
  {
   "cell_type": "markdown",
   "metadata": {},
   "source": [
    "================================================================================================================="
   ]
  },
  {
   "cell_type": "markdown",
   "metadata": {},
   "source": [
    "## **Optional Problem 1.** Try to use stochastic gradient descent method to train MNIST with LeNet-5 to achieve 99% test accuracy. Apply the following two strategies:\n",
    "\n",
    "* ### Run 20 epochs, and divide the learning rate by 10 every 10 epochs\n",
    "* ### Weight decay \n",
    "\n",
    "### Print the results with the following format:\n",
    "\n",
    "   \"Epoch: i, Training accuracy: $a_i$, Test accuracy: $b_i$\"\n",
    "\n",
    "where $i=1,2,3,...$ means the $i$-th epoch,  $a_i$ and $b_i$ are the training accuracy and test accuracy computed at the end of $i$-th epoch."
   ]
  },
  {
   "cell_type": "markdown",
   "metadata": {},
   "source": [
    "================================================================================================================="
   ]
  },
  {
   "cell_type": "markdown",
   "metadata": {},
   "source": [
    "## **Optional Problem 2.** Try to use stochastic gradient descent method to train CIFAR10 with a CNN to achieve 70% test accuracy. For the CNN model, you can modified the LeNet-5:\n",
    "\n",
    "* ### Increase the number of out_channels in conv1 from 6 to 16 or more.\n",
    "* ### Increase the number of out_channels in conv2 from 16 to 32 or more.  \n",
    "* ### You will also need to change the size of fc1 layer.\n",
    "\n",
    "\n",
    "Apply the following two strategies:\n",
    "\n",
    "* ### Run 30 epochs, and divide the learning rate by 10 every 10 epochs\n",
    "* ### Weight decay \n",
    "* ### Data normalization\n",
    "\n",
    "\n",
    "\n",
    "### Print the results with the following format:\n",
    "\n",
    "   \"Epoch: i, Training accuracy: $a_i$, Test accuracy: $b_i$\"\n",
    "\n",
    "where $i=1,2,3,...$ means the $i$-th epoch,  $a_i$ and $b_i$ are the training accuracy and test accuracy computed at the end of $i$-th epoch.\n",
    "\n"
   ]
  },
  {
   "cell_type": "code",
   "execution_count": null,
   "metadata": {},
   "outputs": [],
   "source": []
  }
 ],
 "metadata": {
  "colab": {
   "collapsed_sections": [
    "A8btbBuFz3j_",
    "8tnDF8N5z3j_",
    "6NGxntKLz3kO",
    "t8Op_NP5z3kf",
    "eY74kXCSz3kg",
    "PsX9sU1Nz3kh",
    "tt6oay6Rz3kk",
    "kTHHlHSbz3kn",
    "O-OyyHliz3ko",
    "cL_XkTgmz3k1",
    "QFdILTiHz3k1",
    "XmhEkm0nz3k2",
    "bn4Pbjwgz3k4",
    "MJn6VYpQz3k8",
    "JOcri38sz3k8"
   ],
   "name": "Lecture1.ipynb",
   "provenance": []
  },
  "kernelspec": {
   "display_name": "Python 3",
   "language": "python",
   "name": "python3"
  },
  "language_info": {
   "codemirror_mode": {
    "name": "ipython",
    "version": 3
   },
   "file_extension": ".py",
   "mimetype": "text/x-python",
   "name": "python",
   "nbconvert_exporter": "python",
   "pygments_lexer": "ipython3",
   "version": "3.8.8"
  }
 },
 "nbformat": 4,
 "nbformat_minor": 1
}
