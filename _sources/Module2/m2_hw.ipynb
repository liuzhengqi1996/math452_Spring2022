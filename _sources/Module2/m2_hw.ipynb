{
 "cells": [
  {
   "cell_type": "markdown",
   "id": "e916f756",
   "metadata": {},
   "source": [
    "# Homework 2"
   ]
  },
  {
   "cell_type": "markdown",
   "id": "61e07941",
   "metadata": {},
   "source": [
    "## Download the Module 2 homework here: [Homework2](https://sites.psu.edu/math452/files/2022/01/HWWeek2.pdf)"
   ]
  },
  {
   "cell_type": "code",
   "execution_count": null,
   "id": "4e8ab557",
   "metadata": {},
   "outputs": [],
   "source": []
  }
 ],
 "metadata": {
  "kernelspec": {
   "display_name": "Python 3",
   "language": "python",
   "name": "python3"
  },
  "language_info": {
   "codemirror_mode": {
    "name": "ipython",
    "version": 3
   },
   "file_extension": ".py",
   "mimetype": "text/x-python",
   "name": "python",
   "nbconvert_exporter": "python",
   "pygments_lexer": "ipython3",
   "version": "3.8.8"
  }
 },
 "nbformat": 4,
 "nbformat_minor": 5
}
