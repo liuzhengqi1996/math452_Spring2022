{
 "cells": [
  {
   "cell_type": "markdown",
   "metadata": {},
   "source": [
    "# Building and Training Deep Neural Networks (DNNs) with Pytorch\n",
    "\n"
   ]
  },
  {
   "cell_type": "markdown",
   "metadata": {},
   "source": [
    "This lecture includes:\n",
    "\n",
    "1. Build DNNs\n",
    "3. Train MNIST with DNNs"
   ]
  },
  {
   "cell_type": "markdown",
   "metadata": {},
   "source": [
    "## Class in Python"
   ]
  },
  {
   "cell_type": "markdown",
   "metadata": {},
   "source": [
    "Classes in Python provide a means of data and functionality together"
   ]
  },
  {
   "cell_type": "code",
   "execution_count": 2,
   "metadata": {},
   "outputs": [
    {
     "name": "stdout",
     "output_type": "stream",
     "text": [
      "The number of students is: 40\n",
      "The number of students is: 45\n",
      "The number of students is: 40\n"
     ]
    }
   ],
   "source": [
    "# Define a class\n",
    "class Math497():\n",
    "    def __init__(self):\n",
    "        self.num_students = 40\n",
    "        num = 100\n",
    "    def add_students(self,x):\n",
    "        self.num_students += x \n",
    "    \n",
    "summer_course = Math497() # create a object\n",
    "\n",
    "print('The number of students is:', summer_course.num_students)\n",
    "summer_course.add_students(5)\n",
    "print('The number of students is:', summer_course.num_students)\n",
    "summer_course.add_students(-5)\n",
    "print('The number of students is:', summer_course.num_students)"
   ]
  },
  {
   "cell_type": "code",
   "execution_count": 3,
   "metadata": {},
   "outputs": [],
   "source": [
    "# Define a child class of Math497()\n",
    "class undergraduate(Math497):\n",
    "    def __init__(self):\n",
    "        super().__init__()  # super().__init__()  inherit parent's __init__() function.\n",
    "        self.num_undergraduate_students = 34\n",
    "    def add_undergraduate_students(self,x):\n",
    "        self.num_students += x  # self.add_students(x) also works\n",
    "        self.num_undergraduate_students += x "
   ]
  },
  {
   "cell_type": "code",
   "execution_count": 4,
   "metadata": {},
   "outputs": [
    {
     "name": "stdout",
     "output_type": "stream",
     "text": [
      "The number of undergraduate students in Math497 is: 34\n",
      "The number of students in Math497 is: 40\n",
      "The number of undergraduate students in Math497 is: 36\n",
      "The number of students in Math497 is: 42\n"
     ]
    }
   ],
   "source": [
    "ug =undergraduate()\n",
    "print('The number of undergraduate students in Math497 is:', ug.num_undergraduate_students)\n",
    "print('The number of students in Math497 is:', ug.num_students)\n",
    "\n",
    "ug.add_undergraduate_students(2)\n",
    "print('The number of undergraduate students in Math497 is:', ug.num_undergraduate_students)\n",
    "print('The number of students in Math497 is:', ug.num_students)\n"
   ]
  },
  {
   "cell_type": "markdown",
   "metadata": {},
   "source": [
    "## Module in Python"
   ]
  },
  {
   "cell_type": "markdown",
   "metadata": {},
   "source": [
    "Consider a module to be the same as a code library. To create a module just save the code you want in a file with the file extension .py\n",
    "\n",
    "See Course.py as example"
   ]
  },
  {
   "cell_type": "code",
   "execution_count": 7,
   "metadata": {},
   "outputs": [
    {
     "name": "stdout",
     "output_type": "stream",
     "text": [
      "The number of students in my class is: 40\n"
     ]
    }
   ],
   "source": [
    "import Course\n",
    "\n",
    "#  If our module changed, we would have to reload it with the following commands\n",
    "import imp\n",
    "imp.reload(Course)\n",
    "\n",
    "my_class = Course.Math497()\n",
    "print('The number of students in my class is:', my_class.num_students)"
   ]
  },
  {
   "cell_type": "markdown",
   "metadata": {},
   "source": [
    "## 1. Build DNNs"
   ]
  },
  {
   "cell_type": "markdown",
   "metadata": {},
   "source": [
    "DNN includes:    \n",
    "\n",
    "* input layer: given images $x$\n",
    " \n",
    "* $l$-hidden layers: denote $x^{0}=x$\n",
    "$$ \n",
    "\\begin{eqnarray}\n",
    "&x^{1} = \\sigma (x^0{W^0}^{T}+b^0), &&\\text{first hidden layer}\\\\\n",
    "&x^{2} = \\sigma (x^1{W^1}^{T}+b^1), &&\\text{second hidden layer}\\\\\n",
    "&\\vdots &&\\\\\n",
    "&x^{l} = \\sigma (x^{l-1}{W^{l-1}}^{T}+b^{l-1}), &&l\\text{-th hidden layer}\\\\\n",
    "\\end{eqnarray}\n",
    "$$\n",
    "\n",
    "* output layer: outputs$=(x^{l}{W^{l}}^{T}+b^{l})$"
   ]
  },
  {
   "cell_type": "code",
   "execution_count": 4,
   "metadata": {},
   "outputs": [
    {
     "name": "stdout",
     "output_type": "stream",
     "text": [
      "torch.Size([500, 784])\n",
      "torch.Size([500])\n",
      "torch.Size([250, 500])\n",
      "torch.Size([250])\n",
      "torch.Size([10, 250])\n",
      "torch.Size([10])\n"
     ]
    }
   ],
   "source": [
    "import torch.nn as nn\n",
    "import torch.nn.functional as F\n",
    "# Note that: \n",
    "# (1)torch.nn.Module is a Class\n",
    "# (2)torch.nn is a Module\n",
    "# You can not import torch.nn.Modules\n",
    "class model(nn.Module):  #\n",
    "    def __init__(self,input_size,num_classes):\n",
    "        super().__init__() \n",
    "        self.fc1 = nn.Linear(input_size, 500) \n",
    "        self.fc2 = nn.Linear(500, 250) \n",
    "        self.fc3 = nn.Linear(250, num_classes) \n",
    "    def forward(self, x): #Defines the computation performed at every call.\n",
    "        x = F.relu(self.fc1(x))\n",
    "        x = F.relu(self.fc2(x))\n",
    "        x = self.fc3(x)\n",
    "        return x\n",
    "\n",
    "input_size = 784\n",
    "num_classes = 10\n",
    "hidden_size = 500\n",
    "my_model =model(input_size, num_classes)\n",
    "print(my_model.fc1.weight.size())\n",
    "print(my_model.fc1.bias.size())\n",
    "print(my_model.fc2.weight.size())\n",
    "print(my_model.fc2.bias.size())\n",
    "print(my_model.fc3.weight.size())\n",
    "print(my_model.fc3.bias.size())\n",
    "\n",
    "# Question: When we call model(images), the forward(self,x) will run automatically. Why?  check __call__ "
   ]
  },
  {
   "cell_type": "markdown",
   "metadata": {},
   "source": [
    "## 2. Train a DNN model on MNIST"
   ]
  },
  {
   "cell_type": "code",
   "execution_count": 1,
   "metadata": {},
   "outputs": [
    {
     "name": "stdout",
     "output_type": "stream",
     "text": [
      "Epoch: 1, the training accuracy: 0.90265, the test accuracy: 0.9086\n",
      "Epoch: 2, the training accuracy: 0.9261, the test accuracy: 0.9284\n"
     ]
    }
   ],
   "source": [
    "import torch\n",
    "import torch.nn as nn \n",
    "import torch.optim as optim\n",
    "import torchvision\n",
    "import torch.nn.functional as F\n",
    "\n",
    "# Define a 1-hidden layer neural network.\n",
    "class model(nn.Module): \n",
    "    def __init__(self,input_size,hidden_size,num_classes):\n",
    "        super().__init__() \n",
    "        self.fc1 = nn.Linear(input_size, hidden_size) \n",
    "        self.fc2 = nn.Linear(hidden_size, num_classes) \n",
    "    def forward(self, x): \n",
    "        x = x.reshape(x.size(0), input_size) # you can reshape the iamges here. \n",
    "        x = F.relu(self.fc1(x))\n",
    "        x = self.fc2(x)\n",
    "        return x\n",
    "\n",
    "\n",
    "\n",
    "input_size = 784\n",
    "hidden_size = 500\n",
    "num_classes = 10\n",
    "\n",
    "minibatch_size = 128\n",
    "num_epochs = 2\n",
    "lr = 0.1\n",
    "\n",
    "# Step 1: Define a model\n",
    "my_model =model(input_size,hidden_size, num_classes)\n",
    "\n",
    "# Step 2: Define a loss function and training algorithm\n",
    "criterion = nn.CrossEntropyLoss()\n",
    "optimizer = optim.SGD(my_model.parameters(), lr=lr)\n",
    "\n",
    "\n",
    "# Step 3: load dataset\n",
    "\n",
    "MNIST_transform = torchvision.transforms.Compose([torchvision.transforms.ToTensor()])\n",
    "\n",
    "trainset = torchvision.datasets.MNIST(root='./data', train= True, download=True, transform=MNIST_transform)\n",
    "\n",
    "\n",
    "trainloader = torch.utils.data.DataLoader(trainset, batch_size=minibatch_size)\n",
    "\n",
    "testset = torchvision.datasets.MNIST(root='./data', train= False, download=True, transform=MNIST_transform)\n",
    "\n",
    "\n",
    "testloader = torch.utils.data.DataLoader(testset, batch_size=1) \n",
    "\n",
    "#Step 4: Train the NNs\n",
    "# One epoch is when an entire dataset is passed through the neural network only once.\n",
    "for epoch in range(num_epochs):\n",
    "    for i, (images, labels) in enumerate(trainloader):\n",
    "        \n",
    "        #images = images.reshape(images.size(0), 28*28) # move this reshape to model class\n",
    "\n",
    "        # Forward pass to get the loss\n",
    "        outputs = my_model(images) \n",
    "        loss = criterion(outputs, labels)\n",
    "        \n",
    "        # Backward and compute the gradient\n",
    "        optimizer.zero_grad()\n",
    "        loss.backward()  #backpropragation\n",
    "        optimizer.step() #update the weights/parameters\n",
    "        \n",
    "    # Training accuracy\n",
    "    correct = 0\n",
    "    total = 0\n",
    "    for i, (images, labels) in enumerate(trainloader):\n",
    "        #images = images.reshape(images.size(0), 28*28) # move this reshape to model class\n",
    "        outputs = my_model(images)\n",
    "        p_max, predicted = torch.max(outputs, 1) \n",
    "        total += labels.size(0)\n",
    "        correct += (predicted == labels).sum()\n",
    "    training_accuracy = float(correct)/total\n",
    "\n",
    "    \n",
    "    # Test accuracy\n",
    "    correct = 0\n",
    "    total = 0\n",
    "    for i, (images, labels) in enumerate(testloader):\n",
    "        #images = images.reshape(images.size(0), 28*28) # move this reshape to model class\n",
    "        outputs = my_model(images)\n",
    "        p_max, predicted = torch.max(outputs, 1) \n",
    "        total += labels.size(0)\n",
    "        correct += (predicted == labels).sum()\n",
    "    test_accuracy = float(correct)/total\n",
    "        \n",
    "    print('Epoch: {}, the training accuracy: {}, the test accuracy: {}' .format(epoch+1,training_accuracy,test_accuracy))               \n"
   ]
  },
  {
   "cell_type": "markdown",
   "metadata": {},
   "source": [
    "## Reading material\n",
    "\n",
    "1. Details of torch.nn https://pytorch.org/docs/stable/nn.html\n",
    "\n",
    "2. Details of torch package https://pytorch.org/docs/stable/torch.html\n"
   ]
  },
  {
   "cell_type": "code",
   "execution_count": null,
   "metadata": {},
   "outputs": [],
   "source": []
  }
 ],
 "metadata": {
  "kernelspec": {
   "display_name": "Python 3",
   "language": "python",
   "name": "python3"
  },
  "language_info": {
   "codemirror_mode": {
    "name": "ipython",
    "version": 3
   },
   "file_extension": ".py",
   "mimetype": "text/x-python",
   "name": "python",
   "nbconvert_exporter": "python",
   "pygments_lexer": "ipython3",
   "version": "3.8.8"
  }
 },
 "nbformat": 4,
 "nbformat_minor": 2
}
