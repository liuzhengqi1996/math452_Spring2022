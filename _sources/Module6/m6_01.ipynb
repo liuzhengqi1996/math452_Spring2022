{
 "cells": [
  {
   "cell_type": "markdown",
   "metadata": {},
   "source": [
    "# MgNet: a special CNN based on multigrid method "
   ]
  },
  {
   "cell_type": "code",
   "execution_count": 1,
   "metadata": {},
   "outputs": [
    {
     "data": {
      "text/html": [
       "\n",
       "        <iframe\n",
       "            width=\"800\"\n",
       "            height=\"500\"\n",
       "            src=\"https://cdnapisec.kaltura.com/p/2356971/sp/235697100/embedIframeJs/uiconf_id/41416911/partner_id/2356971?iframeembed=true&playerId=kaltura_player&entry_id=1_luk1i2xr&flashvars[streamerType]=auto&amp;flashvars[localizationCode]=en&amp;flashvars[leadWithHTML5]=true&amp;flashvars[sideBarContainer.plugin]=true&amp;flashvars[sideBarContainer.position]=left&amp;flashvars[sideBarContainer.clickToClose]=true&amp;flashvars[chapters.plugin]=true&amp;flashvars[chapters.layout]=vertical&amp;flashvars[chapters.thumbnailRotator]=false&amp;flashvars[streamSelector.plugin]=true&amp;flashvars[EmbedPlayer.SpinnerTarget]=videoHolder&amp;flashvars[dualScreen.plugin]=true&amp;flashvars[hotspots.plugin]=1&amp;flashvars[Kaltura.addCrossoriginToIframe]=true&amp;&wid=1_s9zzktyl\"\n",
       "            frameborder=\"0\"\n",
       "            allowfullscreen\n",
       "        ></iframe>\n",
       "        "
      ],
      "text/plain": [
       "<IPython.lib.display.IFrame at 0x1069b7780>"
      ]
     },
     "execution_count": 1,
     "metadata": {},
     "output_type": "execute_result"
    }
   ],
   "source": [
    "from IPython.display import IFrame\n",
    "\n",
    "IFrame(src=\"https://cdnapisec.kaltura.com/p/2356971/sp/235697100/embedIframeJs/uiconf_id/41416911/partner_id/2356971?iframeembed=true&playerId=kaltura_player&entry_id=1_luk1i2xr&flashvars[streamerType]=auto&amp;flashvars[localizationCode]=en&amp;flashvars[leadWithHTML5]=true&amp;flashvars[sideBarContainer.plugin]=true&amp;flashvars[sideBarContainer.position]=left&amp;flashvars[sideBarContainer.clickToClose]=true&amp;flashvars[chapters.plugin]=true&amp;flashvars[chapters.layout]=vertical&amp;flashvars[chapters.thumbnailRotator]=false&amp;flashvars[streamSelector.plugin]=true&amp;flashvars[EmbedPlayer.SpinnerTarget]=videoHolder&amp;flashvars[dualScreen.plugin]=true&amp;flashvars[hotspots.plugin]=1&amp;flashvars[Kaltura.addCrossoriginToIframe]=true&amp;&wid=1_s9zzktyl\",width='800', height='500')"
   ]
  },
  {
   "cell_type": "markdown",
   "metadata": {},
   "source": [
    "## Download the lecture notes here: [Notes](https://sites.psu.edu/math452/files/2022/03/F01MgNet.pdf)"
   ]
  },
  {
   "cell_type": "markdown",
   "metadata": {},
   "source": [
    "1D and 2D Finite Element and Multigrid\n",
    "-------------------------------------\n",
    "\n",
    "1D and 2D Comparison for Finite Element and Multigrid\n",
    "\n",
    "![image](images/img1.png)\n",
    "\n",
    "Basic multigrid components\n",
    "\n",
    "![image](images/img2.png)\n",
    "\n",
    "### Multigrid algorithm for $A * \\mu=f$\n",
    "\n",
    "```{prf:algorithm} A multigrid algorithm $\\mu=\\operatorname{MG} 1\\left(f ; \\mu^{0} ; J, v_{1}, \\cdots, v_{J}\\right)$\n",
    ":label: alg61_1\n",
    "Set up:\n",
    "\n",
    "$$\n",
    "    f^{1}=f, \\quad \\mu^{1}=\\mu^{0}\n",
    "$$\n",
    "\n",
    "Smoothing and restriction from fine to coarse level (nested)\n",
    "\n",
    "**For** $\\ell=1: J$ do\n",
    "\n",
    "**For** $i=1: v_{\\ell}$ do\n",
    "\n",
    "$$\n",
    "    \\mu^{\\ell} \\leftarrow \\mu^{\\ell}+S^{\\ell} *\\left(f^{\\ell}-A_{\\ell} * \\mu^{\\ell}\\right)\n",
    "$$\n",
    "\n",
    "**EndFor**\n",
    "\n",
    "Form restricted residual and set initial guess:\n",
    "\n",
    "$$\n",
    "    \\mu^{\\ell+1} \\leftarrow \\Pi_{\\ell}^{\\ell+1} \\mu^{\\ell}, \\quad f^{\\ell+1} \\leftarrow R *_{2}\\left(f^{\\ell}-A_{\\ell} * \\mu^{\\ell}\\right)+A_{\\ell+1} * \\mu^{\\ell+1}\n",
    "$$\n",
    "\n",
    "**EndFor**\n",
    "\n",
    "Prolongation and restriction from coarse to fine level\n",
    "\n",
    "**For** $\\ell=J-1: 1$ do\n",
    "\n",
    "$$\n",
    "    \\mu^{\\ell} \\leftarrow \\mu^{\\ell}+R *_{2}^{\\top}\\left(\\mu^{\\ell+1}-\\Pi_{\\ell}^{\\ell+1} \\mu^{\\ell}\\right)\n",
    "$$\n",
    "\n",
    "**EndFor**\n",
    "\n",
    "$$\n",
    "    \\mu \\leftarrow \\mu^{1}\n",
    "$$ \n",
    "\n",
    "```\n",
    "\n",
    "\n",
    "```{admonition} Remark\n",
    "The above multigrid method\n",
    "for the linear problem $A * \\mu=b$ is independent of the choice of the\n",
    "interpolation operation\n",
    "$\\Pi_{\\ell}^{\\ell+1}: \\mathbb{R}^{n_{\\ell} \\times n_{\\ell}} \\mapsto \\mathbb{R}^{n_{\\ell+1} \\times n_{\\ell+1}}$\n",
    "and in particular, we could take $\\Pi_{\\ell}^{\\ell+1}:=0$. But such an\n",
    "operation is critical for nonlinear problems.\n",
    "```\n",
    "\n",
    "### MgNet\n",
    "\n",
    "```{prf:algorithm} $\\mu^{J}=\\operatorname{MgNet} 1\\left(f ; \\mu^{0} ; J, v_{1}, \\cdots, v_{J}\\right)$\n",
    ":label: alg61_2\n",
    "Set up:\n",
    "\n",
    "$$\n",
    "    \\qquad f^{1}=\\theta * f, \\quad \\mu^{1}=\\mu^{0} \n",
    "$$\n",
    "\n",
    "Smoothing and restriction from fine to coarse level (nested)\n",
    "\n",
    "**For** $\\ell=1: J$ do \n",
    "\n",
    "$\\quad$\n",
    "\n",
    "**For** $i=1: v_{\\ell}$ do\n",
    "\n",
    "$$\n",
    "    \\quad \\mu^{\\ell} \\leftarrow \\mu^{\\ell}+\\sigma \\circ S^{\\ell} * \\sigma \\circ\\left(f^{\\ell}-A_{\\ell} * \\mu^{\\ell}\\right)\n",
    "$$\n",
    "\n",
    "**EndFor**\n",
    "\n",
    "Form restricted residual and set initial guess:\n",
    "\n",
    "$$\n",
    "    \\quad \\mu^{\\ell+1} \\leftarrow \\Pi_{\\ell}^{\\ell+1} \\mu^{\\ell}, \\quad f^{\\ell+1} \\leftarrow R *_{2}\\left(f^{\\ell}-A_{\\ell} * \\mu^{\\ell}\\right)+A_{\\ell+1} * \\mu^{\\ell+1}\n",
    "$$\n",
    "\n",
    "**EndFor**\n",
    "```\n"
   ]
  },
  {
   "cell_type": "code",
   "execution_count": null,
   "metadata": {},
   "outputs": [],
   "source": []
  }
 ],
 "metadata": {
  "kernelspec": {
   "display_name": "Python 3",
   "language": "python",
   "name": "python3"
  },
  "language_info": {
   "codemirror_mode": {
    "name": "ipython",
    "version": 3
   },
   "file_extension": ".py",
   "mimetype": "text/x-python",
   "name": "python",
   "nbconvert_exporter": "python",
   "pygments_lexer": "ipython3",
   "version": "3.8.8"
  }
 },
 "nbformat": 4,
 "nbformat_minor": 2
}
