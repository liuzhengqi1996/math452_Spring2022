{
 "cells": [
  {
   "cell_type": "markdown",
   "id": "08fd3936",
   "metadata": {},
   "source": [
    "# Support vector machine and relation with LR"
   ]
  },
  {
   "cell_type": "markdown",
   "id": "1c65c000",
   "metadata": {},
   "source": [
    "It's an optional section"
   ]
  },
  {
   "cell_type": "markdown",
   "id": "3b317160",
   "metadata": {},
   "source": [
    "## Download the lecture notes here: [Notes](https://sites.psu.edu/math452/files/2021/12/A05SVMLogisticRegression_Video_Notes.pdf)"
   ]
  },
  {
   "cell_type": "markdown",
   "id": "47df7abc",
   "metadata": {},
   "source": []
  },
  {
   "cell_type": "code",
   "execution_count": null,
   "id": "3af6eccd",
   "metadata": {},
   "outputs": [],
   "source": []
  }
 ],
 "metadata": {
  "kernelspec": {
   "display_name": "Python 3",
   "language": "python",
   "name": "python3"
  },
  "language_info": {
   "codemirror_mode": {
    "name": "ipython",
    "version": 3
   },
   "file_extension": ".py",
   "mimetype": "text/x-python",
   "name": "python",
   "nbconvert_exporter": "python",
   "pygments_lexer": "ipython3",
   "version": "3.8.8"
  }
 },
 "nbformat": 4,
 "nbformat_minor": 5
}
